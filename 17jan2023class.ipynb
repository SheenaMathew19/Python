{
 "cells": [
  {
   "cell_type": "code",
   "execution_count": 3,
   "id": "f794868a-2865-417c-a1d4-54eb43d03be4",
   "metadata": {},
   "outputs": [
    {
     "name": "stdin",
     "output_type": "stream",
     "text": [
      "enter the first number 10\n",
      "enter the second number 20\n"
     ]
    },
    {
     "name": "stdout",
     "output_type": "stream",
     "text": [
      "30\n"
     ]
    }
   ],
   "source": [
    "def add2numbers():\n",
    "    a=int(input(\"enter the first number\"))\n",
    "    b=int(input(\"enter the second number\"))\n",
    "    c=a+b\n",
    "    print(c)\n",
    "add2numbers()\n",
    "    "
   ]
  },
  {
   "cell_type": "code",
   "execution_count": 8,
   "id": "3914a1f8-3465-454b-89af-280d780c9f95",
   "metadata": {},
   "outputs": [
    {
     "name": "stdin",
     "output_type": "stream",
     "text": [
      "enter a number -6\n"
     ]
    },
    {
     "name": "stdout",
     "output_type": "stream",
     "text": [
      "6\n"
     ]
    }
   ],
   "source": [
    "def getabsolute():\n",
    "    a=int(input(\"enter a number\"))\n",
    "    b=abs(a)\n",
    "    return b\n",
    "print(getabsolute())\n"
   ]
  },
  {
   "cell_type": "code",
   "execution_count": 3,
   "id": "3f0f9e84-c569-43b1-b02b-1964ab62b7ca",
   "metadata": {},
   "outputs": [
    {
     "data": {
      "text/plain": [
       "120"
      ]
     },
     "execution_count": 3,
     "metadata": {},
     "output_type": "execute_result"
    }
   ],
   "source": [
    "def fatorialofnum(num):\n",
    "    if(num<=0):\n",
    "        return 1\n",
    "    i=1;\n",
    "    fact=1\n",
    "    while i<=num:\n",
    "        fact=fact*i\n",
    "        i=i+1\n",
    "    return fact\n",
    "fatorialofnum(5)"
   ]
  },
  {
   "cell_type": "code",
   "execution_count": 10,
   "id": "8b4262e9-9317-484c-ae6a-32f8dac90e49",
   "metadata": {},
   "outputs": [
    {
     "name": "stdout",
     "output_type": "stream",
     "text": [
      "1 1\n",
      "2 2\n",
      "6 3\n",
      "24 4\n",
      "120 5\n"
     ]
    },
    {
     "data": {
      "text/plain": [
       "120"
      ]
     },
     "execution_count": 10,
     "metadata": {},
     "output_type": "execute_result"
    }
   ],
   "source": [
    "def factof(num):\n",
    "    if(num<=0):\n",
    "        return 1\n",
    "    fact=1\n",
    "    \n",
    "    fact=num*factof(num-1)\n",
    "    print(fact,num)\n",
    "    return fact\n",
    "factof(5)\n"
   ]
  },
  {
   "cell_type": "code",
   "execution_count": 15,
   "id": "dbade6a3-8dbb-429d-b54b-1af46055e613",
   "metadata": {},
   "outputs": [
    {
     "data": {
      "text/plain": [
       "720"
      ]
     },
     "execution_count": 15,
     "metadata": {},
     "output_type": "execute_result"
    }
   ],
   "source": [
    "def nos(*a):\n",
    "    type(a)\n",
    "    mul=1\n",
    "    for i in a:\n",
    "        mul=mul*i\n",
    "    return mul\n",
    "nos(1,2,3,4,5,6)\n",
    "        \n"
   ]
  },
  {
   "cell_type": "code",
   "execution_count": 16,
   "id": "79f91e8c-28d4-413c-b5cd-bcf12eba0252",
   "metadata": {},
   "outputs": [
    {
     "name": "stdout",
     "output_type": "stream",
     "text": [
      "goodnight\n"
     ]
    }
   ],
   "source": [
    "def attach(s1,s2):\n",
    "    s3=s1+s2\n",
    "    print(s3)\n",
    "attach(\"good\",\"night\")"
   ]
  },
  {
   "cell_type": "code",
   "execution_count": 17,
   "id": "8c5d70bf-1763-4811-b513-7da7978742a3",
   "metadata": {},
   "outputs": [
    {
     "name": "stdout",
     "output_type": "stream",
     "text": [
      "hello suchin good morning\n"
     ]
    }
   ],
   "source": [
    "def greet(name,msg=\"good morning\"):\n",
    "    print(\"hello\",name,msg)\n",
    "\n",
    "greet(\"suchin\")"
   ]
  },
  {
   "cell_type": "code",
   "execution_count": 19,
   "id": "c9b383d6-2338-40a6-b0ac-fd324d10d06e",
   "metadata": {},
   "outputs": [
    {
     "name": "stdin",
     "output_type": "stream",
     "text": [
      "enter the radius 6\n"
     ]
    },
    {
     "data": {
      "text/plain": [
       "113.03999999999999"
      ]
     },
     "execution_count": 19,
     "metadata": {},
     "output_type": "execute_result"
    }
   ],
   "source": [
    "PI=3.14\n",
    "def cal_area(R=10):\n",
    "    R=int(input(\"enter the radius\"))\n",
    "    area=PI*R*R\n",
    "    return area\n",
    "cal_area()"
   ]
  },
  {
   "cell_type": "code",
   "execution_count": 25,
   "id": "ec2dd649-851d-400d-ae8a-c79ad3e4b613",
   "metadata": {},
   "outputs": [
    {
     "name": "stdout",
     "output_type": "stream",
     "text": [
      "[5, 11]\n"
     ]
    },
    {
     "data": {
      "text/plain": [
       "11"
      ]
     },
     "execution_count": 25,
     "metadata": {},
     "output_type": "execute_result"
    }
   ],
   "source": [
    "largest=[]\n",
    "def find_largest(*a):\n",
    "    for arg in a:\n",
    "        largest.append(len(arg))\n",
    "    print(largest)\n",
    "    return max(largest)\n",
    "        \n",
    "    \n",
    "find_largest(\"hello\",\"goodmorning\")\n",
    "\n"
   ]
  },
  {
   "cell_type": "code",
   "execution_count": 36,
   "id": "39800ae7-aa11-462b-ab42-af3578e7217c",
   "metadata": {},
   "outputs": [
    {
     "name": "stdin",
     "output_type": "stream",
     "text": [
      "enter list of names with space in between hello goodmorning\n"
     ]
    },
    {
     "name": "stdout",
     "output_type": "stream",
     "text": [
      "2\n",
      "[5]\n",
      "[5, 11]\n",
      "11\n"
     ]
    }
   ],
   "source": [
    "largest=[]\n",
    "def find_largest():\n",
    "    args=input(\"enter list of names with space in between\").split(\" \")\n",
    "    print(len(args))\n",
    "    for i in (args):\n",
    "        largest.append(len(i))\n",
    "        print(largest)\n",
    "    return max(largest)\n",
    "        \n",
    "print(find_largest())\n",
    "\n"
   ]
  },
  {
   "cell_type": "code",
   "execution_count": 4,
   "id": "b0bbb01f-2f73-4181-a606-43a2bab9c9ca",
   "metadata": {},
   "outputs": [
    {
     "name": "stdout",
     "output_type": "stream",
     "text": [
      "200 12 27 12\n",
      "200 15 3 4\n"
     ]
    }
   ],
   "source": [
    "def foo(x,y):\n",
    "    global a\n",
    "    a=200;\n",
    "    x,y=y,x\n",
    "    b=26\n",
    "    b=12\n",
    "    c=23\n",
    "    print(a,b,x,y)\n",
    "a,b,x,y=1,15,3,4\n",
    "foo(12,27)\n",
    "print(a,b,x,y)\n",
    "    "
   ]
  },
  {
   "cell_type": "code",
   "execution_count": 5,
   "id": "1da7ff19-2d8f-4e62-9864-7898683c3dfd",
   "metadata": {},
   "outputs": [
    {
     "data": {
      "text/plain": [
       "9"
      ]
     },
     "execution_count": 5,
     "metadata": {},
     "output_type": "execute_result"
    }
   ],
   "source": [
    "lambdafunction=lambda a,b:a+b\n",
    "lambdafunction(4,5)"
   ]
  },
  {
   "cell_type": "code",
   "execution_count": 9,
   "id": "add1cf0f-a7b7-4b09-a8b7-7b05295a8890",
   "metadata": {},
   "outputs": [
    {
     "name": "stdin",
     "output_type": "stream",
     "text": [
      "enter a num 10\n",
      "enter second num 20\n"
     ]
    },
    {
     "data": {
      "text/plain": [
       "(100, 400)"
      ]
     },
     "execution_count": 9,
     "metadata": {},
     "output_type": "execute_result"
    }
   ],
   "source": [
    "lamdafunction =lambda num,num2:(num*num,num2*num2)\n",
    "num=int(input(\"enter a num\"))\n",
    "num2=int(input(\"enter second num\"))\n",
    "\n",
    "lamdafunction(num,num2)"
   ]
  },
  {
   "cell_type": "code",
   "execution_count": 11,
   "id": "d73e7573-e7d1-4afa-8cbb-ac6f663fcea9",
   "metadata": {},
   "outputs": [
    {
     "data": {
      "text/plain": [
       "'h'"
      ]
     },
     "execution_count": 11,
     "metadata": {},
     "output_type": "execute_result"
    }
   ],
   "source": [
    "lambdafunction=lambda str1:str1[0]\n",
    "lambdafunction(\"hello\")"
   ]
  },
  {
   "cell_type": "markdown",
   "id": "c4f9a810-c82e-46f1-ad69-986e0e4b49a3",
   "metadata": {},
   "source": []
  },
  {
   "cell_type": "code",
   "execution_count": 17,
   "id": "99e500de-d372-432c-8657-8e6c3e1cc74a",
   "metadata": {},
   "outputs": [
    {
     "data": {
      "text/plain": [
       "True"
      ]
     },
     "execution_count": 17,
     "metadata": {},
     "output_type": "execute_result"
    }
   ],
   "source": [
    "lambdafunction1 = lambda num: True if(num%2==0) else False\n",
    "lambdafunction1(6)"
   ]
  },
  {
   "cell_type": "code",
   "execution_count": 18,
   "id": "572ac8f8-1202-4233-aefa-0ee878f6c18e",
   "metadata": {},
   "outputs": [
    {
     "data": {
      "text/plain": [
       "19"
      ]
     },
     "execution_count": 18,
     "metadata": {},
     "output_type": "execute_result"
    }
   ],
   "source": [
    "lambdafunction2=lambda num1,num2: num1 if num1>num2 else num2\n",
    "lambdafunction2(4,19)"
   ]
  },
  {
   "cell_type": "code",
   "execution_count": 19,
   "id": "8a496820-29af-4734-89b0-ffe46a419da1",
   "metadata": {},
   "outputs": [
    {
     "name": "stdout",
     "output_type": "stream",
     "text": [
      "1\n",
      "4\n",
      "9\n",
      "16\n",
      "25\n"
     ]
    }
   ],
   "source": [
    "def square(n):\n",
    "    return n**2\n",
    "mylist=[1,2,3,4,5]\n",
    "for i in mylist:\n",
    "    print(square(i))"
   ]
  },
  {
   "cell_type": "code",
   "execution_count": 21,
   "id": "1c16276c-47a9-414e-aa66-992b2ed6b69a",
   "metadata": {},
   "outputs": [
    {
     "data": {
      "text/plain": [
       "[1, 8, 27, 64, 125]"
      ]
     },
     "execution_count": 21,
     "metadata": {},
     "output_type": "execute_result"
    }
   ],
   "source": [
    "def mycube(n):\n",
    "    return n**3\n",
    "mylist=[1,2,3,4,5]\n",
    "list(map(mycube,mylist))"
   ]
  },
  {
   "cell_type": "code",
   "execution_count": 25,
   "id": "3710a18d-8388-4145-bb24-fc9344804c4d",
   "metadata": {},
   "outputs": [
    {
     "data": {
      "text/plain": [
       "['J', 'even', 'M']"
      ]
     },
     "execution_count": 25,
     "metadata": {},
     "output_type": "execute_result"
    }
   ],
   "source": [
    "def inspect(n):\n",
    "    if(len(n)%2==0):\n",
    "        return \"even\"\n",
    "    else:\n",
    "        return(n[0])\n",
    "mylist=[\"January\",\"february\",\"March\"]\n",
    "\n",
    "list(map(inspect,mylist))\n"
   ]
  },
  {
   "cell_type": "code",
   "execution_count": 28,
   "id": "b4ab7089-c408-4e39-8cc7-a1565a138fa4",
   "metadata": {},
   "outputs": [
    {
     "data": {
      "text/plain": [
       "[2, 4, 6, 8, 10]"
      ]
     },
     "execution_count": 28,
     "metadata": {},
     "output_type": "execute_result"
    }
   ],
   "source": [
    "mylist1=[1,2,3,4,5,6,7,8,9,10]\n",
    "def check_if_even(n):\n",
    "    return (n%2==0)\n",
    "list(filter(check_if_even,mylist1))"
   ]
  },
  {
   "cell_type": "code",
   "execution_count": 29,
   "id": "ffeafae6-2573-4078-8aff-c7727fd97496",
   "metadata": {},
   "outputs": [
    {
     "data": {
      "text/plain": [
       "[False, True, False, True, False, True, False, True, False, True]"
      ]
     },
     "execution_count": 29,
     "metadata": {},
     "output_type": "execute_result"
    }
   ],
   "source": [
    "##map will print all the values\n",
    "## filter it will filter out all the even numbers and wont print all the values\n",
    "mylist1=[1,2,3,4,5,6,7,8,9,10]\n",
    "def check_if_even(n):\n",
    "    return (n%2==0)\n",
    "list(map(check_if_even,mylist1))"
   ]
  },
  {
   "cell_type": "code",
   "execution_count": 30,
   "id": "ffa11c1e-1409-4e82-bb66-5c2074348357",
   "metadata": {},
   "outputs": [
    {
     "data": {
      "text/plain": [
       "[1, 4, 9, 16, 25, 36, 49]"
      ]
     },
     "execution_count": 30,
     "metadata": {},
     "output_type": "execute_result"
    }
   ],
   "source": [
    "def square(n):\n",
    "    return n**2\n",
    "mylist2=[1,2,3,4,5,6,7]\n",
    "list(map(square,mylist2))"
   ]
  },
  {
   "cell_type": "code",
   "execution_count": 31,
   "id": "22eb56e9-0f22-4bba-835d-876adc2f3f5d",
   "metadata": {},
   "outputs": [
    {
     "data": {
      "text/plain": [
       "[1, 4, 9, 16, 25, 36, 49, 64, 81, 100]"
      ]
     },
     "execution_count": 31,
     "metadata": {},
     "output_type": "execute_result"
    }
   ],
   "source": [
    "mylist2=[1,2,3,4,5,6,7,8,9,10]\n",
    "list(map(lambda n:n**2, mylist2))"
   ]
  },
  {
   "cell_type": "code",
   "execution_count": 35,
   "id": "657aa0f6-0e94-41c5-a58a-b9383aada74a",
   "metadata": {},
   "outputs": [
    {
     "data": {
      "text/plain": [
       "['j', 'even', 'm']"
      ]
     },
     "execution_count": 35,
     "metadata": {},
     "output_type": "execute_result"
    }
   ],
   "source": [
    "mylist3=[\"january\",\"february\",\"march\"]\n",
    "list(map(lambda string: \"even\" if len(string)%2==0 else string[0],mylist3))"
   ]
  },
  {
   "cell_type": "code",
   "execution_count": 40,
   "id": "5c4cafb1-15f1-472e-8fa7-89e1e76c7a8e",
   "metadata": {},
   "outputs": [
    {
     "data": {
      "text/plain": [
       "[True, False, False]"
      ]
     },
     "execution_count": 40,
     "metadata": {},
     "output_type": "execute_result"
    }
   ],
   "source": [
    "mylist2=[\"a\",\"b\",\"c\"]\n",
    "vowels=\"aeiou\"\n",
    "list(map(lambda char: True if char in vowels else False,mylist2))"
   ]
  },
  {
   "cell_type": "code",
   "execution_count": 55,
   "id": "da75fa26-c0a6-43ac-90fa-04c30b6952e5",
   "metadata": {},
   "outputs": [
    {
     "name": "stdin",
     "output_type": "stream",
     "text": [
      "enter your name hello\n"
     ]
    },
    {
     "name": "stdout",
     "output_type": "stream",
     "text": [
      "vowels in your name are ['e', 'o']\n"
     ]
    }
   ],
   "source": [
    "vowels=\"aeiou\"\n",
    "name=input(\"enter your name\")\n",
    "check=filter(lambda char : char  in 'aeiou',name)\n",
    "mylist=list(check)\n",
    "if(len(mylist)>0):\n",
    "   print(\"vowels in your name are {0}\".format(mylist))\n",
    "else:\n",
    "   print(\"no vowels are there in the list\")\n"
   ]
  },
  {
   "cell_type": "code",
   "execution_count": 2,
   "id": "e93535f2-908c-46f7-9bf9-06e140c960a9",
   "metadata": {},
   "outputs": [
    {
     "name": "stdout",
     "output_type": "stream",
     "text": [
      "object created\n",
      "check created\n"
     ]
    }
   ],
   "source": [
    "class emp:\n",
    "    def __init__(self):\n",
    "    #constructor: init\n",
    "    ##self is the parameter of the instance method which \n",
    "    ## which can call the attributes or method\n",
    "    # object is sending the object  address to the menthod . so we are storing the address in the variable(self)class emp:\n",
    "    ## if the method has to be object method then the address has to be sent and it will collected for verification\n",
    "    \n",
    "        print(\"object created\")\n",
    "    def check(self):\n",
    "        print(\"check created\")\n",
    "e1=emp()\n",
    "e1.check()"
   ]
  },
  {
   "cell_type": "code",
   "execution_count": 7,
   "id": "9634cab2-c14e-4a3c-9f26-4c0b2016e307",
   "metadata": {},
   "outputs": [
    {
     "name": "stdout",
     "output_type": "stream",
     "text": [
      "100000\n",
      "Anisha\n",
      "35\n"
     ]
    }
   ],
   "source": [
    "class emp:\n",
    "    def __init__(self):\n",
    "        self.name=\"Anisha\"\n",
    "        self.age=35\n",
    "        self.salary=100000\n",
    "    def output(self):\n",
    "        print(self.name)\n",
    "        print(self.age)\n",
    "e1=emp()\n",
    "print(e1.salary)\n",
    "e1.output()"
   ]
  },
  {
   "cell_type": "code",
   "execution_count": 6,
   "id": "cae59076-f971-4364-8129-e9b995bb9997",
   "metadata": {},
   "outputs": [
    {
     "data": {
      "text/plain": [
       "100000"
      ]
     },
     "execution_count": 6,
     "metadata": {},
     "output_type": "execute_result"
    }
   ],
   "source": [
    "e1.salary"
   ]
  },
  {
   "cell_type": "code",
   "execution_count": 8,
   "id": "aa123050-baba-4ad5-9b24-64deb49fde5f",
   "metadata": {},
   "outputs": [
    {
     "name": "stdout",
     "output_type": "stream",
     "text": [
      "100000\n",
      "anisha\n",
      "30\n"
     ]
    }
   ],
   "source": [
    "##local variable is referenced with in the function\n",
    "class emp:\n",
    "    def __init__(self,a,b,c):\n",
    "        self.name=a\n",
    "        self.age=b\n",
    "        self.salary=c\n",
    "    def output(self):\n",
    "        print(self.name)\n",
    "        print(self.age)\n",
    "e1=emp(\"anisha\",30,100000)\n",
    "print(e1.salary)\n",
    "e1.output()"
   ]
  },
  {
   "cell_type": "code",
   "execution_count": null,
   "id": "5dab93d3-b50c-41a1-9c34-a51b19f5b880",
   "metadata": {},
   "outputs": [],
   "source": []
  }
 ],
 "metadata": {
  "kernelspec": {
   "display_name": "Python 3 (ipykernel)",
   "language": "python",
   "name": "python3"
  },
  "language_info": {
   "codemirror_mode": {
    "name": "ipython",
    "version": 3
   },
   "file_extension": ".py",
   "mimetype": "text/x-python",
   "name": "python",
   "nbconvert_exporter": "python",
   "pygments_lexer": "ipython3",
   "version": "3.10.6"
  }
 },
 "nbformat": 4,
 "nbformat_minor": 5
}

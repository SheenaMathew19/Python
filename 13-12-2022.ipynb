{
 "cells": [
  {
   "cell_type": "code",
   "execution_count": 5,
   "id": "48b6bf24-c62a-40e7-af7c-cfe0bc26cdd7",
   "metadata": {},
   "outputs": [
    {
     "name": "stdin",
     "output_type": "stream",
     "text": [
      "write first number 10\n",
      "write second number 20\n"
     ]
    },
    {
     "name": "stdout",
     "output_type": "stream",
     "text": [
      "the sum of two numbers 10 and 20 is 30\n"
     ]
    }
   ],
   "source": [
    "a=int(input(\"write first number\"))\n",
    "b=int(input(\"write second number\"))\n",
    "sum=a+b\n",
    "print(\"the sum of two numbers {0} and {1} is {2}\".format(a,b,sum))\n"
   ]
  },
  {
   "cell_type": "markdown",
   "id": "b47d5529-bb9f-4e97-b16e-a9a8fc317f25",
   "metadata": {},
   "source": [
    "WAP to accept radius of a Circle from the user and calculate area and circumference"
   ]
  },
  {
   "cell_type": "code",
   "execution_count": 8,
   "id": "352e3ab5-84a4-4540-be14-5077aa427083",
   "metadata": {},
   "outputs": [
    {
     "name": "stdin",
     "output_type": "stream",
     "text": [
      "enter the radius of the circle 12\n"
     ]
    },
    {
     "name": "stdout",
     "output_type": "stream",
     "text": [
      "the area of the circle with the radius r 12 is 432\n",
      "the circumference of the circle with the radius r 12 is 75.36\n"
     ]
    }
   ],
   "source": [
    "pi=3.14\n",
    "r=int(input(\"enter the radius of the circle\"))\n",
    "area= int(pi)*r*r\n",
    "circumference= 2*pi*r\n",
    "print(\"the area of the circle with the radius r {0} is {1}\".format(r,area))\n",
    "print(\"the circumference of the circle with the radius r {0} is {1}\".format(r,circumference))"
   ]
  },
  {
   "cell_type": "markdown",
   "id": "742e1f1b-f509-4484-9592-544de8a8efb5",
   "metadata": {},
   "source": [
    "WAP to accept roll number , grade and percentage as input from the user and display it back"
   ]
  },
  {
   "cell_type": "code",
   "execution_count": 15,
   "id": "2e47c178-7dc9-4d76-9f0f-9d0218a659f7",
   "metadata": {},
   "outputs": [
    {
     "name": "stdin",
     "output_type": "stream",
     "text": [
      "enter the roll number: 12\n",
      "enter the grade: 4\n",
      "enter the percentage: 78\n"
     ]
    },
    {
     "name": "stdout",
     "output_type": "stream",
     "text": [
      "the roll number ,grade and the percentage of the students are rollnumber 12  grade 4 and percentage 78.0 are\n"
     ]
    }
   ],
   "source": [
    "rollnumber=int(input(\"enter the roll number:\"))\n",
    "grade=int(input(\"enter the grade:\"))\n",
    "percentage=float(input(\"enter the percentage:\"))\n",
    "print(\"the roll number ,grade and the percentage of the students are rollnumber {0}  grade {1} and percentage {2} are\".format(rollnumber,grade,percentage))\n"
   ]
  },
  {
   "cell_type": "markdown",
   "id": "24fdb0db-e15f-435d-a853-8aeea02bf889",
   "metadata": {},
   "source": [
    "\n",
    "Write a program that asks the user to enter his/her name and age. Print out a message , displaying the user’s name along with the year in which they will turn 100 years old.\n"
   ]
  },
  {
   "cell_type": "code",
   "execution_count": 1,
   "id": "7f385a59-efd2-4b90-b88c-53760f6a1cd2",
   "metadata": {},
   "outputs": [
    {
     "name": "stdin",
     "output_type": "stream",
     "text": [
      "enter your name sheena\n",
      "enter your age 34\n"
     ]
    },
    {
     "name": "stdout",
     "output_type": "stream",
     "text": [
      "sheena will be 100 years in 66\n"
     ]
    }
   ],
   "source": [
    "name=input(\"enter your name\")\n",
    "age=int(input(\"enter your age\"))\n",
    "year=100-age\n",
    "print(\"{0} will be 100 years in {1}\".format(name,year))\n"
   ]
  },
  {
   "cell_type": "markdown",
   "id": "5264f72b-bd3e-4ddb-b3da-a2dad3b8bf25",
   "metadata": {},
   "source": [
    "•\tWrite a program that asks the user to input 2 integers and adds them . Accept both the numbers in a single line only"
   ]
  },
  {
   "cell_type": "code",
   "execution_count": 2,
   "id": "9de79585-12bf-48e1-bbf3-8f9c89da52f6",
   "metadata": {},
   "outputs": [
    {
     "name": "stdin",
     "output_type": "stream",
     "text": [
      "enter 2 numbers 10 20\n"
     ]
    },
    {
     "name": "stdout",
     "output_type": "stream",
     "text": [
      "the sum of 2 numbers 10 and 20 is 30\n"
     ]
    }
   ],
   "source": [
    "txt=input(\"enter 2 numbers\")\n",
    "number1,number2=txt.split()\n",
    "sum=int(number1)+int(number2)\n",
    "print(\"the sum of 2 numbers {0} and {1} is {2}\".format(number1,number2,sum))"
   ]
  },
  {
   "cell_type": "markdown",
   "id": "a8be5099-05b2-4b48-881d-8da67bbf04f2",
   "metadata": {},
   "source": [
    "\tWrite a Python program which accepts the user's first and last name and print them in reverse order with a space between them"
   ]
  },
  {
   "cell_type": "code",
   "execution_count": 7,
   "id": "35b19050-6930-4fd2-9294-e7daeb9e8d74",
   "metadata": {},
   "outputs": [
    {
     "name": "stdin",
     "output_type": "stream",
     "text": [
      "enter your name (both first and the last name) sheena mathew\n"
     ]
    },
    {
     "name": "stdout",
     "output_type": "stream",
     "text": [
      "reverse of firstname aneehs and lastname is wehtam\n"
     ]
    }
   ],
   "source": [
    "name=input(\"enter your name (both first and the last name)\");\n",
    "firstname,lastname=name.split()\n",
    "revfirstname=firstname[::-1]\n",
    "revlastname=lastname[::-1]\n",
    "print(\"reverse of firstname {0} and lastname is {1}\".format(revfirstname,revlastname))"
   ]
  },
  {
   "cell_type": "code",
   "execution_count": null,
   "id": "fdfbfe35-513b-4c29-9373-2e012484be4e",
   "metadata": {},
   "outputs": [],
   "source": []
  }
 ],
 "metadata": {
  "kernelspec": {
   "display_name": "Python 3 (ipykernel)",
   "language": "python",
   "name": "python3"
  },
  "language_info": {
   "codemirror_mode": {
    "name": "ipython",
    "version": 3
   },
   "file_extension": ".py",
   "mimetype": "text/x-python",
   "name": "python",
   "nbconvert_exporter": "python",
   "pygments_lexer": "ipython3",
   "version": "3.10.6"
  }
 },
 "nbformat": 4,
 "nbformat_minor": 5
}

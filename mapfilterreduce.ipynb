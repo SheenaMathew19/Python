{
 "cells": [
  {
   "cell_type": "markdown",
   "id": "6e376f0a-2ead-4285-add4-441e2cc197d4",
   "metadata": {},
   "source": [
    "'Filter' is a similar operation, but it requires the function to look for a condition and then, only returns those elements from the collection that satisfy the condition. 'Reduce' is an operation that breaks down the entire process into pair-wise operations and uses the result from each operation, with the successive element"
   ]
  },
  {
   "cell_type": "code",
   "execution_count": 1,
   "id": "83293b84-14da-4bda-a1b0-52ef1905a9c9",
   "metadata": {},
   "outputs": [
    {
     "name": "stdout",
     "output_type": "stream",
     "text": [
      "[4, 16, 25]\n"
     ]
    }
   ],
   "source": [
    "first_list=[2,4,5]\n",
    "new_list=[]\n",
    "for x in first_list:\n",
    "    new_list.append(x**2)\n",
    "print(new_list)\n",
    "    "
   ]
  },
  {
   "cell_type": "code",
   "execution_count": 6,
   "id": "94e1efdc-b77f-4d66-8869-6aac0ac2e84b",
   "metadata": {},
   "outputs": [
    {
     "name": "stdout",
     "output_type": "stream",
     "text": [
      "25\n"
     ]
    }
   ],
   "source": [
    "first_list=[2,4,5]\n",
    "newlist=lambda x:x**2\n",
    "print(newlist(5))"
   ]
  },
  {
   "cell_type": "code",
   "execution_count": 9,
   "id": "00348b36-91e6-4ae9-a01d-252ff5644382",
   "metadata": {},
   "outputs": [
    {
     "name": "stdout",
     "output_type": "stream",
     "text": [
      "[4, 16, 25]\n"
     ]
    }
   ],
   "source": [
    "first_list=[2,4,5]\n",
    "print(list(map(lambda x: x**2,first_list)))"
   ]
  },
  {
   "cell_type": "markdown",
   "id": "65d725e9-ad58-43be-b7dd-9718e7c5e196",
   "metadata": {},
   "source": [
    "Using the Map function, create a list 'cube', which consists of the cube of numbers in input_list.\n",
    "\n",
    "For e.g. if the input list is [5,6,4,8,9], the output should be [125, 216, 64, 512, 729]."
   ]
  },
  {
   "cell_type": "code",
   "execution_count": 15,
   "id": "6e646032-1ba3-4c51-8aa5-6a19ad4eaa91",
   "metadata": {},
   "outputs": [
    {
     "name": "stdout",
     "output_type": "stream",
     "text": [
      "[125, 216, 64, 512, 729]\n"
     ]
    }
   ],
   "source": [
    "\n",
    "input_list=[5,6,4,8,9]\n",
    "cube=list(map(lambda n:n**3,input_list))\n",
    "print(cube)"
   ]
  },
  {
   "cell_type": "markdown",
   "id": "e2e23409-c588-4d66-baa9-844739d6e21c",
   "metadata": {},
   "source": [
    "['San Jose', 'San Francisco', 'Santa Fe', 'Houston']\n",
    "Using the function Map, count the number of words that start with ‘S’ in input_list."
   ]
  },
  {
   "cell_type": "markdown",
   "id": "0372d01f-7431-4379-88b8-86a01aa10de3",
   "metadata": {},
   "source": []
  },
  {
   "cell_type": "code",
   "execution_count": 21,
   "id": "480a3fbe-677d-408f-9aa5-13353491cf91",
   "metadata": {},
   "outputs": [
    {
     "name": "stdout",
     "output_type": "stream",
     "text": [
      "3\n"
     ]
    }
   ],
   "source": [
    "input_list=['San Jose', 'San Francisco', 'Santa Fe', 'Houston']\n",
    "def wordcount(input_list):\n",
    "    count=0\n",
    "    for x in input_list:\n",
    "        if x[0] in 'S':\n",
    "            count=count+1\n",
    "    return count\n",
    "print(wordcount(input_list))\n",
    "            "
   ]
  },
  {
   "cell_type": "code",
   "execution_count": 26,
   "id": "fa68fd36-6f73-44a1-ae95-4f3834f12256",
   "metadata": {},
   "outputs": [
    {
     "name": "stdout",
     "output_type": "stream",
     "text": [
      "3\n"
     ]
    }
   ],
   "source": [
    "input_list=['San Jose', 'San Francisco', 'Santa Fe', 'Houston']\n",
    "\n",
    "count=list(map(lambda x:x[0]=='S',input_list)).count(True)\n",
    " \n",
    "print(count)"
   ]
  },
  {
   "cell_type": "code",
   "execution_count": 1,
   "id": "2f203d1f-db2d-421d-8495-8fb9391dd96b",
   "metadata": {},
   "outputs": [
    {
     "name": "stdout",
     "output_type": "stream",
     "text": [
      "[7, 9, 11, 13]\n"
     ]
    }
   ],
   "source": [
    "sums_list=[3,4,5,6]\n",
    "sums_list1=[4,5,6,7]\n",
    "out=list(map(lambda x,y :x+y ,sums_list,sums_list1))\n",
    "print( out)"
   ]
  },
  {
   "cell_type": "code",
   "execution_count": 3,
   "id": "4461e8a3-d131-4910-a8da-5dae1ae192c2",
   "metadata": {},
   "outputs": [
    {
     "name": "stdout",
     "output_type": "stream",
     "text": [
      "['Ann Mathew', 'Anuradha Dutta', 'Hemalatha Preit', 'Yazhini Ujwala']\n"
     ]
    }
   ],
   "source": [
    "list_of_names=[\"ann\",\"anuradha\",\"hemalatha\",\"yazhini\"]\n",
    "list_of_names2=[\"mathew\",\"dutta\",\"preit\",\"ujwala\"]\n",
    "print(list(map(lambda x,y:x[0].upper()+x[1:] + ' ' +y[0].upper()+y[1:],list_of_names,list_of_names2)))"
   ]
  },
  {
   "cell_type": "code",
   "execution_count": 6,
   "id": "a19c622d-9599-4f20-8048-10bc10bf0272",
   "metadata": {},
   "outputs": [
    {
     "name": "stdout",
     "output_type": "stream",
     "text": [
      "[21, 15, 9, 24]\n"
     ]
    }
   ],
   "source": [
    "divby3=lambda x:x%3==0\n",
    "my_list=[7,21,15,9,24,56]\n",
    "div=filter(divby3,my_list)\n",
    "print(list(div))"
   ]
  },
  {
   "cell_type": "markdown",
   "id": "8a06879b-9ece-40ac-9c82-66106d1ee7d8",
   "metadata": {},
   "source": [
    "Create a list ‘name’ consisting of the combination of the first name and the second name from list 1 and 2 respectively. \n",
    "\n",
    "For e.g. if the input list is:\n",
    "[ ['Ankur', 'Avik', 'Kiran', 'Nitin'], ['Narang', 'Sarkar', 'R', 'Sareen']]\n",
    "\n",
    "the output list should be the list:\n",
    "['Ankur Narang', 'Avik Sarkar', 'Kiran R', 'Nitin Sareen']\n",
    "\n",
    "Note: Add a space between first name and last name.\n"
   ]
  },
  {
   "cell_type": "code",
   "execution_count": 17,
   "id": "291a6528-3228-4f13-9852-46effeb7a5ce",
   "metadata": {},
   "outputs": [
    {
     "name": "stdout",
     "output_type": "stream",
     "text": [
      "['Ankur Narang', 'Avik Sarkar', 'Kiran R', 'Nitin Sareen']\n"
     ]
    }
   ],
   "source": [
    "input_list=[ ['Ankur', 'Avik', 'Kiran', 'Nitin'], ['Narang', 'Sarkar', 'R', 'Sareen']]\n",
    "first_name = input_list[0]\n",
    "last_name = input_list[1]\n",
    "out= list(map(lambda first_name,last_name:first_name[0:]+' '+ last_name[0:],first_name,last_name))\n",
    "print(out)"
   ]
  },
  {
   "cell_type": "code",
   "execution_count": 19,
   "id": "11f0aa7e-d120-4c38-ab89-655e8ca0e492",
   "metadata": {},
   "outputs": [
    {
     "name": "stdout",
     "output_type": "stream",
     "text": [
      "6\n"
     ]
    }
   ],
   "source": [
    "from functools import reduce\n",
    "q=reduce(lambda x,y:x+y,range(1,4))\n",
    "print(q)"
   ]
  },
  {
   "cell_type": "code",
   "execution_count": 20,
   "id": "8b4c974b-7b9c-45ef-80e4-f10fda102718",
   "metadata": {},
   "outputs": [
    {
     "name": "stdout",
     "output_type": "stream",
     "text": [
      "89\n"
     ]
    }
   ],
   "source": [
    "list_of_nums=[22,45,67,89,12,34]\n",
    "print(reduce(lambda x,y:x if x>y else y,list_of_nums))"
   ]
  },
  {
   "cell_type": "code",
   "execution_count": 11,
   "id": "e4b7f0ca-f35f-486d-8d43-1d4337a85705",
   "metadata": {},
   "outputs": [
    {
     "name": "stdout",
     "output_type": "stream",
     "text": [
      "[6, 9, 12]\n"
     ]
    }
   ],
   "source": [
    "divby3 =lambda x: x%3 == 0 \n",
    "my_list=[4,6,7,9,12,14]\n",
    "prod=filter(divby3,my_list)\n",
    "print(list(prod))"
   ]
  },
  {
   "cell_type": "markdown",
   "id": "ba56d702-deda-4f76-b325-4b82dabf6c3c",
   "metadata": {},
   "source": [
    "\n",
    "Extract a list of numbers that are multiples of 5 from a list of integers named input_list.\n",
    "[1, 2, 3, 4, 5, 6, 7, 8, 9, 10, 11, 12, 13, 14, 15, 16, 17, 18, 19, 20, 21, 22, 23, 24, 25, 26, 27, 28, 29, 30, 31, 32, 33, 34, 35, 36, 37, 38, 39, 40, 41, 42, 43, 44, 45, 46, 47, 48, 49, 50]"
   ]
  },
  {
   "cell_type": "code",
   "execution_count": 13,
   "id": "d6e898d9-688c-4f09-9ca5-8386f15f6275",
   "metadata": {},
   "outputs": [
    {
     "name": "stdout",
     "output_type": "stream",
     "text": [
      "[5, 10, 15, 20, 25, 30, 35, 40, 45, 50]\n"
     ]
    }
   ],
   "source": [
    "input_list=[1, 2, 3, 4, 5, 6, 7, 8, 9, 10, 11, 12, 13, 14, 15, 16, 17, 18, 19, 20, 21, 22, 23, 24, 25, 26, 27, 28, 29, 30, 31, 32, 33, 34, 35, 36, 37, 38, 39, 40, 41, 42, 43, 44, 45, 46, 47, 48, 49, 50]\n",
    "divby5=lambda x: x%5==0\n",
    "prod=filter(divby5,input_list)\n",
    "print(list(prod))"
   ]
  },
  {
   "cell_type": "markdown",
   "id": "75e39171-9d59-4bef-96bd-6fb21cc4defc",
   "metadata": {},
   "source": [
    " input_list =  ['hdjk', 'salsap', 'sherpa']\n",
    " Extract a list of names that start with an ‘s’ and end with a ‘p’ (both 's' and 'p' are lowercase) in input_list."
   ]
  },
  {
   "cell_type": "code",
   "execution_count": 26,
   "id": "5cce149f-4e01-415c-95de-40bdc1b81960",
   "metadata": {},
   "outputs": [
    {
     "name": "stdout",
     "output_type": "stream",
     "text": [
      "['salsap']\n"
     ]
    }
   ],
   "source": [
    "input_list = ['hdjk', 'salsap', 'sherpa'] \n",
    "n=len(input_list[0])\n",
    "new_list.clear()\n",
    "for x in input_list:\n",
    "    if(x[0]=='s' and x[-1]=='p'):\n",
    "       new_list.append(x)\n",
    "print(new_list)\n",
    "       "
   ]
  },
  {
   "cell_type": "code",
   "execution_count": 27,
   "id": "d39fd701-a12f-4e40-b8ac-1a548ea96324",
   "metadata": {},
   "outputs": [
    {
     "name": "stdout",
     "output_type": "stream",
     "text": [
      "['salsap']\n"
     ]
    }
   ],
   "source": [
    "input_list = ['hdjk', 'salsap', 'sherpa'] \n",
    "out=lambda x:x[0]=='s' and x[-1]=='p'\n",
    "out_list=filter(out,input_list)\n",
    "print(list(out_list))\n",
    "\n"
   ]
  },
  {
   "cell_type": "markdown",
   "id": "ff6c9809-5a44-4973-aa73-2e96c441eef8",
   "metadata": {},
   "source": [
    "Using the Reduce function, concatenate a list of words in input_list, and print the output as a string.\n",
    "If input_list = ['I','Love','Python'], the output should be the string 'I Love Python'."
   ]
  },
  {
   "cell_type": "code",
   "execution_count": 41,
   "id": "0fb62b40-a136-465a-a7e8-9fc8223b1705",
   "metadata": {},
   "outputs": [
    {
     "name": "stdout",
     "output_type": "stream",
     "text": [
      "['I Love Python']\n"
     ]
    }
   ],
   "source": [
    "input_list = ['I','Love','Python']\n",
    "out=[]\n",
    "out.append(\" \".join(input_list))\n",
    "print(out)"
   ]
  },
  {
   "cell_type": "code",
   "execution_count": 63,
   "id": "bb85ab0d-823b-4f19-88fc-7098abb088e8",
   "metadata": {},
   "outputs": [
    {
     "name": "stdout",
     "output_type": "stream",
     "text": [
      "I Love Python\n"
     ]
    }
   ],
   "source": [
    "input_list = ['I','Love','Python']\n",
    "out=[]\n",
    "out=\" \".join(map(str,input_list))\n",
    "print(out)"
   ]
  },
  {
   "cell_type": "code",
   "execution_count": 72,
   "id": "20abe3ea-4905-4daa-aab0-9da42a4fee27",
   "metadata": {},
   "outputs": [
    {
     "name": "stdout",
     "output_type": "stream",
     "text": [
      "['I', ' ', 'L', 'o', 'v', 'e', ' ', 'P', 'y', 't', 'h', 'o', 'n']\n"
     ]
    }
   ],
   "source": [
    "from functools import reduce \n",
    "input_list = ['I','Love','Python']\n",
    "out=reduce(lambda x,y:x+' '+y,input_list)\n",
    "print(out)\n"
   ]
  },
  {
   "cell_type": "markdown",
   "id": "cf91d6aa-60c4-433f-bb83-cf2792f2b32e",
   "metadata": {},
   "source": [
    "You are given a list of numbers such as input_list = [31, 63, 76, 89]. Find and print the largest number in input_list using the reduce() function."
   ]
  },
  {
   "cell_type": "code",
   "execution_count": 77,
   "id": "1673f6b0-db74-426a-bf4e-511551e40e51",
   "metadata": {},
   "outputs": [
    {
     "name": "stdout",
     "output_type": "stream",
     "text": [
      "89\n"
     ]
    }
   ],
   "source": [
    "input_list = [31, 63, 76, 89]\n",
    "out=reduce(lambda x,y:x if x>y else y, input_list)\n",
    "print(out)\n"
   ]
  },
  {
   "cell_type": "code",
   "execution_count": 78,
   "id": "b382edf3-32ff-4cca-b9e8-6d0b2b91ddca",
   "metadata": {},
   "outputs": [
    {
     "name": "stdout",
     "output_type": "stream",
     "text": [
      "[1, 2, 3, 1, 2, 3]\n"
     ]
    }
   ],
   "source": [
    "l=[1,2,3]\n",
    "print(l*2)"
   ]
  },
  {
   "cell_type": "code",
   "execution_count": 94,
   "id": "8e086870-4191-4e1c-a7da-646146089bee",
   "metadata": {},
   "outputs": [
    {
     "name": "stdout",
     "output_type": "stream",
     "text": [
      "22\n",
      "21\n",
      "40\n"
     ]
    }
   ],
   "source": [
    "D = {1:['Raj', 22], 2:['Simran', 21], 3:['Rahul', 40]}\n",
    "for val in D.values():\n",
    "     print(val[1])"
   ]
  },
  {
   "cell_type": "code",
   "execution_count": 100,
   "id": "027f47f8-fde8-4e5c-9515-085eb764f21b",
   "metadata": {},
   "outputs": [
    {
     "name": "stdout",
     "output_type": "stream",
     "text": [
      "love\n",
      "love\n",
      "13\n"
     ]
    }
   ],
   "source": [
    "S=\"I love Python\"\n",
    "print(S[2:6])\n",
    "print(S[-11:-7])\n",
    "print(len(S))"
   ]
  },
  {
   "cell_type": "code",
   "execution_count": 104,
   "id": "e956cfbd-d699-4628-97cc-2540c371ae92",
   "metadata": {},
   "outputs": [
    {
     "name": "stdout",
     "output_type": "stream",
     "text": [
      "15\n",
      "21\n"
     ]
    }
   ],
   "source": [
    "def my_func(*args):\n",
    "    return(sum(args))\n",
    "\n",
    "print(my_func(1,2,3,4,5))\n",
    "print(my_func(6,7,8))"
   ]
  },
  {
   "cell_type": "markdown",
   "id": "62741ac7-4c30-48b4-b1cf-e4bb9c743de5",
   "metadata": {},
   "source": [
    "Given a number ‘n’, output its factorial using reduce().\n",
    "Note: Make sure you handle the edge case of zero. As you know, 0! = 1\n"
   ]
  },
  {
   "cell_type": "code",
   "execution_count": 12,
   "id": "6d5eaa7c-6a67-4058-b7cb-0faf76644f75",
   "metadata": {},
   "outputs": [
    {
     "name": "stdin",
     "output_type": "stream",
     "text": [
      "enter a number 6\n"
     ]
    },
    {
     "name": "stdout",
     "output_type": "stream",
     "text": [
      "720\n"
     ]
    }
   ],
   "source": [
    "new_input=int(input(\"enter a number\"))\n",
    "def fact(new_input):\n",
    "    fact_res=1\n",
    "    if new_input == 0:\n",
    "        return 1\n",
    "    \n",
    "    for i in range(1,new_input+1):\n",
    "        fact_res=fact_res*i\n",
    "    return fact_res\n",
    "print(fact(new_input))"
   ]
  },
  {
   "cell_type": "code",
   "execution_count": 11,
   "id": "48a9b631-5d81-4dc4-ae2a-8dcea37967db",
   "metadata": {},
   "outputs": [
    {
     "name": "stdin",
     "output_type": "stream",
     "text": [
      "enter a number 3\n"
     ]
    },
    {
     "name": "stdout",
     "output_type": "stream",
     "text": [
      "6\n"
     ]
    }
   ],
   "source": [
    "from functools import reduce\n",
    "new_input=int(input(\"enter a number\"))\n",
    "def fact(new_input):\n",
    "    fact_res=1\n",
    "    if new_input == 0 or new_input == 1:\n",
    "        return 1\n",
    "    fact_res=reduce(lambda a,b: a*b,range(1,new_input+1))\n",
    "    return fact_res\n",
    "print(fact(new_input))"
   ]
  },
  {
   "cell_type": "markdown",
   "id": "a817f866-bc9a-4242-9b7f-6737db8eb233",
   "metadata": {},
   "source": [
    "Input:\n",
    "3 lists containing numbers (ranging from 1 to 20) representing students who play cricket, football and hockey respectively.\n",
    "Output:\n",
    "4 different lists containing the students according to the constraints provided in the questions.\n",
    "Students who play all the three sports\n",
    "Students who play both cricket and football but don’t play hockey\n",
    "Students who play exactly two of the sports\n",
    "Students who don’t play any of the three sports\n",
    "\n"
   ]
  },
  {
   "cell_type": "code",
   "execution_count": 21,
   "id": "a9b566a9-75b5-4769-ae59-626b69e649f0",
   "metadata": {},
   "outputs": [
    {
     "name": "stdout",
     "output_type": "stream",
     "text": [
      "[2, 5, 9, 13]\n",
      "[16]\n",
      "[3, 8, 14, 20]\n",
      "[12, 15, 16]\n"
     ]
    }
   ],
   "source": [
    "C=[2, 5, 9, 12, 13, 15, 16, 17, 18, 19]\n",
    "F=[2, 4, 5, 6, 7, 9, 13, 16]\n",
    "H=[1, 2, 5, 9, 10, 11, 12, 13, 15]\n",
    "Cric=set(C)\n",
    "FB=set(F)\n",
    "HK=set(H)\n",
    "All=set()\n",
    "for i in range(1,21):\n",
    "    All.add(i)\n",
    "Common= Cric&FB&HK\n",
    "CricFB= (Cric&FB)-HK\n",
    "NP=All-(Cric|FB|HK)\n",
    "Any=(((Cric&FB)-HK)|((Cric&HK)-FB)|((FB&HK)-Cric))\n",
    "print(sorted(Common))\n",
    "print(sorted(CricFB))\n",
    "print(sorted(Any))\n",
    "print(sorted(NP))\n",
    "\n"
   ]
  },
  {
   "cell_type": "markdown",
   "id": "02f89b56-6628-41b2-be1b-190835689535",
   "metadata": {},
   "source": [
    "###### "
   ]
  }
 ],
 "metadata": {
  "kernelspec": {
   "display_name": "Python 3 (ipykernel)",
   "language": "python",
   "name": "python3"
  },
  "language_info": {
   "codemirror_mode": {
    "name": "ipython",
    "version": 3
   },
   "file_extension": ".py",
   "mimetype": "text/x-python",
   "name": "python",
   "nbconvert_exporter": "python",
   "pygments_lexer": "ipython3",
   "version": "3.10.6"
  }
 },
 "nbformat": 4,
 "nbformat_minor": 5
}

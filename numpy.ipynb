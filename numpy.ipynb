{
 "cells": [
  {
   "cell_type": "code",
   "execution_count": 1,
   "id": "4514072f-ae84-4664-b58c-a6254c45c56e",
   "metadata": {},
   "outputs": [
    {
     "data": {
      "text/plain": [
       "numpy.ndarray"
      ]
     },
     "execution_count": 1,
     "metadata": {},
     "output_type": "execute_result"
    }
   ],
   "source": [
    "import numpy as np\n",
    "np_heights= np.array([71,72,74,85,76])\n",
    "type(np_heights)"
   ]
  },
  {
   "cell_type": "code",
   "execution_count": 2,
   "id": "828b32bf-7f1b-49d6-bf8e-08bf223948e9",
   "metadata": {},
   "outputs": [
    {
     "data": {
      "text/plain": [
       "array([180.34, 182.88, 187.96, 215.9 , 193.04])"
      ]
     },
     "execution_count": 2,
     "metadata": {},
     "output_type": "execute_result"
    }
   ],
   "source": [
    "np_heights*2.54"
   ]
  },
  {
   "cell_type": "code",
   "execution_count": 4,
   "id": "d42c85a0-948f-433b-9976-63adc4a85260",
   "metadata": {},
   "outputs": [
    {
     "data": {
      "text/plain": [
       "[1, 2, 3, 4, 5, 6, 2, 3, 4, 5, 6, 7]"
      ]
     },
     "execution_count": 4,
     "metadata": {},
     "output_type": "execute_result"
    }
   ],
   "source": [
    "list1=[1,2,3,4,5,6]\n",
    "list2=[2,3,4,5,6,7]\n",
    "list1+list2\n"
   ]
  },
  {
   "cell_type": "code",
   "execution_count": 5,
   "id": "ed4bd2b5-3315-4966-b224-b532f916ffdf",
   "metadata": {},
   "outputs": [
    {
     "data": {
      "text/plain": [
       "array([5, 7, 9])"
      ]
     },
     "execution_count": 5,
     "metadata": {},
     "output_type": "execute_result"
    }
   ],
   "source": [
    "np1=np.array([1,2,3])\n",
    "np2=np.array([4,5,6])\n",
    "np1+np2"
   ]
  },
  {
   "cell_type": "code",
   "execution_count": 8,
   "id": "627a1553-fac4-4235-b7fd-fd62dfb3a358",
   "metadata": {},
   "outputs": [
    {
     "name": "stdout",
     "output_type": "stream",
     "text": [
      "[1.  2.  3.5 0.2 1. ]\n"
     ]
    },
    {
     "data": {
      "text/plain": [
       "numpy.ndarray"
      ]
     },
     "execution_count": 8,
     "metadata": {},
     "output_type": "execute_result"
    }
   ],
   "source": [
    "import numpy as np\n",
    "np_heights=np.array([1.0,2,3.5,0.2,True])\n",
    "print(np_heights)\n",
    "type(np_heights)"
   ]
  },
  {
   "cell_type": "code",
   "execution_count": 23,
   "id": "0968179e-e2a4-43b4-96c1-30915a3ef303",
   "metadata": {},
   "outputs": [
    {
     "name": "stdout",
     "output_type": "stream",
     "text": [
      "[1.27   1.2954 1.3208 1.3462 1.3716 1.397  1.4224 1.4478 1.4732 1.4986\n",
      " 1.524  1.5494 1.5748 1.6002 1.6256 1.651  1.6764 1.7018 1.7272 1.7526\n",
      " 1.778  1.8034 1.8288 1.8542 1.8796 1.905  1.9304 1.9558 1.9812 2.0066\n",
      " 2.032  2.0574 2.0828 2.1082 2.1336 2.159  2.1844 2.2098 2.2352 2.2606\n",
      " 2.286  2.3114 2.3368 2.3622 2.3876 2.413  2.4384 2.4638 2.4892 2.5146\n",
      " 2.54  ]\n",
      "[100, 120, 140, 160, 180, 200, 220, 240, 260, 280, 300, 320, 340, 360, 380, 400, 420, 440, 460, 480, 500, 520, 540, 560, 580, 600, 620, 640, 660, 680, 700, 720, 740, 760, 780, 800, 820, 840, 860, 880, 900, 920, 940, 960, 980, 1000, 1020, 1040, 1060, 1080, 1100]\n",
      "<class 'numpy.ndarray'>\n",
      "[[ 45.3592   54.43104  63.50288  72.57472  81.64656  90.7184   99.79024\n",
      "  108.86208 117.93392 127.00576 136.0776  145.14944 154.22128 163.29312\n",
      "  172.36496 181.4368  190.50864 199.58048 208.65232 217.72416 226.796\n",
      "  235.86784 244.93968 254.01152 263.08336 272.1552  281.22704 290.29888\n",
      "  299.37072 308.44256 317.5144  326.58624 335.65808 344.72992 353.80176\n",
      "  362.8736  371.94544 381.01728 390.08912 399.16096 408.2328  417.30464\n",
      "  426.37648 435.44832 444.52016 453.592   462.66384 471.73568 480.80752\n",
      "  489.87936 498.9512 ]]\n",
      "[[28.12276025 32.43686303 36.4015018  40.0466504  43.39932137 46.48390123\n",
      "  49.32244303 51.93492197 54.33945945 56.55251988 58.58908384 60.46280085\n",
      "  62.18612437 63.7704314  65.2261285  66.56274614 67.78902263 68.91297899\n",
      "  69.9419859  70.88282356 71.74173532 72.52447594 73.23635481 73.88227499\n",
      "  74.46676836 74.99402732 75.46793348 75.89208364 76.26981329 76.60421794\n",
      "  76.89817255 77.1543491  77.37523268 77.56313611 77.72021326 77.84847127\n",
      "  77.94978164 78.02589049 78.07842785 78.10891622 78.11877846 78.10934496\n",
      "  78.08186032 78.03748941 77.977323   77.90238295 77.81362698 77.71195306\n",
      "  77.59820351 77.47316872 77.33759068]]\n"
     ]
    }
   ],
   "source": [
    "heights=[]\n",
    "for i in range(50,101):\n",
    "    heights.append(i)\n",
    "import numpy as np\n",
    "npheights=np.array(heights)\n",
    "type(npheights)\n",
    "len(npheights)\n",
    "npheights.shape\n",
    "## since it is one dimensonal array it will be 51,\n",
    "heights_in=npheights*0.0254\n",
    "print(heights_in)\n",
    "weights=[]\n",
    "for i  in range(100,1112,20):\n",
    "    weights.append(i)\n",
    "print(weights)\n",
    "len(weights)\n",
    "npweights=np.array([weights])\n",
    "print(type(npweights))\n",
    "weights_kg=npweights*0.453592\n",
    "print(weights_kg)\n",
    "\n",
    "bmi=weights_kg/(heights_in**2)\n",
    "print(bmi)\n",
    "    "
   ]
  },
  {
   "cell_type": "code",
   "execution_count": 24,
   "id": "73f6efc8-a839-4437-a19d-f4db398976fa",
   "metadata": {},
   "outputs": [
    {
     "name": "stdout",
     "output_type": "stream",
     "text": [
      "[]\n"
     ]
    }
   ],
   "source": [
    "type(bmi)\n",
    "print(bmi[1:5])"
   ]
  },
  {
   "cell_type": "code",
   "execution_count": 44,
   "id": "263319cf-3fab-4090-a957-ea48ae04c847",
   "metadata": {},
   "outputs": [
    {
     "name": "stdout",
     "output_type": "stream",
     "text": [
      "[10, 11, 12, 13, 14, 15, 16, 17, 18, 19, 20, 21, 22, 23, 24, 25, 26, 27, 28, 29, 30, 31, 32, 33, 34, 35, 36, 37, 38, 39, 40, 41, 42, 43, 44, 45, 46, 47, 48, 49, 50, 51, 52, 53, 54, 55, 56, 57, 58, 59, 60, 61, 62, 63, 64, 65, 66, 67, 68, 69, 70, 71, 72, 73, 74, 75, 76, 77, 78, 79, 80, 81, 82, 83, 84, 85, 86, 87, 88, 89, 90, 91, 92, 93, 94, 95, 96, 97, 98, 99]\n",
      "[10, 11, 12, 13, 14, 15, 16, 17, 18, 19, 20, 21, 22, 23, 24, 25, 26, 27, 28, 29, 30, 31, 32, 33, 34, 35, 36, 37, 38, 39, 40, 41, 42, 43, 44, 45, 46, 47, 48, 49, 50, 51, 52, 53, 54, 55, 56, 57, 58, 59, 60, 61, 62, 63, 64, 65, 66, 67, 68, 69, 70, 71, 72, 73, 74, 75, 76, 77, 78, 79, 80, 81, 82, 83, 84, 85, 86, 87, 88, 89, 90, 91, 92, 93, 94, 95, 96, 97, 98, 99]\n",
      "[10 11 12 13 14 15 16 17 18 19 20]\n",
      "[11 13 15 17 19 21 23 25 27 29 31 33 35 37 39 41 43 45 47 49 51 53 55 57\n",
      " 59 61 63 65 67 69 71 73 75 77 79 81 83 85 87 89 91 93 95 97 99]\n"
     ]
    }
   ],
   "source": [
    "import numpy as np\n",
    "list1=[]\n",
    "for i in range(10,100):\n",
    "    list1.append(i)\n",
    "print(list1)\n",
    "nplist=np.array(list1)\n",
    "print(list1)\n",
    "type(nplist)\n",
    "nplist[1:5]\n",
    "nplist[-1]\n",
    "nplist<21\n",
    "nplist[nplist<21]\n",
    "listless21=nplist[nplist<21]\n",
    "print(listless21)\n",
    "listless21.size\n",
    "max(nplist)\n",
    "min(nplist)\n",
    "nplist.mean()\n",
    "nplist[::-2]\n",
    "##start value ,end value and step \n",
    "### it wills start fromt the end\n",
    "print(nplist[1::2])\n"
   ]
  },
  {
   "cell_type": "markdown",
   "id": "eecaed16-c565-48be-87fe-488ed5a25350",
   "metadata": {},
   "source": [
    "From a given array, extract all the elements which are greater than 'm' and less than 'n'. Note: 'm' and 'n' are integer values provided as input.\n",
    "\n",
    "\n",
    "\n",
    "Input format:\n",
    "\n",
    "A list of integers on line one\n",
    "\n",
    "Integer 'm' on line two\n",
    "\n",
    "Integer 'n' on line three\n",
    "\n",
    "\n",
    "\n",
    "Output format:\n",
    "\n",
    "1-D array containing integers greater than 'm' and smaller than 'n'."
   ]
  },
  {
   "cell_type": "code",
   "execution_count": 52,
   "id": "c0a80a88-9cdd-4d85-8ce5-d62dc3176b60",
   "metadata": {},
   "outputs": [
    {
     "name": "stdout",
     "output_type": "stream",
     "text": [
      "[9 7 9]\n"
     ]
    }
   ],
   "source": [
    "input_list=[ 1, 5, 9, 12, 15, 7, 12, 9 ] \n",
    "m=6\n",
    "n=12\n",
    "import numpy as np\n",
    "array_1=np.array(input_list)\n",
    "\n",
    "final_array=array_1[(array_1>m)&(array_1<n)]\n",
    "print(final_array)\n"
   ]
  },
  {
   "cell_type": "markdown",
   "id": "e5df91ff-b809-492a-a672-dc144d47560f",
   "metadata": {},
   "source": [
    "You are provided with 2 lists that contain the data of an ecommerce website. The first list contains the data for the number of items sold for a particular product and the second list contains the price of the product sold. As a part of this exercise, solve the questions that are provided below."
   ]
  },
  {
   "cell_type": "code",
   "execution_count": 60,
   "id": "def5be6b-523b-4a27-ae52-ff09cc1a7362",
   "metadata": {},
   "outputs": [
    {
     "data": {
      "text/plain": [
       "(102,)"
      ]
     },
     "execution_count": 60,
     "metadata": {},
     "output_type": "execute_result"
    }
   ],
   "source": [
    "number = [8, 9, 9, 1, 6, 9, 5, 7, 3, 9, 7, 3, 4, 8, 3, 5, 8, 4, 8, 7, 5, 7, 3, 6, 1, 2, 7, 4, 7, 7, 8, 4, 3, 4, 2, 2, 2, 7, 3, 5, 6, 1, 1, 3, 2, 1, 1, 7, 7, 1, 4, 4, 5, 6, 1, 2, 7, 4, 5, 8, 1, 4, 8, 6, 2, 4, 3, 7, 3, 6, 2, 3, 3, 3, 2, 4, 6, 8, 9, 3, 9, 3, 1, 8, 6, 6, 3, 3, 9, 4, 6, 4, 9, 6, 7, 1, 2, 8, 7, 8, 1, 4]\n",
    "price = [195, 225, 150, 150, 90, 60, 75, 255, 270, 225, 135, 195, 30, 15, 210, 105, 15, 30, 180, 60, 165, 60, 45, 225, 180, 90, 30, 210, 150, 15, 270, 60, 210, 180, 60, 225, 150, 150, 120, 195, 75, 240, 60, 45, 30, 180, 240, 285, 135, 165, 180, 240, 60, 105, 165, 240, 120, 45, 120, 165, 285, 225, 90, 105, 225, 45, 45, 45, 75, 180, 90, 240, 30, 30, 60, 135, 180, 15, 255, 180, 270, 135, 105, 135, 210, 180, 135, 195, 225, 75, 225, 15, 240, 60, 15, 180, 255, 90, 15, 150, 230, 150]\n",
    "import numpy as np\n",
    "numbernp=np.array(number)\n",
    "numbernp.size\n",
    "pricenp=np.array(price)\n",
    "pricenp.shape\n"
   ]
  },
  {
   "cell_type": "markdown",
   "id": "fc74d4cd-f033-40c9-8ae2-186d0bf0aa09",
   "metadata": {},
   "source": [
    "How many items were sold in total?"
   ]
  },
  {
   "cell_type": "code",
   "execution_count": 61,
   "id": "4a66a6fa-9de9-4b7e-8238-7fd86aa325b9",
   "metadata": {},
   "outputs": [
    {
     "data": {
      "text/plain": [
       "490"
      ]
     },
     "execution_count": 61,
     "metadata": {},
     "output_type": "execute_result"
    }
   ],
   "source": [
    "np.sum(numbernp)"
   ]
  },
  {
   "cell_type": "markdown",
   "id": "c05bab95-3d35-4b67-95c5-a0f6fb3f3a24",
   "metadata": {},
   "source": [
    "What is the average price of the products sold by the e-commerce company"
   ]
  },
  {
   "cell_type": "code",
   "execution_count": 64,
   "id": "22a16f36-4828-4a70-8a80-b9034c39e4a2",
   "metadata": {},
   "outputs": [
    {
     "data": {
      "text/plain": [
       "139.01960784313727"
      ]
     },
     "execution_count": 64,
     "metadata": {},
     "output_type": "execute_result"
    }
   ],
   "source": [
    "pricenp.mean()"
   ]
  },
  {
   "cell_type": "markdown",
   "id": "51186fdf-3aee-4175-bc1c-dcb7f516a1bb",
   "metadata": {},
   "source": [
    "What is the price of the costliest item sold?"
   ]
  },
  {
   "cell_type": "code",
   "execution_count": 66,
   "id": "587d56b7-de78-4327-bf68-8e19d3c0845f",
   "metadata": {},
   "outputs": [
    {
     "data": {
      "text/plain": [
       "285"
      ]
     },
     "execution_count": 66,
     "metadata": {},
     "output_type": "execute_result"
    }
   ],
   "source": [
    "pricenp.max()"
   ]
  },
  {
   "cell_type": "markdown",
   "id": "8a0c3e77-d32d-4245-a1ba-cc88efdafdbd",
   "metadata": {},
   "source": [
    "What is the total revenue of the company? [Revenue = Price*Quantity]"
   ]
  },
  {
   "cell_type": "code",
   "execution_count": 69,
   "id": "bd2668bf-1f7e-413b-8563-657e0a9962c0",
   "metadata": {},
   "outputs": [
    {
     "name": "stdout",
     "output_type": "stream",
     "text": [
      "[1560 2025 1350  150  540  540  375 1785  810 2025  945  585  120  120\n",
      "  630  525  120  120 1440  420  825  420  135 1350  180  180  210  840\n",
      " 1050  105 2160  240  630  720  120  450  300 1050  360  975  450  240\n",
      "   60  135   60  180  240 1995  945  165  720  960  300  630  165  480\n",
      "  840  180  600 1320  285  900  720  630  450  180  135  315  225 1080\n",
      "  180  720   90   90  120  540 1080  120 2295  540 2430  405  105 1080\n",
      " 1260 1080  405  585 2025  300 1350   60 2160  360  105  180  510  720\n",
      "  105 1200  230  600]\n",
      "67100\n"
     ]
    }
   ],
   "source": [
    "prod=numbernp*pricenp\n",
    "print(prod)\n",
    "print(np.sum(prod))"
   ]
  },
  {
   "cell_type": "markdown",
   "id": "4705510a-a788-401f-9b8f-a546cf982248",
   "metadata": {},
   "source": [
    "Demand for the 20th product on the list is higher than that for the 50th product. [True/False]\n",
    "\n"
   ]
  },
  {
   "cell_type": "code",
   "execution_count": 76,
   "id": "8f6b8c97-ad2b-4fde-b00b-85d8ad36c7a5",
   "metadata": {},
   "outputs": [
    {
     "data": {
      "text/plain": [
       "True"
      ]
     },
     "execution_count": 76,
     "metadata": {},
     "output_type": "execute_result"
    }
   ],
   "source": [
    "prod[19]>prod[49]"
   ]
  },
  {
   "cell_type": "markdown",
   "id": "2fc6a5e1-2574-4651-b983-1512fe9e8c52",
   "metadata": {},
   "source": [
    "How many products fall under the category of expensive goods?\n",
    "An expensive good is one whose price is higher than the average price of the products sold by the company."
   ]
  },
  {
   "cell_type": "code",
   "execution_count": 80,
   "id": "0a97235f-b8de-4dfa-8f7d-e7bf033eefc4",
   "metadata": {},
   "outputs": [
    {
     "name": "stdout",
     "output_type": "stream",
     "text": [
      "139.01960784313727\n",
      "[195 225 150 150 255 270 225 195 210 180 165 225 180 210 150 270 210 180\n",
      " 225 150 150 195 240 180 240 285 165 180 240 165 240 165 285 225 225 180\n",
      " 240 180 255 180 270 210 180 195 225 225 240 180 255 150 230 150]\n"
     ]
    },
    {
     "data": {
      "text/plain": [
       "52"
      ]
     },
     "execution_count": 80,
     "metadata": {},
     "output_type": "execute_result"
    }
   ],
   "source": [
    "avg=pricenp.mean()\n",
    "print(avg)\n",
    "list1=pricenp[pricenp>avg]\n",
    "print(list1)\n",
    "list1.size"
   ]
  },
  {
   "cell_type": "markdown",
   "id": "7a7252c7-5dd1-4343-9b98-bab3a6396ae7",
   "metadata": {},
   "source": [
    "Case Study - Cricket Tournament\n",
    "Example - 1\n",
    "Players list contain the height(inches) and weight(lbs) data for all the players"
   ]
  },
  {
   "cell_type": "code",
   "execution_count": 6,
   "id": "caaa0017-ba10-4b61-bc1a-17161acef1bf",
   "metadata": {},
   "outputs": [
    {
     "name": "stdout",
     "output_type": "stream",
     "text": [
      "(1015, 2)\n",
      "2\n",
      "int64\n",
      "8\n"
     ]
    }
   ],
   "source": [
    "players = [(74, 180), (74, 215), (72, 210), (72, 210), (73, 188), (69, 176), (69, 209), (71, 200), (76, 231), (71, 180), (73, 188), (73, 180), (74, 185), (74, 160), (69, 180), (70, 185), (73, 189), (75, 185), (78, 219), (79, 230), (76, 205), (74, 230), (76, 195), (72, 180), (71, 192), (75, 225), (77, 203), (74, 195), (73, 182), (74, 188), (78, 200), (73, 180), (75, 200), (73, 200), (75, 245), (75, 240), (74, 215), (69, 185), (71, 175), (74, 199), (73, 200), (73, 215), (76, 200), (74, 205), (74, 206), (70, 186), (72, 188), (77, 220), (74, 210), (70, 195), (73, 200), (75, 200), (76, 212), (76, 224), (78, 210), (74, 205), (74, 220), (76, 195), (77, 200), (81, 260), (78, 228), (75, 270), (77, 200), (75, 210), (76, 190), (74, 220), (72, 180), (72, 205), (75, 210), (73, 220), (73, 211), (73, 200), (70, 180), (70, 190), (70, 170), (76, 230), (68, 155), (71, 185), (72, 185), (75, 200), (75, 225), (75, 225), (75, 220), (68, 160), (74, 205), (78, 235), (71, 250), (73, 210), (76, 190), (74, 160), (74, 200), (79, 205), (75, 222), (73, 195), (76, 205), (74, 220), (74, 220), (73, 170), (72, 185), (74, 195), (73, 220), (74, 230), (72, 180), (73, 220), (69, 180), (72, 180), (73, 170), (75, 210), (75, 215), (73, 200), (72, 213), (72, 180), (76, 192), (74, 235), (72, 185), (77, 235), (74, 210), (77, 222), (75, 210), (76, 230), (80, 220), (74, 180), (74, 190), (75, 200), (78, 210), (73, 194), (73, 180), (74, 190), (75, 240), (76, 200), (71, 198), (73, 200), (74, 195), (76, 210), (76, 220), (74, 190), (73, 210), (74, 225), (70, 180), (72, 185), (73, 170), (73, 185), (73, 185), (73, 180), (71, 178), (74, 175), (74, 200), (72, 204), (74, 211), (71, 190), (74, 210), (73, 190), (75, 190), (75, 185), (79, 290), (73, 175), (75, 185), (76, 200), (74, 220), (76, 170), (78, 220), (74, 190), (76, 220), (72, 205), (74, 200), (76, 250), (74, 225), (75, 215), (78, 210), (75, 215), (72, 195), (74, 200), (72, 194), (74, 220), (70, 180), (71, 180), (70, 170), (75, 195), (71, 180), (71, 170), (73, 206), (72, 205), (71, 200), (73, 225), (72, 201), (75, 225), (74, 233), (74, 180), (75, 225), (73, 180), (77, 220), (73, 180), (76, 237), (75, 215), (74, 190), (76, 235), (75, 190), (73, 180), (71, 165), (76, 195), (75, 200), (72, 190), (71, 190), (77, 185), (73, 185), (74, 205), (71, 190), (72, 205), (74, 206), (75, 220), (73, 208), (72, 170), (75, 195), (75, 210), (74, 190), (72, 211), (74, 230), (71, 170), (70, 185), (74, 185), (77, 241), (77, 225), (75, 210), (75, 175), (78, 230), (75, 200), (76, 215), (73, 198), (75, 226), (75, 278), (79, 215), (77, 230), (76, 240), (71, 184), (75, 219), (74, 170), (69, 218), (71, 190), (76, 225), (72, 220), (72, 176), (70, 190), (72, 197), (73, 204), (71, 167), (72, 180), (71, 195), (73, 220), (72, 215), (73, 185), (74, 190), (74, 205), (72, 205), (75, 200), (74, 210), (74, 215), (77, 200), (75, 205), (73, 211), (72, 190), (71, 208), (74, 200), (77, 210), (75, 232), (75, 230), (75, 210), (78, 220), (78, 210), (74, 202), (76, 212), (78, 225), (76, 170), (70, 190), (72, 200), (80, 237), (74, 220), (74, 170), (71, 193), (70, 190), (72, 150), (71, 220), (74, 200), (71, 190), (72, 185), (71, 185), (74, 200), (69, 172), (76, 220), (75, 225), (75, 190), (76, 195), (73, 219), (76, 190), (73, 197), (77, 200), (73, 195), (72, 210), (72, 177), (77, 220), (77, 235), (71, 180), (74, 195), (74, 195), (73, 190), (78, 230), (75, 190), (73, 200), (70, 190), (74, 190), (72, 200), (73, 200), (73, 184), (75, 200), (75, 180), (74, 219), (76, 187), (73, 200), (74, 220), (75, 205), (75, 190), (72, 170), (73, 160), (73, 215), (72, 175), (74, 205), (78, 200), (76, 214), (73, 200), (74, 190), (75, 180), (70, 205), (75, 220), (71, 190), (72, 215), (78, 235), (75, 191), (73, 200), (73, 181), (71, 200), (75, 210), (77, 240), (72, 185), (69, 165), (73, 190), (74, 185), (72, 175), (70, 155), (75, 210), (70, 170), (72, 175), (72, 220), (74, 210), (73, 205), (74, 200), (76, 205), (75, 195), (80, 240), (72, 150), (75, 200), (73, 215), (74, 202), (74, 200), (73, 190), (75, 205), (75, 190), (71, 160), (73, 215), (75, 185), (74, 200), (74, 190), (72, 210), (74, 185), (74, 220), (74, 190), (73, 202), (76, 205), (75, 220), (72, 175), (73, 160), (73, 190), (73, 200), (72, 229), (72, 206), (72, 220), (72, 180), (71, 195), (75, 175), (75, 188), (74, 230), (73, 190), (75, 200), (79, 190), (74, 219), (76, 235), (73, 180), (74, 180), (74, 180), (72, 200), (74, 234), (74, 185), (75, 220), (78, 223), (74, 200), (74, 210), (74, 200), (77, 210), (70, 190), (73, 177), (74, 227), (73, 180), (71, 195), (75, 199), (71, 175), (72, 185), (77, 240), (74, 210), (70, 180), (77, 194), (73, 225), (72, 180), (76, 205), (71, 193), (76, 230), (78, 230), (75, 220), (73, 200), (78, 249), (74, 190), (79, 208), (75, 245), (76, 250), (72, 160), (75, 192), (75, 220), (70, 170), (72, 197), (70, 155), (74, 190), (71, 200), (76, 220), (73, 210), (76, 228), (71, 190), (69, 160), (72, 184), (72, 180), (69, 180), (73, 200), (69, 176), (73, 160), (74, 222), (74, 211), (72, 195), (71, 200), (72, 175), (72, 206), (76, 240), (76, 185), (76, 260), (74, 185), (76, 221), (75, 205), (71, 200), (72, 170), (71, 201), (73, 205), (75, 185), (76, 205), (75, 245), (71, 220), (75, 210), (74, 220), (72, 185), (73, 175), (73, 170), (73, 180), (73, 200), (76, 210), (72, 175), (76, 220), (73, 206), (73, 180), (73, 210), (75, 195), (75, 200), (77, 200), (73, 164), (72, 180), (75, 220), (70, 195), (74, 205), (72, 170), (80, 240), (71, 210), (71, 195), (74, 200), (74, 205), (73, 192), (75, 190), (76, 170), (73, 240), (77, 200), (72, 205), (73, 175), (77, 250), (76, 220), (71, 224), (75, 210), (73, 195), (74, 180), (77, 245), (71, 175), (72, 180), (73, 215), (69, 175), (73, 180), (70, 195), (74, 230), (76, 230), (73, 205), (73, 215), (75, 195), (73, 180), (79, 205), (74, 180), (73, 190), (74, 180), (77, 190), (75, 190), (74, 220), (73, 210), (77, 255), (73, 190), (77, 230), (74, 200), (74, 205), (73, 210), (77, 225), (74, 215), (77, 220), (75, 205), (77, 200), (75, 220), (71, 197), (74, 225), (70, 187), (79, 245), (72, 185), (72, 185), (70, 175), (74, 200), (74, 180), (72, 188), (73, 225), (72, 200), (74, 210), (74, 245), (76, 213), (82, 231), (74, 165), (74, 228), (70, 210), (73, 250), (73, 191), (74, 190), (77, 200), (72, 215), (76, 254), (73, 232), (73, 180), (72, 215), (74, 220), (74, 180), (71, 200), (72, 170), (75, 195), (74, 210), (74, 200), (77, 220), (70, 165), (71, 180), (73, 200), (76, 200), (71, 170), (75, 224), (74, 220), (72, 180), (76, 198), (79, 240), (76, 239), (73, 185), (76, 210), (78, 220), (75, 200), (76, 195), (72, 220), (72, 230), (73, 170), (73, 220), (75, 230), (71, 165), (76, 205), (70, 192), (75, 210), (74, 205), (75, 200), (73, 210), (71, 185), (71, 195), (72, 202), (73, 205), (73, 195), (72, 180), (69, 200), (73, 185), (78, 240), (71, 185), (73, 220), (75, 205), (76, 205), (70, 180), (74, 201), (77, 190), (75, 208), (79, 240), (72, 180), (77, 230), (73, 195), (75, 215), (75, 190), (75, 195), (73, 215), (73, 215), (76, 220), (77, 220), (75, 230), (70, 195), (71, 190), (71, 195), (75, 209), (74, 204), (69, 170), (70, 185), (75, 205), (72, 175), (75, 210), (73, 190), (72, 180), (72, 180), (72, 160), (76, 235), (75, 200), (74, 210), (69, 180), (73, 190), (72, 197), (72, 203), (75, 205), (77, 170), (76, 200), (80, 250), (77, 200), (76, 220), (79, 200), (71, 190), (75, 170), (73, 190), (76, 220), (77, 215), (73, 206), (76, 215), (70, 185), (75, 235), (73, 188), (75, 230), (70, 195), (69, 168), (71, 190), (72, 160), (72, 200), (73, 200), (70, 189), (70, 180), (73, 190), (76, 200), (75, 220), (72, 187), (73, 240), (79, 190), (71, 180), (72, 185), (74, 210), (74, 220), (74, 219), (72, 190), (76, 193), (76, 175), (72, 180), (72, 215), (71, 210), (72, 200), (72, 190), (70, 185), (77, 220), (74, 170), (72, 195), (76, 205), (71, 195), (76, 210), (71, 190), (73, 190), (70, 180), (73, 220), (73, 190), (72, 186), (71, 185), (71, 190), (71, 180), (72, 190), (72, 170), (74, 210), (74, 240), (74, 220), (71, 180), (72, 210), (75, 210), (72, 195), (71, 160), (72, 180), (72, 205), (72, 200), (72, 185), (74, 245), (74, 190), (77, 210), (75, 200), (73, 200), (75, 222), (73, 215), (76, 240), (72, 170), (77, 220), (75, 156), (72, 190), (71, 202), (71, 221), (75, 200), (72, 190), (73, 210), (73, 190), (71, 200), (70, 165), (75, 190), (71, 185), (76, 230), (73, 208), (68, 209), (71, 175), (72, 180), (74, 200), (77, 205), (72, 200), (76, 250), (78, 210), (81, 230), (72, 244), (73, 202), (76, 240), (72, 200), (72, 215), (74, 177), (76, 210), (73, 170), (76, 215), (75, 217), (70, 198), (71, 200), (74, 220), (72, 170), (73, 200), (76, 230), (76, 231), (73, 183), (71, 192), (68, 167), (71, 190), (71, 180), (74, 180), (77, 215), (69, 160), (72, 205), (76, 223), (75, 175), (76, 170), (75, 190), (76, 240), (72, 175), (74, 230), (76, 223), (74, 196), (72, 167), (75, 195), (78, 190), (77, 250), (70, 190), (72, 190), (79, 190), (74, 170), (71, 160), (68, 150), (77, 225), (75, 220), (71, 209), (72, 210), (70, 176), (72, 260), (72, 195), (73, 190), (72, 184), (74, 180), (72, 195), (72, 195), (75, 219), (72, 225), (73, 212), (74, 202), (72, 185), (78, 200), (75, 209), (72, 200), (74, 195), (75, 228), (75, 210), (76, 190), (74, 212), (74, 190), (73, 218), (74, 220), (71, 190), (74, 235), (75, 210), (76, 200), (74, 188), (76, 210), (76, 235), (73, 188), (75, 215), (75, 216), (74, 220), (68, 180), (72, 185), (75, 200), (71, 210), (70, 220), (72, 185), (73, 231), (72, 210), (75, 195), (74, 200), (70, 205), (76, 200), (71, 190), (82, 250), (72, 185), (73, 180), (74, 170), (71, 180), (75, 208), (77, 235), (72, 215), (74, 244), (72, 220), (73, 185), (78, 230), (77, 190), (73, 200), (73, 180), (73, 190), (73, 196), (73, 180), (76, 230), (75, 224), (70, 160), (73, 178), (72, 205), (73, 185), (75, 210), (74, 180), (73, 190), (73, 200), (76, 257), (73, 190), (75, 220), (70, 165), (77, 205), (72, 200), (77, 208), (74, 185), (75, 215), (75, 170), (75, 235), (75, 210), (72, 170), (74, 180), (71, 170), (76, 190), (71, 150), (75, 230), (76, 203), (83, 260), (75, 246), (74, 186), (76, 210), (72, 198), (72, 210), (75, 215), (75, 180), (72, 200), (77, 245), (73, 200), (72, 192), (70, 192), (74, 200), (72, 192), (74, 205), (72, 190), (71, 186), (70, 170), (71, 197), (76, 219), (74, 200), (76, 220), (74, 207), (74, 225), (74, 207), (75, 212), (75, 225), (71, 170), (71, 190), (74, 210), (77, 230), (71, 210), (74, 200), (75, 238), (77, 234), (76, 222), (74, 200), (76, 190), (72, 170), (71, 220), (72, 223), (75, 210), (73, 215), (68, 196), (72, 175), (69, 175), (73, 189), (73, 205), (75, 210), (70, 180), (70, 180), (74, 197), (75, 220), (74, 228), (74, 190), (73, 204), (74, 165), (75, 216), (77, 220), (73, 208), (74, 210), (76, 215), (74, 195), (75, 200), (73, 215), (76, 229), (78, 240), (75, 207), (73, 205), (77, 208), (74, 185), (72, 190), (74, 170), (72, 208), (71, 225), (73, 190), (75, 225), (73, 185), (67, 180), (67, 165), (76, 240), (74, 220), (73, 212), (70, 163), (75, 215), (70, 175), (72, 205), (77, 210), (79, 205), (78, 208), (74, 215), (75, 180), (75, 200), (78, 230), (76, 211), (75, 230), (69, 190), (75, 220), (72, 180), (75, 205), (73, 190), (74, 180), (75, 205), (75, 190), (73, 195)]\n",
    "len(players)\n",
    "players[1][1]\n",
    "import numpy as np\n",
    "np_player=np.array(players)\n",
    "print(np_player.shape)\n",
    "print(np_player.ndim)\n",
    "print(np_player.dtype)##data type\n",
    "print(np_player.itemsize)## size of single item"
   ]
  },
  {
   "cell_type": "code",
   "execution_count": 7,
   "id": "4d3d3a9b-192a-4db3-a679-a0983141ade3",
   "metadata": {},
   "outputs": [
    {
     "name": "stdout",
     "output_type": "stream",
     "text": [
      "[[ 1.8796  81.64656]\n",
      " [ 1.8796  97.52228]\n",
      " [ 1.8288  95.25432]\n",
      " ...\n",
      " [ 1.905   92.98636]\n",
      " [ 1.905   86.18248]\n",
      " [ 1.8542  88.45044]]\n"
     ]
    }
   ],
   "source": [
    "player_converted=np_player*[0.0254, 0.453592]\n",
    "print(player_converted)"
   ]
  },
  {
   "cell_type": "code",
   "execution_count": 91,
   "id": "2a717208-511f-43a2-a00e-9545c469659a",
   "metadata": {},
   "outputs": [
    {
     "data": {
      "text/plain": [
       "array([ 1.8796 , 81.64656])"
      ]
     },
     "execution_count": 91,
     "metadata": {},
     "output_type": "execute_result"
    }
   ],
   "source": [
    "player_converted[0]"
   ]
  },
  {
   "cell_type": "code",
   "execution_count": 8,
   "id": "b4cdef3e-f7b2-4444-8691-f776db9d7d4c",
   "metadata": {},
   "outputs": [
    {
     "name": "stdout",
     "output_type": "stream",
     "text": [
      "81.64656\n",
      "[1.8796 1.8796 1.8288 ... 1.905  1.905  1.8542]\n",
      "1.9811999999999999\n"
     ]
    }
   ],
   "source": [
    "## fetch the first colum \n",
    "print(player_converted[0][1])\n",
    "##fetch the row of the list\n",
    "print(player_converted[:,0])\n",
    "#fetch the 124th player\n",
    "print(player_converted[124][0])"
   ]
  },
  {
   "cell_type": "code",
   "execution_count": 12,
   "id": "3130db09-05b4-4361-b4c1-f899fdfeaba0",
   "metadata": {},
   "outputs": [
    {
     "name": "stdout",
     "output_type": "stream",
     "text": [
      "(936, 2)\n"
     ]
    }
   ],
   "source": [
    "### the players who are taller than 1.8\n",
    "tall_players=player_converted[player_converted[:,0]>1.8]\n",
    "print(tall_players.shape)"
   ]
  },
  {
   "cell_type": "code",
   "execution_count": 13,
   "id": "deb65795-6141-4b49-90d3-e703ebdc9752",
   "metadata": {},
   "outputs": [
    {
     "data": {
      "text/plain": [
       "array(['Keeper', 'Batsman', 'Bowler', ..., 'Batsman', 'Bowler',\n",
       "       'Keeper-Batsman'], dtype='<U14')"
      ]
     },
     "execution_count": 13,
     "metadata": {},
     "output_type": "execute_result"
    }
   ],
   "source": [
    "skills = np.array(['Keeper', 'Batsman', 'Bowler', 'Keeper-Batsman', 'Batsman', 'Keeper-Batsman', 'Batsman', 'Batsman', 'Batsman', 'Bowler', 'Batsman', 'Batsman', 'Bowler', 'Bowler', 'Bowler', 'Batsman', 'Keeper-Batsman', 'Bowler', 'Keeper-Batsman', 'Batsman', 'Keeper', 'Keeper-Batsman', 'Keeper-Batsman', 'Batsman', 'Batsman', 'Batsman', 'Batsman', 'Keeper-Batsman', 'Batsman', 'Keeper', 'Keeper-Batsman', 'Keeper', 'Keeper-Batsman', 'Keeper-Batsman', 'Batsman', 'Bowler', 'Batsman', 'Keeper-Batsman', 'Batsman', 'Keeper', 'Batsman', 'Keeper', 'Bowler', 'Keeper-Batsman', 'Keeper', 'Bowler', 'Keeper', 'Keeper', 'Keeper', 'Keeper', 'Bowler', 'Keeper-Batsman', 'Bowler', 'Keeper-Batsman', 'Keeper-Batsman', 'Batsman', 'Keeper-Batsman', 'Batsman', 'Keeper-Batsman', 'Keeper-Batsman', 'Keeper', 'Keeper', 'Keeper-Batsman', 'Batsman', 'Batsman', 'Keeper', 'Batsman', 'Keeper-Batsman', 'Batsman', 'Batsman', 'Keeper-Batsman', 'Keeper-Batsman', 'Batsman', 'Batsman', 'Keeper-Batsman', 'Bowler', 'Bowler', 'Batsman', 'Batsman', 'Batsman', 'Bowler', 'Keeper-Batsman', 'Keeper-Batsman', 'Bowler', 'Bowler', 'Batsman', 'Batsman', 'Batsman', 'Keeper-Batsman', 'Keeper-Batsman', 'Bowler', 'Bowler', 'Keeper-Batsman', 'Batsman', 'Batsman', 'Batsman', 'Keeper-Batsman', 'Batsman', 'Batsman', 'Keeper-Batsman', 'Batsman', 'Bowler', 'Batsman', 'Batsman', 'Keeper', 'Batsman', 'Keeper-Batsman', 'Batsman', 'Batsman', 'Keeper-Batsman', 'Batsman', 'Batsman', 'Bowler', 'Keeper', 'Keeper-Batsman', 'Batsman', 'Keeper', 'Batsman', 'Batsman', 'Batsman', 'Batsman', 'Keeper-Batsman', 'Keeper-Batsman', 'Batsman', 'Keeper-Batsman', 'Batsman', 'Keeper-Batsman', 'Batsman', 'Batsman', 'Bowler', 'Batsman', 'Keeper', 'Bowler', 'Batsman', 'Keeper-Batsman', 'Batsman', 'Keeper-Batsman', 'Keeper', 'Keeper-Batsman', 'Keeper-Batsman', 'Batsman', 'Bowler', 'Keeper', 'Batsman', 'Keeper-Batsman', 'Bowler', 'Keeper-Batsman', 'Bowler', 'Bowler', 'Batsman', 'Keeper-Batsman', 'Batsman', 'Bowler', 'Keeper', 'Keeper-Batsman', 'Batsman', 'Keeper', 'Bowler', 'Keeper-Batsman', 'Keeper-Batsman', 'Keeper-Batsman', 'Keeper', 'Keeper', 'Batsman', 'Keeper-Batsman', 'Keeper', 'Keeper-Batsman', 'Batsman', 'Keeper', 'Bowler', 'Keeper-Batsman', 'Keeper', 'Keeper', 'Keeper-Batsman', 'Batsman', 'Keeper', 'Keeper-Batsman', 'Keeper-Batsman', 'Keeper-Batsman', 'Batsman', 'Keeper-Batsman', 'Batsman', 'Keeper-Batsman', 'Keeper-Batsman', 'Bowler', 'Keeper-Batsman', 'Keeper-Batsman', 'Keeper-Batsman', 'Batsman', 'Batsman', 'Bowler', 'Keeper-Batsman', 'Batsman', 'Batsman', 'Keeper-Batsman', 'Batsman', 'Bowler', 'Bowler', 'Keeper-Batsman', 'Bowler', 'Keeper', 'Batsman', 'Bowler', 'Bowler', 'Keeper-Batsman', 'Keeper-Batsman', 'Bowler', 'Keeper-Batsman', 'Keeper', 'Keeper-Batsman', 'Batsman', 'Keeper-Batsman', 'Keeper-Batsman', 'Batsman', 'Batsman', 'Keeper', 'Keeper-Batsman', 'Batsman', 'Keeper', 'Keeper', 'Keeper-Batsman', 'Batsman', 'Keeper-Batsman', 'Keeper-Batsman', 'Batsman', 'Bowler', 'Keeper-Batsman', 'Keeper-Batsman', 'Batsman', 'Bowler', 'Bowler', 'Bowler', 'Bowler', 'Bowler', 'Batsman', 'Keeper-Batsman', 'Keeper-Batsman', 'Bowler', 'Batsman', 'Keeper', 'Batsman', 'Keeper', 'Bowler', 'Bowler', 'Keeper', 'Batsman', 'Keeper-Batsman', 'Batsman', 'Keeper-Batsman', 'Keeper-Batsman', 'Batsman', 'Batsman', 'Bowler', 'Bowler', 'Keeper-Batsman', 'Keeper-Batsman', 'Keeper-Batsman', 'Batsman', 'Batsman', 'Keeper', 'Keeper-Batsman', 'Batsman', 'Batsman', 'Keeper-Batsman', 'Keeper-Batsman', 'Keeper-Batsman', 'Batsman', 'Batsman', 'Batsman', 'Keeper-Batsman', 'Batsman', 'Bowler', 'Bowler', 'Keeper-Batsman', 'Keeper-Batsman', 'Batsman', 'Keeper', 'Bowler', 'Keeper-Batsman', 'Keeper-Batsman', 'Keeper-Batsman', 'Keeper', 'Keeper-Batsman', 'Batsman', 'Keeper-Batsman', 'Bowler', 'Bowler', 'Keeper', 'Bowler', 'Keeper-Batsman', 'Batsman', 'Batsman', 'Keeper', 'Bowler', 'Bowler', 'Batsman', 'Keeper-Batsman', 'Bowler', 'Batsman', 'Batsman', 'Batsman', 'Keeper-Batsman', 'Keeper-Batsman', 'Keeper-Batsman', 'Batsman', 'Keeper-Batsman', 'Bowler', 'Batsman', 'Batsman', 'Batsman', 'Bowler', 'Batsman', 'Batsman', 'Keeper-Batsman', 'Batsman', 'Keeper-Batsman', 'Batsman', 'Batsman', 'Bowler', 'Keeper-Batsman', 'Keeper-Batsman', 'Batsman', 'Bowler', 'Keeper-Batsman', 'Keeper-Batsman', 'Batsman', 'Batsman', 'Batsman', 'Keeper-Batsman', 'Batsman', 'Keeper-Batsman', 'Bowler', 'Keeper-Batsman', 'Keeper-Batsman', 'Batsman', 'Keeper-Batsman', 'Bowler', 'Keeper-Batsman', 'Keeper-Batsman', 'Keeper', 'Batsman', 'Batsman', 'Batsman', 'Keeper', 'Batsman', 'Bowler', 'Keeper-Batsman', 'Keeper-Batsman', 'Batsman', 'Bowler', 'Keeper', 'Batsman', 'Keeper-Batsman', 'Bowler', 'Batsman', 'Bowler', 'Bowler', 'Bowler', 'Batsman', 'Keeper', 'Bowler', 'Bowler', 'Batsman', 'Bowler', 'Keeper-Batsman', 'Keeper-Batsman', 'Keeper-Batsman', 'Bowler', 'Keeper', 'Keeper-Batsman', 'Keeper-Batsman', 'Keeper-Batsman', 'Keeper-Batsman', 'Keeper', 'Bowler', 'Keeper', 'Keeper-Batsman', 'Keeper-Batsman', 'Batsman', 'Keeper', 'Keeper-Batsman', 'Keeper-Batsman', 'Keeper-Batsman', 'Bowler', 'Keeper-Batsman', 'Keeper-Batsman', 'Keeper', 'Keeper-Batsman', 'Keeper-Batsman', 'Keeper-Batsman', 'Keeper', 'Keeper-Batsman', 'Keeper', 'Bowler', 'Batsman', 'Bowler', 'Batsman', 'Bowler', 'Keeper-Batsman', 'Keeper-Batsman', 'Keeper-Batsman', 'Keeper', 'Keeper', 'Keeper', 'Batsman', 'Bowler', 'Batsman', 'Keeper-Batsman', 'Batsman', 'Bowler', 'Keeper', 'Batsman', 'Keeper-Batsman', 'Batsman', 'Batsman', 'Keeper-Batsman', 'Bowler', 'Keeper', 'Batsman', 'Bowler', 'Keeper', 'Keeper', 'Batsman', 'Bowler', 'Bowler', 'Batsman', 'Keeper', 'Keeper', 'Keeper-Batsman', 'Batsman', 'Bowler', 'Keeper-Batsman', 'Bowler', 'Keeper-Batsman', 'Keeper-Batsman', 'Bowler', 'Keeper-Batsman', 'Batsman', 'Keeper-Batsman', 'Keeper-Batsman', 'Batsman', 'Keeper-Batsman', 'Bowler', 'Keeper', 'Keeper-Batsman', 'Keeper-Batsman', 'Keeper', 'Bowler', 'Keeper-Batsman', 'Keeper-Batsman', 'Keeper', 'Keeper-Batsman', 'Bowler', 'Batsman', 'Bowler', 'Bowler', 'Keeper', 'Keeper-Batsman', 'Bowler', 'Keeper-Batsman', 'Bowler', 'Keeper-Batsman', 'Keeper', 'Keeper-Batsman', 'Keeper-Batsman', 'Bowler', 'Bowler', 'Batsman', 'Bowler', 'Keeper', 'Batsman', 'Keeper-Batsman', 'Bowler', 'Keeper-Batsman', 'Batsman', 'Batsman', 'Keeper-Batsman', 'Batsman', 'Keeper', 'Keeper-Batsman', 'Batsman', 'Bowler', 'Bowler', 'Batsman', 'Batsman', 'Batsman', 'Keeper', 'Keeper', 'Keeper-Batsman', 'Bowler', 'Batsman', 'Keeper', 'Keeper-Batsman', 'Batsman', 'Keeper', 'Batsman', 'Batsman', 'Keeper', 'Batsman', 'Keeper-Batsman', 'Bowler', 'Keeper-Batsman', 'Batsman', 'Batsman', 'Bowler', 'Batsman', 'Keeper', 'Bowler', 'Keeper', 'Bowler', 'Batsman', 'Keeper', 'Keeper', 'Keeper-Batsman', 'Keeper-Batsman', 'Batsman', 'Batsman', 'Keeper-Batsman', 'Keeper', 'Bowler', 'Batsman', 'Keeper', 'Bowler', 'Keeper', 'Keeper-Batsman', 'Keeper-Batsman', 'Batsman', 'Batsman', 'Batsman', 'Keeper-Batsman', 'Batsman', 'Batsman', 'Keeper', 'Batsman', 'Keeper-Batsman', 'Batsman', 'Keeper-Batsman', 'Keeper', 'Batsman', 'Bowler', 'Keeper', 'Bowler', 'Batsman', 'Batsman', 'Bowler', 'Batsman', 'Batsman', 'Bowler', 'Bowler', 'Bowler', 'Batsman', 'Keeper', 'Keeper-Batsman', 'Keeper-Batsman', 'Batsman', 'Keeper-Batsman', 'Keeper', 'Keeper-Batsman', 'Batsman', 'Batsman', 'Batsman', 'Bowler', 'Keeper-Batsman', 'Bowler', 'Keeper-Batsman', 'Bowler', 'Batsman', 'Batsman', 'Keeper-Batsman', 'Batsman', 'Batsman', 'Keeper-Batsman', 'Keeper-Batsman', 'Keeper', 'Batsman', 'Bowler', 'Keeper', 'Bowler', 'Bowler', 'Batsman', 'Keeper-Batsman', 'Keeper', 'Keeper-Batsman', 'Batsman', 'Batsman', 'Keeper', 'Keeper', 'Keeper-Batsman', 'Keeper-Batsman', 'Batsman', 'Keeper-Batsman', 'Batsman', 'Batsman', 'Batsman', 'Batsman', 'Keeper', 'Batsman', 'Keeper-Batsman', 'Batsman', 'Keeper-Batsman', 'Keeper', 'Bowler', 'Batsman', 'Keeper-Batsman', 'Batsman', 'Bowler', 'Bowler', 'Keeper-Batsman', 'Keeper-Batsman', 'Keeper-Batsman', 'Batsman', 'Keeper', 'Keeper-Batsman', 'Bowler', 'Batsman', 'Keeper-Batsman', 'Bowler', 'Keeper', 'Batsman', 'Keeper-Batsman', 'Batsman', 'Keeper-Batsman', 'Bowler', 'Bowler', 'Batsman', 'Bowler', 'Keeper-Batsman', 'Keeper-Batsman', 'Batsman', 'Bowler', 'Batsman', 'Batsman', 'Bowler', 'Keeper-Batsman', 'Keeper', 'Bowler', 'Batsman', 'Keeper-Batsman', 'Batsman', 'Bowler', 'Keeper-Batsman', 'Keeper-Batsman', 'Keeper-Batsman', 'Keeper', 'Keeper-Batsman', 'Batsman', 'Keeper', 'Batsman', 'Batsman', 'Keeper', 'Batsman', 'Batsman', 'Keeper-Batsman', 'Batsman', 'Keeper-Batsman', 'Keeper-Batsman', 'Batsman', 'Keeper-Batsman', 'Bowler', 'Batsman', 'Keeper-Batsman', 'Keeper-Batsman', 'Keeper', 'Keeper-Batsman', 'Batsman', 'Batsman', 'Keeper', 'Keeper', 'Batsman', 'Keeper-Batsman', 'Keeper-Batsman', 'Bowler', 'Keeper', 'Keeper-Batsman', 'Keeper-Batsman', 'Keeper-Batsman', 'Keeper', 'Bowler', 'Bowler', 'Keeper-Batsman', 'Bowler', 'Keeper-Batsman', 'Batsman', 'Keeper-Batsman', 'Keeper-Batsman', 'Bowler', 'Batsman', 'Keeper', 'Keeper-Batsman', 'Batsman', 'Keeper-Batsman', 'Batsman', 'Bowler', 'Bowler', 'Keeper', 'Batsman', 'Keeper-Batsman', 'Bowler', 'Keeper-Batsman', 'Keeper-Batsman', 'Batsman', 'Bowler', 'Bowler', 'Keeper-Batsman', 'Batsman', 'Batsman', 'Keeper-Batsman', 'Bowler', 'Keeper-Batsman', 'Batsman', 'Bowler', 'Batsman', 'Keeper-Batsman', 'Keeper-Batsman', 'Keeper-Batsman', 'Bowler', 'Keeper', 'Keeper-Batsman', 'Keeper-Batsman', 'Batsman', 'Batsman', 'Bowler', 'Batsman', 'Bowler', 'Keeper-Batsman', 'Batsman', 'Bowler', 'Bowler', 'Keeper', 'Bowler', 'Keeper-Batsman', 'Bowler', 'Batsman', 'Bowler', 'Keeper-Batsman', 'Keeper-Batsman', 'Keeper-Batsman', 'Keeper', 'Bowler', 'Keeper-Batsman', 'Keeper-Batsman', 'Keeper-Batsman', 'Bowler', 'Bowler', 'Bowler', 'Batsman', 'Keeper', 'Keeper', 'Keeper-Batsman', 'Bowler', 'Keeper', 'Keeper-Batsman', 'Bowler', 'Batsman', 'Batsman', 'Keeper-Batsman', 'Keeper', 'Batsman', 'Bowler', 'Batsman', 'Keeper-Batsman', 'Batsman', 'Batsman', 'Batsman', 'Keeper-Batsman', 'Bowler', 'Keeper', 'Keeper', 'Keeper-Batsman', 'Batsman', 'Keeper-Batsman', 'Keeper-Batsman', 'Keeper-Batsman', 'Batsman', 'Keeper', 'Batsman', 'Keeper-Batsman', 'Keeper-Batsman', 'Keeper-Batsman', 'Bowler', 'Bowler', 'Keeper', 'Keeper-Batsman', 'Keeper-Batsman', 'Batsman', 'Batsman', 'Keeper-Batsman', 'Keeper-Batsman', 'Batsman', 'Batsman', 'Keeper-Batsman', 'Bowler', 'Batsman', 'Keeper-Batsman', 'Batsman', 'Batsman', 'Batsman', 'Bowler', 'Keeper', 'Keeper-Batsman', 'Keeper-Batsman', 'Keeper-Batsman', 'Bowler', 'Batsman', 'Batsman', 'Bowler', 'Batsman', 'Batsman', 'Keeper-Batsman', 'Batsman', 'Keeper-Batsman', 'Batsman', 'Bowler', 'Keeper-Batsman', 'Keeper-Batsman', 'Batsman', 'Batsman', 'Batsman', 'Keeper-Batsman', 'Batsman', 'Batsman', 'Keeper-Batsman', 'Batsman', 'Batsman', 'Batsman', 'Keeper-Batsman', 'Keeper-Batsman', 'Bowler', 'Keeper-Batsman', 'Bowler', 'Bowler', 'Keeper-Batsman', 'Keeper-Batsman', 'Batsman', 'Batsman', 'Bowler', 'Bowler', 'Keeper', 'Bowler', 'Keeper', 'Batsman', 'Batsman', 'Keeper', 'Keeper-Batsman', 'Keeper', 'Bowler', 'Keeper', 'Keeper-Batsman', 'Batsman', 'Keeper', 'Batsman', 'Keeper-Batsman', 'Keeper-Batsman', 'Keeper-Batsman', 'Keeper', 'Batsman', 'Keeper', 'Keeper-Batsman', 'Keeper-Batsman', 'Keeper-Batsman', 'Keeper-Batsman', 'Keeper', 'Bowler', 'Batsman', 'Batsman', 'Keeper-Batsman', 'Keeper', 'Keeper', 'Keeper', 'Keeper-Batsman', 'Keeper-Batsman', 'Batsman', 'Keeper-Batsman', 'Keeper-Batsman', 'Keeper', 'Keeper-Batsman', 'Bowler', 'Keeper-Batsman', 'Batsman', 'Keeper-Batsman', 'Keeper-Batsman', 'Keeper-Batsman', 'Batsman', 'Keeper-Batsman', 'Batsman', 'Keeper-Batsman', 'Batsman', 'Keeper-Batsman', 'Keeper-Batsman', 'Batsman', 'Batsman', 'Keeper-Batsman', 'Keeper-Batsman', 'Bowler', 'Batsman', 'Keeper-Batsman', 'Batsman', 'Bowler', 'Batsman', 'Keeper-Batsman', 'Bowler', 'Batsman', 'Keeper-Batsman', 'Keeper', 'Keeper-Batsman', 'Keeper-Batsman', 'Bowler', 'Keeper-Batsman', 'Batsman', 'Keeper-Batsman', 'Keeper', 'Bowler', 'Keeper-Batsman', 'Bowler', 'Batsman', 'Bowler', 'Bowler', 'Keeper', 'Keeper-Batsman', 'Batsman', 'Keeper-Batsman', 'Bowler', 'Keeper-Batsman', 'Bowler', 'Batsman', 'Batsman', 'Keeper-Batsman', 'Keeper-Batsman', 'Keeper-Batsman', 'Bowler', 'Keeper', 'Bowler', 'Keeper-Batsman', 'Batsman', 'Batsman', 'Batsman', 'Keeper-Batsman', 'Bowler', 'Bowler', 'Keeper-Batsman', 'Keeper-Batsman', 'Batsman', 'Keeper-Batsman', 'Keeper-Batsman', 'Keeper-Batsman', 'Keeper', 'Keeper-Batsman', 'Batsman', 'Keeper-Batsman', 'Keeper-Batsman', 'Bowler', 'Keeper-Batsman', 'Batsman', 'Batsman', 'Batsman', 'Batsman', 'Bowler', 'Batsman', 'Batsman', 'Keeper-Batsman', 'Bowler', 'Batsman', 'Keeper-Batsman', 'Batsman', 'Batsman', 'Batsman', 'Batsman', 'Batsman', 'Keeper', 'Keeper-Batsman', 'Batsman', 'Bowler', 'Keeper-Batsman', 'Keeper-Batsman', 'Batsman', 'Batsman', 'Batsman', 'Bowler', 'Batsman', 'Keeper', 'Bowler', 'Bowler', 'Keeper', 'Bowler', 'Bowler', 'Keeper', 'Batsman', 'Keeper-Batsman', 'Batsman', 'Keeper-Batsman', 'Bowler', 'Keeper-Batsman', 'Keeper-Batsman', 'Batsman', 'Keeper-Batsman', 'Batsman', 'Keeper-Batsman', 'Keeper-Batsman', 'Batsman', 'Keeper-Batsman', 'Keeper-Batsman', 'Bowler', 'Bowler', 'Bowler', 'Batsman', 'Bowler', 'Keeper-Batsman', 'Keeper-Batsman', 'Batsman', 'Bowler', 'Keeper', 'Keeper-Batsman', 'Batsman', 'Bowler', 'Keeper-Batsman'])\n",
    "skills"
   ]
  },
  {
   "cell_type": "code",
   "execution_count": 18,
   "id": "02a603ea-eee7-42e3-96b4-8acd55af2c90",
   "metadata": {},
   "outputs": [
    {
     "name": "stdout",
     "output_type": "stream",
     "text": [
      "[[  1.8796    97.52228 ]\n",
      " [  1.8542    85.275296]\n",
      " [  1.7526    94.800728]\n",
      " [  1.8034    90.7184  ]\n",
      " [  1.9304   104.779752]\n",
      " [  1.8542    85.275296]\n",
      " [  1.8542    81.64656 ]\n",
      " [  1.778     83.91452 ]\n",
      " [  2.0066   104.32616 ]\n",
      " [  1.8288    81.64656 ]\n",
      " [  1.8034    87.089664]\n",
      " [  1.905    102.0582  ]\n",
      " [  1.9558    92.079176]\n",
      " [  1.8542    82.553744]\n",
      " [  1.905    111.13004 ]\n",
      " [  1.8796    97.52228 ]\n",
      " [  1.8034    79.3786  ]\n",
      " [  1.8542    90.7184  ]\n",
      " [  1.8796    92.98636 ]\n",
      " [  1.9304    88.45044 ]\n",
      " [  1.905     95.25432 ]\n",
      " [  1.9304    86.18248 ]\n",
      " [  1.8288    81.64656 ]\n",
      " [  1.905     95.25432 ]\n",
      " [  1.8542    99.79024 ]\n",
      " [  1.778     81.64656 ]\n",
      " [  1.778     86.18248 ]\n",
      " [  1.8034    83.91452 ]\n",
      " [  1.8288    83.91452 ]\n",
      " [  1.905     90.7184  ]\n",
      " [  1.9812   106.59412 ]\n",
      " [  1.8034   113.398   ]\n",
      " [  1.8542    95.25432 ]\n",
      " [  1.8542    88.45044 ]\n",
      " [  1.9304    92.98636 ]\n",
      " [  1.8796    99.79024 ]\n",
      " [  1.8542    77.11064 ]\n",
      " [  1.8288    83.91452 ]\n",
      " [  1.8542    99.79024 ]\n",
      " [  1.8288    81.64656 ]\n",
      " [  1.8542    99.79024 ]\n",
      " [  1.8288    81.64656 ]\n",
      " [  1.905     95.25432 ]\n",
      " [  1.905     97.52228 ]\n",
      " [  1.8288    96.615096]\n",
      " [  1.8288    81.64656 ]\n",
      " [  1.9558   106.59412 ]\n",
      " [  1.9558   100.697424]\n",
      " [  1.905     95.25432 ]\n",
      " [  1.9304   104.32616 ]\n",
      " [  2.032     99.79024 ]\n",
      " [  1.905     90.7184  ]\n",
      " [  1.8542    87.996848]\n",
      " [  1.8796    86.18248 ]\n",
      " [  1.905    108.86208 ]\n",
      " [  1.8034    89.811216]\n",
      " [  1.9304    95.25432 ]\n",
      " [  1.8796    86.18248 ]\n",
      " [  1.8542    77.11064 ]\n",
      " [  1.8542    81.64656 ]\n",
      " [  1.8034    86.18248 ]\n",
      " [  1.8542    86.18248 ]\n",
      " [  1.8542    79.3786  ]\n",
      " [  1.8288    92.98636 ]\n",
      " [  1.905     97.52228 ]\n",
      " [  1.778     81.64656 ]\n",
      " [  1.8034    77.11064 ]\n",
      " [  1.8288    92.98636 ]\n",
      " [  1.905    102.0582  ]\n",
      " [  1.8542    81.64656 ]\n",
      " [  1.9304   107.501304]\n",
      " [  1.905     97.52228 ]\n",
      " [  1.9304   106.59412 ]\n",
      " [  1.8288    86.18248 ]\n",
      " [  1.8542    94.347136]\n",
      " [  1.905     95.25432 ]\n",
      " [  1.8796    86.18248 ]\n",
      " [  1.8034    77.11064 ]\n",
      " [  1.9558   102.0582  ]\n",
      " [  1.9812   104.32616 ]\n",
      " [  1.905    102.511792]\n",
      " [  1.905     99.336648]\n",
      " [  1.9304   102.0582  ]\n",
      " [  1.8288    79.832192]\n",
      " [  1.8288    81.64656 ]\n",
      " [  1.8542    99.79024 ]\n",
      " [  1.8796    86.18248 ]\n",
      " [  1.8796    92.98636 ]\n",
      " [  1.905     92.98636 ]\n",
      " [  1.8542    95.707912]\n",
      " [  1.8796    90.7184  ]\n",
      " [  1.9558    95.25432 ]\n",
      " [  1.9812    99.79024 ]\n",
      " [  1.9812    95.25432 ]\n",
      " [  1.8796    91.625584]\n",
      " [  1.9812   102.0582  ]\n",
      " [  1.8796    99.79024 ]\n",
      " [  1.8288    83.91452 ]\n",
      " [  1.9304    88.45044 ]\n",
      " [  1.8542    99.336648]\n",
      " [  1.8542    88.45044 ]\n",
      " [  1.9558    99.79024 ]\n",
      " [  1.9558   106.59412 ]\n",
      " [  1.8034    81.64656 ]\n",
      " [  1.9812   104.32616 ]\n",
      " [  1.778     86.18248 ]\n",
      " [  1.8796    86.18248 ]\n",
      " [  1.8288    90.7184  ]\n",
      " [  1.8542    83.460928]\n",
      " [  1.905     90.7184  ]\n",
      " [  1.8796    99.336648]\n",
      " [  1.8542    90.7184  ]\n",
      " [  1.8796    99.79024 ]\n",
      " [  1.8542    72.57472 ]\n",
      " [  1.9812    90.7184  ]\n",
      " [  1.9304    97.068688]\n",
      " [  1.8542    90.7184  ]\n",
      " [  1.905     81.64656 ]\n",
      " [  1.9812   106.59412 ]\n",
      " [  1.9558   108.86208 ]\n",
      " [  1.8288    83.91452 ]\n",
      " [  1.7526    74.84268 ]\n",
      " [  1.8796    83.91452 ]\n",
      " [  1.778     77.11064 ]\n",
      " [  1.8796    95.25432 ]\n",
      " [  1.9304    92.98636 ]\n",
      " [  1.905     90.7184  ]\n",
      " [  1.8542    86.18248 ]\n",
      " [  1.8542    72.57472 ]\n",
      " [  1.8542    81.64656 ]\n",
      " [  1.8796    81.64656 ]\n",
      " [  1.8796    90.7184  ]\n",
      " [  1.778     86.18248 ]\n",
      " [  1.8796   102.965384]\n",
      " [  1.905     90.264808]\n",
      " [  1.8288    83.91452 ]\n",
      " [  1.9558   108.86208 ]\n",
      " [  1.8542   102.0582  ]\n",
      " [  1.9304   104.32616 ]\n",
      " [  1.8542    90.7184  ]\n",
      " [  1.905    111.13004 ]\n",
      " [  1.8796    86.18248 ]\n",
      " [  1.8542    95.25432 ]\n",
      " [  1.8034    90.7184  ]\n",
      " [  1.9304    92.98636 ]\n",
      " [  1.905     95.25432 ]\n",
      " [  1.8542    77.11064 ]\n",
      " [  1.8542    81.64656 ]\n",
      " [  1.9304    95.25432 ]\n",
      " [  1.8542    93.439952]\n",
      " [  1.905     88.45044 ]\n",
      " [  1.905     90.7184  ]\n",
      " [  1.9558    90.7184  ]\n",
      " [  1.8796    92.98636 ]\n",
      " [  1.8034    95.25432 ]\n",
      " [  1.8796    90.7184  ]\n",
      " [  1.8796    92.98636 ]\n",
      " [  1.905     86.18248 ]\n",
      " [  1.8288    92.98636 ]\n",
      " [  1.8542    79.3786  ]\n",
      " [  1.9304    99.79024 ]\n",
      " [  1.9558   111.13004 ]\n",
      " [  1.8542    81.64656 ]\n",
      " [  1.778     88.45044 ]\n",
      " [  1.8542    97.52228 ]\n",
      " [  1.8796    81.64656 ]\n",
      " [  1.9558    86.18248 ]\n",
      " [  1.905     86.18248 ]\n",
      " [  1.8542    95.25432 ]\n",
      " [  1.9558   115.66596 ]\n",
      " [  1.9558   104.32616 ]\n",
      " [  1.8796    92.98636 ]\n",
      " [  1.8796    97.52228 ]\n",
      " [  1.905     99.79024 ]\n",
      " [  1.8034    89.357624]\n",
      " [  1.778     84.821704]\n",
      " [  2.0066   111.13004 ]\n",
      " [  1.8796    90.7184  ]\n",
      " [  1.8288    90.7184  ]\n",
      " [  2.0828   104.779752]\n",
      " [  1.8796    74.84268 ]\n",
      " [  1.8796   103.418976]\n",
      " [  1.8288    97.52228 ]\n",
      " [  1.9304   115.212368]\n",
      " [  1.8542    81.64656 ]\n",
      " [  1.8288    97.52228 ]\n",
      " [  1.8288    77.11064 ]\n",
      " [  1.778     74.84268 ]\n",
      " [  1.8034    77.11064 ]\n",
      " [  1.905    101.604608]\n",
      " [  1.9304   108.408488]\n",
      " [  1.9304    95.25432 ]\n",
      " [  1.9812    99.79024 ]\n",
      " [  1.905     90.7184  ]\n",
      " [  1.9304    88.45044 ]\n",
      " [  1.8288   104.32616 ]\n",
      " [  1.8542    99.79024 ]\n",
      " [  1.778     87.089664]\n",
      " [  1.8796    92.98636 ]\n",
      " [  1.8542    92.98636 ]\n",
      " [  1.8542    83.91452 ]\n",
      " [  1.905     92.98636 ]\n",
      " [  1.778     81.64656 ]\n",
      " [  2.0066   108.86208 ]\n",
      " [  1.905     97.52228 ]\n",
      " [  1.905     88.45044 ]\n",
      " [  1.8542    97.52228 ]\n",
      " [  1.778     88.45044 ]\n",
      " [  1.8034    88.45044 ]\n",
      " [  1.905     95.25432 ]\n",
      " [  1.8288    81.64656 ]\n",
      " [  1.8288    81.64656 ]\n",
      " [  1.9304   106.59412 ]\n",
      " [  1.905     90.7184  ]\n",
      " [  1.7526    81.64656 ]\n",
      " [  1.8288    92.079176]\n",
      " [  1.9304    90.7184  ]\n",
      " [  1.8034    86.18248 ]\n",
      " [  1.905     77.11064 ]\n",
      " [  1.9558    97.52228 ]\n",
      " [  1.778     81.64656 ]\n",
      " [  1.8288    84.821704]\n",
      " [  1.8034    81.64656 ]\n",
      " [  1.8796    95.25432 ]\n",
      " [  1.9304    87.543256]\n",
      " [  1.8288    90.7184  ]\n",
      " [  1.8796    77.11064 ]\n",
      " [  1.8288    88.45044 ]\n",
      " [  1.8034    86.18248 ]\n",
      " [  1.778     81.64656 ]\n",
      " [  1.8288    77.11064 ]\n",
      " [  1.8796    95.25432 ]\n",
      " [  1.8796    99.79024 ]\n",
      " [  1.905     95.25432 ]\n",
      " [  1.8796   111.13004 ]\n",
      " [  1.8034   100.243832]\n",
      " [  1.8034    83.91452 ]\n",
      " [  1.9304   104.32616 ]\n",
      " [  1.8034    79.3786  ]\n",
      " [  1.8796    90.7184  ]\n",
      " [  1.8288    90.7184  ]\n",
      " [  1.9304   113.398   ]\n",
      " [  1.9812    95.25432 ]\n",
      " [  1.8288    97.52228 ]\n",
      " [  1.9304    97.52228 ]\n",
      " [  1.778     89.811216]\n",
      " [  1.7272    75.749864]\n",
      " [  1.8034    86.18248 ]\n",
      " [  1.9558    97.52228 ]\n",
      " [  1.7526    72.57472 ]\n",
      " [  1.905     79.3786  ]\n",
      " [  1.905     86.18248 ]\n",
      " [  1.9304   108.86208 ]\n",
      " [  1.8288    79.3786  ]\n",
      " [  1.9558   113.398   ]\n",
      " [  1.778     86.18248 ]\n",
      " [  2.0066    86.18248 ]\n",
      " [  1.8796    77.11064 ]\n",
      " [  1.7272    68.0388  ]\n",
      " [  1.905     99.79024 ]\n",
      " [  1.8288   117.93392 ]\n",
      " [  1.8288    88.45044 ]\n",
      " [  1.8542    86.18248 ]\n",
      " [  1.8796    81.64656 ]\n",
      " [  1.8288    88.45044 ]\n",
      " [  1.905     99.336648]\n",
      " [  1.8288   102.0582  ]\n",
      " [  1.8542    96.161504]\n",
      " [  1.9304    86.18248 ]\n",
      " [  1.8796    96.161504]\n",
      " [  1.905     95.25432 ]\n",
      " [  1.9304    90.7184  ]\n",
      " [  1.8796    99.79024 ]\n",
      " [  1.8288    83.91452 ]\n",
      " [  1.8542   104.779752]\n",
      " [  1.8288    83.91452 ]\n",
      " [  1.8542    81.64656 ]\n",
      " [  1.8288    99.79024 ]\n",
      " [  1.8542    88.904032]\n",
      " [  1.778     72.57472 ]\n",
      " [  1.8288    92.98636 ]\n",
      " [  1.905     95.25432 ]\n",
      " [  1.8542    90.7184  ]\n",
      " [  1.9304   116.573144]\n",
      " [  1.9558    92.98636 ]\n",
      " [  1.9558    94.347136]\n",
      " [  1.905     97.52228 ]\n",
      " [  1.905     95.25432 ]\n",
      " [  1.9304    92.079176]\n",
      " [  1.8288    95.25432 ]\n",
      " [  1.8542    90.7184  ]\n",
      " [  1.8796    92.98636 ]\n",
      " [  1.8288    86.18248 ]\n",
      " [  1.8796   102.0582  ]\n",
      " [  1.8796    93.893544]\n",
      " [  1.905     96.161504]\n",
      " [  1.8034    95.25432 ]\n",
      " [  1.9304    86.18248 ]\n",
      " [  1.8542    97.52228 ]\n",
      " [  1.7272    88.904032]\n",
      " [  1.8288    79.3786  ]\n",
      " [  1.7526    79.3786  ]\n",
      " [  1.8542    92.98636 ]\n",
      " [  1.905     95.25432 ]\n",
      " [  1.8796    89.357624]\n",
      " [  1.8796   103.418976]\n",
      " [  1.8796    86.18248 ]\n",
      " [  1.8542    92.532768]\n",
      " [  1.8796    74.84268 ]\n",
      " [  1.905     97.975872]\n",
      " [  1.8796    95.25432 ]\n",
      " [  1.8542    97.52228 ]\n",
      " [  1.9304   103.872568]\n",
      " [  1.9812   108.86208 ]\n",
      " [  1.8542    92.98636 ]\n",
      " [  1.905    102.0582  ]\n",
      " [  1.7018    81.64656 ]\n",
      " [  1.778     73.935496]\n",
      " [  1.778     79.3786  ]\n",
      " [  2.0066    92.98636 ]\n",
      " [  1.9304    95.707912]\n",
      " [  1.8288    81.64656 ]\n",
      " [  1.905     92.98636 ]]\n"
     ]
    },
    {
     "data": {
      "text/plain": [
       "(323, 2)"
      ]
     },
     "execution_count": 18,
     "metadata": {},
     "output_type": "execute_result"
    }
   ],
   "source": [
    "batsmen=player_converted[skills==\"Batsman\"]\n",
    "print(batsmen)\n",
    "batsmen.shape"
   ]
  },
  {
   "cell_type": "code",
   "execution_count": 19,
   "id": "7723865c-6b76-4f1a-9f17-a478ce3e94d7",
   "metadata": {},
   "outputs": [
    {
     "data": {
      "text/plain": [
       "array([1.8796, 1.8542, 1.7526, 1.8034, 1.9304, 1.8542, 1.8542, 1.778 ,\n",
       "       2.0066, 1.8288, 1.8034, 1.905 , 1.9558, 1.8542, 1.905 , 1.8796,\n",
       "       1.8034, 1.8542, 1.8796, 1.9304, 1.905 , 1.9304, 1.8288, 1.905 ,\n",
       "       1.8542, 1.778 , 1.778 , 1.8034, 1.8288, 1.905 , 1.9812, 1.8034,\n",
       "       1.8542, 1.8542, 1.9304, 1.8796, 1.8542, 1.8288, 1.8542, 1.8288,\n",
       "       1.8542, 1.8288, 1.905 , 1.905 , 1.8288, 1.8288, 1.9558, 1.9558,\n",
       "       1.905 , 1.9304, 2.032 , 1.905 , 1.8542, 1.8796, 1.905 , 1.8034,\n",
       "       1.9304, 1.8796, 1.8542, 1.8542, 1.8034, 1.8542, 1.8542, 1.8288,\n",
       "       1.905 , 1.778 , 1.8034, 1.8288, 1.905 , 1.8542, 1.9304, 1.905 ,\n",
       "       1.9304, 1.8288, 1.8542, 1.905 , 1.8796, 1.8034, 1.9558, 1.9812,\n",
       "       1.905 , 1.905 , 1.9304, 1.8288, 1.8288, 1.8542, 1.8796, 1.8796,\n",
       "       1.905 , 1.8542, 1.8796, 1.9558, 1.9812, 1.9812, 1.8796, 1.9812,\n",
       "       1.8796, 1.8288, 1.9304, 1.8542, 1.8542, 1.9558, 1.9558, 1.8034,\n",
       "       1.9812, 1.778 , 1.8796, 1.8288, 1.8542, 1.905 , 1.8796, 1.8542,\n",
       "       1.8796, 1.8542, 1.9812, 1.9304, 1.8542, 1.905 , 1.9812, 1.9558,\n",
       "       1.8288, 1.7526, 1.8796, 1.778 , 1.8796, 1.9304, 1.905 , 1.8542,\n",
       "       1.8542, 1.8542, 1.8796, 1.8796, 1.778 , 1.8796, 1.905 , 1.8288,\n",
       "       1.9558, 1.8542, 1.9304, 1.8542, 1.905 , 1.8796, 1.8542, 1.8034,\n",
       "       1.9304, 1.905 , 1.8542, 1.8542, 1.9304, 1.8542, 1.905 , 1.905 ,\n",
       "       1.9558, 1.8796, 1.8034, 1.8796, 1.8796, 1.905 , 1.8288, 1.8542,\n",
       "       1.9304, 1.9558, 1.8542, 1.778 , 1.8542, 1.8796, 1.9558, 1.905 ,\n",
       "       1.8542, 1.9558, 1.9558, 1.8796, 1.8796, 1.905 , 1.8034, 1.778 ,\n",
       "       2.0066, 1.8796, 1.8288, 2.0828, 1.8796, 1.8796, 1.8288, 1.9304,\n",
       "       1.8542, 1.8288, 1.8288, 1.778 , 1.8034, 1.905 , 1.9304, 1.9304,\n",
       "       1.9812, 1.905 , 1.9304, 1.8288, 1.8542, 1.778 , 1.8796, 1.8542,\n",
       "       1.8542, 1.905 , 1.778 , 2.0066, 1.905 , 1.905 , 1.8542, 1.778 ,\n",
       "       1.8034, 1.905 , 1.8288, 1.8288, 1.9304, 1.905 , 1.7526, 1.8288,\n",
       "       1.9304, 1.8034, 1.905 , 1.9558, 1.778 , 1.8288, 1.8034, 1.8796,\n",
       "       1.9304, 1.8288, 1.8796, 1.8288, 1.8034, 1.778 , 1.8288, 1.8796,\n",
       "       1.8796, 1.905 , 1.8796, 1.8034, 1.8034, 1.9304, 1.8034, 1.8796,\n",
       "       1.8288, 1.9304, 1.9812, 1.8288, 1.9304, 1.778 , 1.7272, 1.8034,\n",
       "       1.9558, 1.7526, 1.905 , 1.905 , 1.9304, 1.8288, 1.9558, 1.778 ,\n",
       "       2.0066, 1.8796, 1.7272, 1.905 , 1.8288, 1.8288, 1.8542, 1.8796,\n",
       "       1.8288, 1.905 , 1.8288, 1.8542, 1.9304, 1.8796, 1.905 , 1.9304,\n",
       "       1.8796, 1.8288, 1.8542, 1.8288, 1.8542, 1.8288, 1.8542, 1.778 ,\n",
       "       1.8288, 1.905 , 1.8542, 1.9304, 1.9558, 1.9558, 1.905 , 1.905 ,\n",
       "       1.9304, 1.8288, 1.8542, 1.8796, 1.8288, 1.8796, 1.8796, 1.905 ,\n",
       "       1.8034, 1.9304, 1.8542, 1.7272, 1.8288, 1.7526, 1.8542, 1.905 ,\n",
       "       1.8796, 1.8796, 1.8796, 1.8542, 1.8796, 1.905 , 1.8796, 1.8542,\n",
       "       1.9304, 1.9812, 1.8542, 1.905 , 1.7018, 1.778 , 1.778 , 2.0066,\n",
       "       1.9304, 1.8288, 1.905 ])"
      ]
     },
     "execution_count": 19,
     "metadata": {},
     "output_type": "execute_result"
    }
   ],
   "source": [
    "batsmen[:,0]"
   ]
  },
  {
   "cell_type": "code",
   "execution_count": null,
   "id": "78672076-5e22-41c2-b4f0-ca686ce3ee6a",
   "metadata": {},
   "outputs": [],
   "source": [
    "arrayname=[(1,3),(2,4),(5,6),(7,8),(6,10),(9,12)]\n",
    "import numpy as np\n",
    "arraynamenp=np.array(arrayname)\n",
    "arraynamenp[:,:3]"
   ]
  },
  {
   "cell_type": "code",
   "execution_count": null,
   "id": "b1ccd70f-d5a4-4564-a839-74f4a770c1e4",
   "metadata": {},
   "outputs": [],
   "source": [
    "input_list=[[11 12 13 14]\n",
    " [21 22 23 24]\n",
    " [31 32 33 34]]\n",
    "Extract all the border rows and columns from a 2-D array.\n",
    "\n",
    "Format:\n",
    "Input: A 2-D Python list\n",
    "Output: Four NumPy arrays - First column of the input array, first row of the input array, last column of the input array, last row of the input array respectively."
   ]
  },
  {
   "cell_type": "code",
   "execution_count": 113,
   "id": "7a5b9ea1-2de7-4ed8-b83e-203b8587bb6b",
   "metadata": {},
   "outputs": [
    {
     "name": "stdout",
     "output_type": "stream",
     "text": [
      "[11 21 31]\n",
      "[11 12 13 14]\n",
      "[14 24 34]\n",
      "[31 32 33 34]\n"
     ]
    }
   ],
   "source": [
    "input_list=[[11, 12, 13, 14],\n",
    " [21, 22, 23, 24],\n",
    " [31, 32, 33, 34]]\n",
    "import numpy as np\n",
    "array_1=np.array(input_list)\n",
    "### first column of the array\n",
    "col_first=array_1[:,0]\n",
    "print(col_first)\n",
    "### first row of the array\n",
    "row_first = array_1[0]\n",
    "print(row_first)\n",
    "### last col of the array\n",
    "last_col=array_1[:,-1]\n",
    "print(last_col)\n",
    "## last row of th array\n",
    "last_row=array_1[-1]\n",
    "print(last_row)"
   ]
  },
  {
   "cell_type": "code",
   "execution_count": null,
   "id": "8cd4c8b4-d31f-4fe4-9daf-ed5b95c3b548",
   "metadata": {},
   "outputs": [],
   "source": []
  }
 ],
 "metadata": {
  "kernelspec": {
   "display_name": "Python 3 (ipykernel)",
   "language": "python",
   "name": "python3"
  },
  "language_info": {
   "codemirror_mode": {
    "name": "ipython",
    "version": 3
   },
   "file_extension": ".py",
   "mimetype": "text/x-python",
   "name": "python",
   "nbconvert_exporter": "python",
   "pygments_lexer": "ipython3",
   "version": "3.10.6"
  }
 },
 "nbformat": 4,
 "nbformat_minor": 5
}

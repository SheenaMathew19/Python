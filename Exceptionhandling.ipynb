{
 "cells": [
  {
   "cell_type": "code",
   "execution_count": 3,
   "id": "7af53e6c-00aa-44af-a9a8-878b17ea3220",
   "metadata": {},
   "outputs": [
    {
     "name": "stdout",
     "output_type": "stream",
     "text": [
      " x=2 y=3\n",
      " x=5 y=6\n",
      " x=7 y=6\n"
     ]
    }
   ],
   "source": [
    "##overload method\n",
    "class point:\n",
    "    def __init__(self,x,y):\n",
    "        self.x=x\n",
    "        self.y=y\n",
    "    def __repr__(self):\n",
    "        return f\" x={self.x} y={self.y}\"\n",
    "    def __add__(self,other):##p1.__add__(p2)\n",
    "        x=self.x+other.x\n",
    "        y=self.y=other.y\n",
    "        p=point(x,y)\n",
    "        return p\n",
    "p1=point(2,3)\n",
    "p2= point(5,6)\n",
    "print(p1)\n",
    "print(p2)\n",
    "print(p1+p2)"
   ]
  },
  {
   "cell_type": "code",
   "execution_count": 4,
   "id": "7f63e107-420c-4041-ad4e-e326e0741edf",
   "metadata": {},
   "outputs": [
    {
     "name": "stdout",
     "output_type": "stream",
     "text": [
      "ria 67\n",
      "None\n",
      "2\n",
      "anitha 76.0\n",
      "None\n",
      "belongs to college\n"
     ]
    }
   ],
   "source": [
    "class student:\n",
    "    counter=0\n",
    "    \n",
    "    def __init__(self,name,marks):\n",
    "        self.name=name\n",
    "        self.marks=marks\n",
    "        student.counter=student.counter+1\n",
    "    def msg(self):\n",
    "        print(self.name,self.marks)\n",
    "    @classmethod\n",
    "    def counter_method(cls):\n",
    "        \n",
    "        return cls.counter\n",
    "    @classmethod\n",
    "    def get_per(cls,name,marks):\n",
    "        return cls(name,str( (int(marks)/600)*100))\n",
    "    @staticmethod\n",
    "    def  get_age(age):\n",
    "        if age>17:\n",
    "            print(\"belongs to college\")\n",
    "        else:\n",
    "            print(\"belongs to school\")\n",
    "    \n",
    "s1=student(\"sia\",98)\n",
    "s2=student(\"ria\",67)\n",
    "print(s2.msg())\n",
    "print(student.counter_method())\n",
    "name=\"anitha\"\n",
    "marks=456\n",
    "s3=student.get_per(name,marks)\n",
    "print(s3.msg())\n",
    "student.get_age(20)\n"
   ]
  },
  {
   "cell_type": "code",
   "execution_count": 5,
   "id": "7a0c6777-046e-4b47-8db1-4d229df2f92f",
   "metadata": {},
   "outputs": [
    {
     "name": "stdin",
     "output_type": "stream",
     "text": [
      "enter a number 10\n",
      "enter another numer 0\n"
     ]
    },
    {
     "name": "stdout",
     "output_type": "stream",
     "text": [
      "b should not be zero\n"
     ]
    }
   ],
   "source": [
    "# alwatys the base exception ot the parent eception should be lasr\n",
    "# if parent class is prent before the child class then parent class will never be executed\n",
    "try:\n",
    "    a=int(input(\"enter a number\"))\n",
    "    b=int(input(\"enter another numer\"))\n",
    "    c=a/b\n",
    "    print(\"div is \",c)\n",
    "    d=a+b\n",
    "    print(\"sum is \",d)\n",
    "\n",
    "except ZeroDivisionError:\n",
    "    print(\"b should not be zero\")\n",
    "except ValueError:\n",
    "    print(\"value should be int\")\n",
    "except:\n",
    "    print(\"there is error\")"
   ]
  },
  {
   "cell_type": "code",
   "execution_count": 6,
   "id": "e82d2eac-b679-40f1-bab4-fcdfe1b2757d",
   "metadata": {},
   "outputs": [
    {
     "name": "stdin",
     "output_type": "stream",
     "text": [
      "enter a number 10\n",
      "enter another numeer 0\n"
     ]
    },
    {
     "name": "stdout",
     "output_type": "stream",
     "text": [
      "b should not be zero\n"
     ]
    },
    {
     "name": "stdin",
     "output_type": "stream",
     "text": [
      "enter a number 10\n",
      "enter another numeer 2\n"
     ]
    },
    {
     "name": "stdout",
     "output_type": "stream",
     "text": [
      "5.0\n"
     ]
    }
   ],
   "source": [
    "while True:\n",
    "    try:\n",
    "        a=int(input(\"enter a number\"))\n",
    "        b=int(input(\"enter another numeer\"))\n",
    "        c= a/b\n",
    "        print(c)\n",
    "        break\n",
    "    except ZeroDivisionError:\n",
    "        print(\"b should not be zero\")\n",
    "    except ValueError:\n",
    "        print(\"value should be int\")\n"
   ]
  },
  {
   "cell_type": "code",
   "execution_count": 7,
   "id": "3ad45eaf-c8d5-454b-9882-ba418d8b650d",
   "metadata": {},
   "outputs": [
    {
     "name": "stdin",
     "output_type": "stream",
     "text": [
      "enter a number 10\n",
      "enter another numeer 0\n"
     ]
    },
    {
     "name": "stdout",
     "output_type": "stream",
     "text": [
      "division by zero\n"
     ]
    },
    {
     "name": "stdin",
     "output_type": "stream",
     "text": [
      "enter a number 10\n",
      "enter another numeer 2\n"
     ]
    },
    {
     "name": "stdout",
     "output_type": "stream",
     "text": [
      "5.0\n"
     ]
    }
   ],
   "source": [
    "while True:\n",
    "    try:\n",
    "        a=int(input(\"enter a number\"))\n",
    "        b=int(input(\"enter another numeer\"))\n",
    "        c= a/b\n",
    "        print(c)\n",
    "        break\n",
    "    except (ZeroDivisionError,ValueError) as e:\n",
    "        print(e)\n",
    "## e is the object of the excption class , when we say print e it will print the string representation of the object\n",
    "\n",
    "## program allows user to enter the number till be presses correct number"
   ]
  },
  {
   "cell_type": "code",
   "execution_count": 2,
   "id": "07567215-d496-49bc-a89e-70df8215e6ac",
   "metadata": {},
   "outputs": [
    {
     "name": "stdin",
     "output_type": "stream",
     "text": [
      "enter a number 10\n",
      "enter another numeer 0\n"
     ]
    },
    {
     "name": "stdout",
     "output_type": "stream",
     "text": [
      "exception class <class 'ZeroDivisionError'>\n",
      "excepion message division by zero\n",
      "exception object <traceback object at 0x7fdc1c926340>\n",
      "line number 6\n"
     ]
    },
    {
     "name": "stdin",
     "output_type": "stream",
     "text": [
      "enter a number 10\n",
      "enter another numeer 4\n"
     ]
    },
    {
     "name": "stdout",
     "output_type": "stream",
     "text": [
      "2.5\n"
     ]
    }
   ],
   "source": [
    "import sys\n",
    "while True:\n",
    "    try:\n",
    "        a=int(input(\"enter a number\"))\n",
    "        b=int(input(\"enter another numeer\"))\n",
    "        c= a/b\n",
    "        print(c)\n",
    "        break\n",
    "    except:\n",
    "        a,b,c=sys.exc_info()\n",
    "        print(\"exception class\",a)\n",
    "        print(\"excepion message\",b)\n",
    "        print(\"exception object\",c)\n",
    "        print(\"line number\",c.tb_lineno)"
   ]
  },
  {
   "cell_type": "code",
   "execution_count": 8,
   "id": "e13fa3c9-8848-4d2f-8980-18cf23382804",
   "metadata": {},
   "outputs": [
    {
     "name": "stdin",
     "output_type": "stream",
     "text": [
      "enter a number -9\n",
      "enter another numeer 1\n"
     ]
    },
    {
     "name": "stdout",
     "output_type": "stream",
     "text": [
      "negaive number entered and try again\n",
      "it will be printed\n"
     ]
    }
   ],
   "source": [
    "try:\n",
    "    a=int(input(\"enter a number\"))\n",
    "    b=int(input(\"enter another numeer\"))\n",
    "    if(a<0 or b<0):\n",
    "        raise Exception(\"negaive number entered and try again\")\n",
    "    c= a/b\n",
    "    print(c)\n",
    "    \n",
    "\n",
    "except Exception as e:\n",
    "    print(e)\n",
    "finally:\n",
    "    print(\"it will be printed\")"
   ]
  },
  {
   "cell_type": "code",
   "execution_count": 9,
   "id": "7435b47d-3d03-43ff-a717-30dc2d8c355f",
   "metadata": {},
   "outputs": [
    {
     "name": "stdin",
     "output_type": "stream",
     "text": [
      "enter a number 10\n",
      "enter another numeer -4\n"
     ]
    },
    {
     "name": "stdout",
     "output_type": "stream",
     "text": [
      "negaive number entered and try again\n",
      "it will be printed\n"
     ]
    }
   ],
   "source": [
    "class Negarivenumberexception(Exception):\n",
    "    pass\n",
    "try:\n",
    "    a=int(input(\"enter a number\"))\n",
    "    b=int(input(\"enter another numeer\"))\n",
    "    if(a<0 or b<0):\n",
    "        raise Negarivenumberexception(\"negaive number entered and try again\")\n",
    "    c= a/b\n",
    "    print(c)\n",
    "    \n",
    "\n",
    "except Negarivenumberexception as e:\n",
    "    print(e)\n",
    "finally:\n",
    "    print(\"it will be printed\")"
   ]
  },
  {
   "cell_type": "code",
   "execution_count": null,
   "id": "20c6c012-dea7-4f7e-ab73-326edb1096c0",
   "metadata": {},
   "outputs": [],
   "source": []
  }
 ],
 "metadata": {
  "kernelspec": {
   "display_name": "Python 3 (ipykernel)",
   "language": "python",
   "name": "python3"
  },
  "language_info": {
   "codemirror_mode": {
    "name": "ipython",
    "version": 3
   },
   "file_extension": ".py",
   "mimetype": "text/x-python",
   "name": "python",
   "nbconvert_exporter": "python",
   "pygments_lexer": "ipython3",
   "version": "3.10.6"
  }
 },
 "nbformat": 4,
 "nbformat_minor": 5
}

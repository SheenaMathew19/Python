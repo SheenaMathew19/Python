{
 "cells": [
  {
   "cell_type": "code",
   "execution_count": 5,
   "id": "10ca2224-4e34-4d6e-914f-ec5c2ceabc2b",
   "metadata": {},
   "outputs": [
    {
     "name": "stdout",
     "output_type": "stream",
     "text": [
      "the list is not in the limit\n"
     ]
    }
   ],
   "source": [
    "my_list=[10,20,30,40,50]\n",
    "low_bound=10\n",
    "up_bound=50\n",
    "for i in my_list:\n",
    "    if i<=low_bound or i>=up_bound:\n",
    "        print(\"the list is not in the limit\")\n",
    "        break\n",
    "else:\n",
    "    print(\"it is within the limit\")\n"
   ]
  },
  {
   "cell_type": "code",
   "execution_count": 6,
   "id": "6bc0ccca-f9ab-44d2-89ab-e0e3b6b9b631",
   "metadata": {},
   "outputs": [
    {
     "name": "stdout",
     "output_type": "stream",
     "text": [
      "0\n",
      "1\n",
      "2\n",
      "3\n",
      "4\n",
      "5\n",
      "6\n",
      "7\n",
      "8\n",
      "9\n",
      "completed\n"
     ]
    }
   ],
   "source": [
    "for i in range(10):\n",
    "    print(i)\n",
    "else:\n",
    "    print(\"completed\")"
   ]
  },
  {
   "cell_type": "code",
   "execution_count": 8,
   "id": "d45a2aeb-abf5-448c-b5e9-dabce663dcad",
   "metadata": {},
   "outputs": [
    {
     "name": "stdout",
     "output_type": "stream",
     "text": [
      "1\n",
      "2\n",
      "3\n",
      "4\n",
      "5\n"
     ]
    }
   ],
   "source": [
    "for i in range(1,10):\n",
    "    print(i)\n",
    "    if(i%5==0):\n",
    "        break\n",
    "else:\n",
    "    print(\"loop executed\")"
   ]
  },
  {
   "cell_type": "code",
   "execution_count": 11,
   "id": "87544667-502a-4ac3-a558-55be8b338bb2",
   "metadata": {},
   "outputs": [
    {
     "name": "stdout",
     "output_type": "stream",
     "text": [
      "1\n",
      "a\n",
      "b\n",
      "c\n",
      "2\n",
      "a\n",
      "b\n",
      "c\n",
      "3\n",
      "a\n",
      "b\n",
      "c\n"
     ]
    }
   ],
   "source": [
    "numbers=[1,2,3]\n",
    "alpha=['a','b','c']\n",
    "for n in numbers:\n",
    "    print(n)\n",
    "    for a in alpha:\n",
    "        print(a)\n",
    "    "
   ]
  },
  {
   "cell_type": "code",
   "execution_count": 17,
   "id": "da7abad3-6139-49e9-9be3-318de83d4747",
   "metadata": {},
   "outputs": [
    {
     "name": "stdout",
     "output_type": "stream",
     "text": [
      "1\n",
      "a\n",
      "2\n",
      "a\n",
      "3\n",
      "a\n"
     ]
    }
   ],
   "source": [
    "numbers=[1,2,3]\n",
    "alpha=['a','b','c']\n",
    "for n in numbers:\n",
    "    print(n)\n",
    "    for a in alpha:\n",
    "        print(a)\n",
    "        \n",
    "        break"
   ]
  },
  {
   "cell_type": "code",
   "execution_count": 18,
   "id": "82e5b150-2cbe-441b-a274-3aab56d369dd",
   "metadata": {},
   "outputs": [
    {
     "name": "stdout",
     "output_type": "stream",
     "text": [
      "* * * \n",
      "* * * \n",
      "* * * \n"
     ]
    }
   ],
   "source": [
    "for i in range(3):\n",
    "    for j in range(3):\n",
    "        print(\"*\",end=\" \")\n",
    "    print()"
   ]
  },
  {
   "cell_type": "code",
   "execution_count": 19,
   "id": "ca7699be-fa18-4c9d-b991-f00f26456971",
   "metadata": {},
   "outputs": [
    {
     "name": "stdout",
     "output_type": "stream",
     "text": [
      "* * * \n",
      "* * * \n",
      "* * * \n"
     ]
    }
   ],
   "source": [
    "for i in range(1,4):\n",
    "    print(\"* \"*3)"
   ]
  },
  {
   "cell_type": "code",
   "execution_count": 20,
   "id": "eb97ffb1-2827-408a-8264-2173e4e57b33",
   "metadata": {},
   "outputs": [
    {
     "name": "stdout",
     "output_type": "stream",
     "text": [
      "* \n",
      "* * \n",
      "* * * \n",
      "* * * * \n"
     ]
    }
   ],
   "source": [
    "for i in range(4):\n",
    "    for j in range(i+1):\n",
    "        print(\"*\",end=\" \")\n",
    "    print()"
   ]
  },
  {
   "cell_type": "code",
   "execution_count": 6,
   "id": "31e4e3f7-370c-4b56-ab47-38166ec90cf0",
   "metadata": {},
   "outputs": [
    {
     "name": "stdin",
     "output_type": "stream",
     "text": [
      "enter the number again 5\n"
     ]
    },
    {
     "name": "stdout",
     "output_type": "stream",
     "text": [
      "5\n",
      "[0, 1, 2, 3, 4, 5]\n"
     ]
    },
    {
     "name": "stdin",
     "output_type": "stream",
     "text": [
      "enter the number again 6\n"
     ]
    },
    {
     "name": "stdout",
     "output_type": "stream",
     "text": [
      "[0, 1, 2, 3, 4, 5, 6]\n"
     ]
    },
    {
     "name": "stdin",
     "output_type": "stream",
     "text": [
      "enter the number again 7\n"
     ]
    },
    {
     "name": "stdout",
     "output_type": "stream",
     "text": [
      "[0, 1, 2, 3, 4, 5, 6, 7]\n"
     ]
    },
    {
     "name": "stdin",
     "output_type": "stream",
     "text": [
      "enter the number again 0\n"
     ]
    }
   ],
   "source": [
    "list1=[]\n",
    "def getnum(in_1):\n",
    "    print(in_1)\n",
    "    i=0\n",
    "    while(in_1>0):\n",
    "        for i in range(0,in_1+1):\n",
    "            list1.append(i)\n",
    "        print(list1)\n",
    "        in_1=int(input(\"enter the number again\"))\n",
    "        list1.clear()\n",
    "        \n",
    "in_1=int(input(\"enter the number again\"))\n",
    "getnum(in_1)\n",
    "\n",
    "            "
   ]
  },
  {
   "cell_type": "code",
   "execution_count": 13,
   "id": "aaf3295e-d1b4-4fbf-bc44-4277e46a2f58",
   "metadata": {},
   "outputs": [
    {
     "name": "stdout",
     "output_type": "stream",
     "text": [
      "0 \n",
      "0 1 \n",
      "0 1 2 \n",
      "0 1 2 3 \n"
     ]
    }
   ],
   "source": [
    "for i in range(0,4):\n",
    "    for j in range(0,i+1):\n",
    "        print(j,end=\" \")\n",
    "    print()"
   ]
  },
  {
   "cell_type": "code",
   "execution_count": 2,
   "id": "abc3c54b-3c3e-4a7f-a335-99f7f97192d2",
   "metadata": {},
   "outputs": [
    {
     "name": "stdout",
     "output_type": "stream",
     "text": [
      "0 or negative number to quit\n"
     ]
    },
    {
     "name": "stdin",
     "output_type": "stream",
     "text": [
      "enter a random number 12\n"
     ]
    },
    {
     "name": "stdout",
     "output_type": "stream",
     "text": [
      "Number is too small\n"
     ]
    },
    {
     "name": "stdin",
     "output_type": "stream",
     "text": [
      "enter a number again 0\n"
     ]
    }
   ],
   "source": [
    "import random\n",
    "a=random.randint(0,100)\n",
    "print(\"0 or negative number to quit\")\n",
    "in_1=int(input(\"enter a random number\"))\n",
    "while(in_1>0): \n",
    "    if(in_1==a):\n",
    "        print(\"Congratulations! You guessed it right\")\n",
    "        break\n",
    "    elif(in_1>a):\n",
    "        print(\"Number too large\")\n",
    "    else:\n",
    "        print(\"Number is too small\")\n",
    "    in_1=int(input(\"enter a number again\"))"
   ]
  },
  {
   "cell_type": "code",
   "execution_count": 8,
   "id": "d50b21fa-395c-46d2-8e17-827a2f2e9678",
   "metadata": {},
   "outputs": [
    {
     "name": "stdin",
     "output_type": "stream",
     "text": [
      "enter your name sheena\n"
     ]
    },
    {
     "name": "stdout",
     "output_type": "stream",
     "text": [
      "aneehs\n"
     ]
    }
   ],
   "source": [
    "mystring=input(\"enter your name\")\n",
    "length=len(mystring)\n",
    "rev=\"\"\n",
    "for i in range(length-1,-1,-1):# reverse of the string length-1, to -1 and -1 to indicate it is reverse\n",
    "    rev+=mystring[i]\n",
    "    \n",
    "print(rev)\n",
    "    "
   ]
  },
  {
   "cell_type": "code",
   "execution_count": 10,
   "id": "03823805-b53d-4d2d-a5ff-01bff8e20732",
   "metadata": {},
   "outputs": [
    {
     "data": {
      "text/plain": [
       "True"
      ]
     },
     "execution_count": 10,
     "metadata": {},
     "output_type": "execute_result"
    }
   ],
   "source": [
    "mystring1=\"i love india\"\n",
    "\"india\" in mystring1"
   ]
  },
  {
   "cell_type": "code",
   "execution_count": 12,
   "id": "f628730c-ddf9-4721-a4fd-0486bf72009e",
   "metadata": {},
   "outputs": [],
   "source": [
    "mystring2=\"\"\"my\n",
    "name is sheena\"\"\""
   ]
  },
  {
   "cell_type": "code",
   "execution_count": 13,
   "id": "23156b41-2211-420d-9ecd-4fe1241c05a5",
   "metadata": {},
   "outputs": [
    {
     "data": {
      "text/plain": [
       "'my\\nname is sheena'"
      ]
     },
     "execution_count": 13,
     "metadata": {},
     "output_type": "execute_result"
    }
   ],
   "source": [
    "mystring2"
   ]
  },
  {
   "cell_type": "code",
   "execution_count": 15,
   "id": "04ef6116-9ef7-43de-90a3-749193f091fb",
   "metadata": {},
   "outputs": [
    {
     "data": {
      "text/plain": [
       "False"
      ]
     },
     "execution_count": 15,
     "metadata": {},
     "output_type": "execute_result"
    }
   ],
   "source": [
    "\"yellow\" <= \"fellow\""
   ]
  },
  {
   "cell_type": "markdown",
   "id": "34547331-cd5c-4c42-88fb-f94dee2cb151",
   "metadata": {},
   "source": [
    "#### function in string\n",
    "### len,max min"
   ]
  },
  {
   "cell_type": "code",
   "execution_count": 22,
   "id": "d5b7207c-ebd7-44f8-81bb-8ebe09ffe50f",
   "metadata": {},
   "outputs": [
    {
     "name": "stdout",
     "output_type": "stream",
     "text": [
      "abcdeffghijklmnopqrstuvwxyz\n",
      "27\n",
      "z\n",
      "a\n",
      "97\n"
     ]
    }
   ],
   "source": [
    "mystring=\"abcdeffghijklmnopqrstuvwxyz\"\n",
    "print(mystring)\n",
    "print(len(mystring))\n",
    "print(max(mystring))\n",
    "print(min(mystring))\n",
    "print(ord(mystring[0]))## unicode character\n"
   ]
  },
  {
   "cell_type": "code",
   "execution_count": 25,
   "id": "70bdab2c-7791-4974-81cb-81f9d11e7b21",
   "metadata": {},
   "outputs": [
    {
     "data": {
      "text/plain": [
       "'d'"
      ]
     },
     "execution_count": 25,
     "metadata": {},
     "output_type": "execute_result"
    }
   ],
   "source": [
    "chr(100)##3unicode character"
   ]
  },
  {
   "cell_type": "code",
   "execution_count": 48,
   "id": "b1c2137b-2251-49fe-8342-576ef702fe14",
   "metadata": {},
   "outputs": [
    {
     "name": "stdout",
     "output_type": "stream",
     "text": [
      "[0, 1, 1, 2, 3, 5, 8, 13, 21, 34, 55]\n"
     ]
    }
   ],
   "source": [
    "list=[0,1]\n",
    "count=1\n",
    "for i in range(1,10):\n",
    "    list.append(list[i]+list[i-1])\n",
    "print(list)\n"
   ]
  },
  {
   "cell_type": "markdown",
   "id": "8fce5b5c-71d6-4b63-ba3c-ab41db7ae3e2",
   "metadata": {},
   "source": [
    "### Capitalize ,title, lower,upper,islower,isupper\n"
   ]
  },
  {
   "cell_type": "code",
   "execution_count": 41,
   "id": "dccdf835-1e28-40e1-8085-8b1ecb57146e",
   "metadata": {},
   "outputs": [
    {
     "data": {
      "text/plain": [
       "'I love python'"
      ]
     },
     "execution_count": 41,
     "metadata": {},
     "output_type": "execute_result"
    }
   ],
   "source": [
    "mystring1=\"i love python\"\n",
    "mystring1.capitalize()"
   ]
  },
  {
   "cell_type": "code",
   "execution_count": 66,
   "id": "86a49a42-7450-4a12-bf20-a49c1931ed09",
   "metadata": {},
   "outputs": [
    {
     "name": "stdout",
     "output_type": "stream",
     "text": [
      "False\n",
      "i love python\n",
      "I LOVE PYTHON\n",
      "True\n",
      "False\n",
      "True\n",
      "False\n",
      "True\n",
      "False\n",
      "True\n",
      "False\n",
      "True\n",
      "2\n",
      "1\n",
      "['i', 'love', 'python']\n",
      "a b c\n",
      "I Love PyThOn\n"
     ]
    }
   ],
   "source": [
    "print(mystring1.isalpha())\n",
    "print(mystring1.lower())\n",
    "print(mystring1.upper())\n",
    "print(mystring1.islower())\n",
    "print(mystring1.isupper())\n",
    "mystring2=\"12312312\"\n",
    "print(mystring2.isdigit())\n",
    "mystring3=\"python12312\"\n",
    "print(mystring3.isalpha())\n",
    "####isalnum alpha nummeric\n",
    "print(mystring3.isalnum())\n",
    "mystring4=\"  s  \"\n",
    "mystring5=\" \"\n",
    "print(mystring4.isspace())\n",
    "print(mystring5.isspace())\n",
    "print(mystring3.startswith(\"s\"))\n",
    "print(mystring3.endswith(\"2\"))\n",
    "mystring10=\"i love python\"\n",
    "print(mystring10.index(\"love\"))\n",
    "print(mystring10.count(\"python\"))\n",
    "print(mystring10.split())\n",
    "print(\" \".join((\"a\",\"b\",\"c\")))\n",
    "str2=\"i lOVE pYtHoN\"\n",
    "print(str2.swapcase())\n",
    "                 \n"
   ]
  },
  {
   "cell_type": "code",
   "execution_count": null,
   "id": "4148c919-ca1e-4d95-9e6f-686d6b2af06d",
   "metadata": {},
   "outputs": [],
   "source": [
    "a =10\n",
    "b=20\n",
    "c=max(a,b)\n",
    "print(f\" the max of a and b is {c}\")"
   ]
  },
  {
   "cell_type": "code",
   "execution_count": null,
   "id": "5f67ce13-5303-4f2d-ab9b-4c0285ca4de8",
   "metadata": {},
   "outputs": [],
   "source": [
    "s"
   ]
  },
  {
   "cell_type": "code",
   "execution_count": 124,
   "id": "fe443428-2259-4481-83b3-d41137e48ae5",
   "metadata": {},
   "outputs": [
    {
     "name": "stdout",
     "output_type": "stream",
     "text": [
      "1\n",
      "2\n",
      "3\n",
      "4\n",
      "1\n",
      "2\n",
      "3\n",
      "4\n",
      "key is 1 and value is john\n",
      "key is 2 and value is alex\n",
      "key is 3 and value is amritha\n",
      "key is 4 and value is mariyam\n",
      "4\n",
      "1\n",
      "[1, 2, 3, 4]\n",
      "{1: 'john', 2: 'alex', 3: 'amritha', 4: 'mariyam', 5: 'honeingh', 6: 'hundred'}\n",
      "hundred\n",
      "True\n",
      "True\n",
      "john\n",
      "(6, 'hundred')\n",
      "{2: 'alex', 3: 'amritha', 4: 'mariyam', 5: 'honeingh'}\n"
     ]
    }
   ],
   "source": [
    "student_list={1:\"john\",2:\"alex\",3:\"amritha\",4:\"mariyam\"}\n",
    "for i in student_list:\n",
    "    print(i)\n",
    "for values in student_list:\n",
    "    print(values)\n",
    "for keys,values in student_list.items():\n",
    "    print(f\"key is {keys} and value is {values}\")\n",
    "print(max(student_list))\n",
    "print(min(student_list))\n",
    "print(sorted(student_list))\n",
    "student_list[5]=\"honeingh\"\n",
    "\n",
    "student_list.update({6:\"hundred\"})\n",
    "print(student_list)\n",
    "print(student_list.get(6))\n",
    "print(any(student_list))\n",
    "print(all(student_list))\n",
    "print(student_list.pop(1))\n",
    "print(student_list.popitem())\n",
    "new_studentlist=student_list.copy()\n",
    "print(new_studentlist)\n",
    "\n"
   ]
  },
  {
   "cell_type": "code",
   "execution_count": 131,
   "id": "9cebcb9d-694e-4e08-94e3-46e8cc4147a5",
   "metadata": {},
   "outputs": [
    {
     "name": "stdout",
     "output_type": "stream",
     "text": [
      "{2: 'alex', 3: 'amritha', 4: 'mariyam', 5: 'honeingh', 7: 'dhoni'}\n",
      "{2: 'alex', 3: 'amritha', 4: 'mariyam', 5: 'honeingh', 7: 'dhoni', 8: None}\n"
     ]
    }
   ],
   "source": [
    "value=student_list.setdefault(7,\"dhoni\")\n",
    "value\n",
    "print(student_list)\n",
    "value=student_list.setdefault(8)\n",
    "print(student_list)"
   ]
  },
  {
   "cell_type": "code",
   "execution_count": 133,
   "id": "1faabf4e-3f8e-4756-b8c6-6c20f9ffb530",
   "metadata": {},
   "outputs": [
    {
     "name": "stdout",
     "output_type": "stream",
     "text": [
      "dunnydunny\n",
      "dunnydunny\n"
     ]
    }
   ],
   "source": [
    "mystr1=\"dunny\"\n",
    "print(mystr1*2)\n",
    "print(mystr1+mystr1)"
   ]
  },
  {
   "cell_type": "code",
   "execution_count": 134,
   "id": "9b80959b-dea1-4a0a-9e21-1fbeb1ef2df3",
   "metadata": {},
   "outputs": [
    {
     "data": {
      "text/plain": [
       "'not found'"
      ]
     },
     "execution_count": 134,
     "metadata": {},
     "output_type": "execute_result"
    }
   ],
   "source": [
    "student_list.pop(9,\"not found\")"
   ]
  },
  {
   "cell_type": "code",
   "execution_count": 135,
   "id": "c32220e0-7fa3-4bea-89c2-199f8a501fa2",
   "metadata": {},
   "outputs": [
    {
     "name": "stdout",
     "output_type": "stream",
     "text": [
      "True\n"
     ]
    }
   ],
   "source": [
    "str1=\" i love python programming\"\n",
    "print(\"india\" not in str1)"
   ]
  },
  {
   "cell_type": "code",
   "execution_count": 3,
   "id": "46d76ae6-71f2-47c3-965f-039b19f719d8",
   "metadata": {},
   "outputs": [
    {
     "name": "stdout",
     "output_type": "stream",
     "text": [
      "anisha 30 40000\n"
     ]
    }
   ],
   "source": [
    "## __ private\n",
    "##_protected\n",
    "class emp:\n",
    "    def __init__(self):\n",
    "        self.name=\"anisha\"\n",
    "        self.age=30\n",
    "        self.__sal=40000\n",
    "    def __display(self):\n",
    "        print(self.name,self.age,self.__sal)\n",
    "    def show(self):\n",
    "        self.__display()\n",
    "e1=emp()\n",
    "e1.show()"
   ]
  },
  {
   "cell_type": "code",
   "execution_count": 4,
   "id": "aa0339fd-6244-43ec-93bd-6893aaa86c42",
   "metadata": {},
   "outputs": [],
   "source": [
    "##simple inheritance\n",
    "## child inheriting from the parent\n",
    "class A:\n",
    "    pass\n",
    "class B(A):\n",
    "    pass"
   ]
  },
  {
   "cell_type": "code",
   "execution_count": 5,
   "id": "94526d47-73b8-4951-8801-c4dfd06e043d",
   "metadata": {},
   "outputs": [],
   "source": [
    "## multi level inheritence\n",
    "class A:\n",
    "    pass\n",
    "class B(A):\n",
    "    pass\n",
    "class C(B):\n",
    "    pass"
   ]
  },
  {
   "cell_type": "code",
   "execution_count": 6,
   "id": "2d8e40a3-3ba2-4469-b449-3dbf8d3c2e29",
   "metadata": {},
   "outputs": [],
   "source": [
    "## multiple inheritence\n",
    "### 2 parents and one child\n",
    "class A:\n",
    "    pass\n",
    "class B:\n",
    "    pass\n",
    "class C(A,B):\n",
    "    pass\n",
    "\n",
    "    "
   ]
  },
  {
   "cell_type": "code",
   "execution_count": 7,
   "id": "bd717d9a-b998-457b-aba7-6a66fb61611d",
   "metadata": {},
   "outputs": [],
   "source": [
    "## hierarchial inherite\n",
    "## \n",
    "class A:\n",
    "    pass\n",
    "class B(A):\n",
    "    pass\n",
    "class C(A):\n",
    "    pass\n",
    "    "
   ]
  },
  {
   "cell_type": "code",
   "execution_count": 8,
   "id": "6af62439-8b22-4b23-af5c-37bcf1aa12d5",
   "metadata": {},
   "outputs": [],
   "source": [
    "## hybrid ineritence\n",
    "class A:\n",
    "    pass\n",
    "class B(A):\n",
    "    pass\n",
    "class C(A):\n",
    "    pass\n",
    "class D(B,C):\n",
    "    pass"
   ]
  },
  {
   "cell_type": "code",
   "execution_count": 3,
   "id": "2be05932-949b-489e-8813-1a42d790d62c",
   "metadata": {},
   "outputs": [
    {
     "name": "stdout",
     "output_type": "stream",
     "text": [
      "pranab 34 23 87\n"
     ]
    }
   ],
   "source": [
    "class schoolmember:\n",
    "    def __init__(self,name,age):\n",
    "        self.name=name\n",
    "        self.age=age\n",
    "    def tell(self):\n",
    "        print(self.name,self.age,end=\" \")\n",
    "class student(schoolmember):\n",
    "    def __init__(self,name,age,rollno,per):\n",
    "        super().__init__(name,age)\n",
    "        self.rollno=rollno\n",
    "        self.per=per\n",
    "    def tell(self):\n",
    "        super().tell()\n",
    "        print(self.rollno,self.per)\n",
    "class teacher(schoolmember):\n",
    "    def __init__(self,name,age,sec):\n",
    "        super().__init__(name,age)\n",
    "        self.sec=sec\n",
    "\n",
    "P1=student(\"pranab\",34,23,87)\n",
    "P1.tell()\n",
    "        "
   ]
  },
  {
   "cell_type": "code",
   "execution_count": 8,
   "id": "ceb70317-70f5-4124-ad51-d3fad6925558",
   "metadata": {},
   "outputs": [
    {
     "name": "stdout",
     "output_type": "stream",
     "text": [
      "[<class '__main__.C'>, <class '__main__.A'>, <class '__main__.B'>, <class 'object'>]\n"
     ]
    }
   ],
   "source": [
    "class A:\n",
    "    def __init__(self):\n",
    "        print(\"A has been called\")\n",
    "class B:\n",
    "    def __init__(self):\n",
    "        print(\"B has been called\")\n",
    "class C(A,B):\n",
    "    pass\n",
    "    ##f __init__(self):\n",
    "       #rint(\"c has been called\"\n",
    "        \n",
    "print(C.mro())\n",
    "\n",
    "              "
   ]
  },
  {
   "cell_type": "code",
   "execution_count": 9,
   "id": "dad93304-3390-40b5-a75e-a2652a79bb6e",
   "metadata": {},
   "outputs": [
    {
     "name": "stdout",
     "output_type": "stream",
     "text": [
      "abhishek 30 56 87\n"
     ]
    }
   ],
   "source": [
    "class schoolmember:\n",
    "    def __init__(self,name,age):\n",
    "        self.name=name\n",
    "        self.age=age\n",
    "class studentname(schoolmember):\n",
    "    def __init__(self,name,age,rollno,per):\n",
    "        super().__init__(name,age)\n",
    "        self.rollno=rollno\n",
    "        self.per=per\n",
    "    def printcontent(self):\n",
    "        print(self.name,self.age,self.rollno,self.per)\n",
    "class teacher(schoolmember):\n",
    "    def __init__(self,name,age,sal):\n",
    "        self.sal=sal\n",
    "s1=studentname(\"abhishek\",30,56,87)\n",
    "s1.printcontent()\n",
    "\n"
   ]
  },
  {
   "cell_type": "code",
   "execution_count": 15,
   "id": "ab2edcc5-330e-4b2c-9685-b4473ed4c4fc",
   "metadata": {},
   "outputs": [
    {
     "name": "stdout",
     "output_type": "stream",
     "text": [
      "Base1\n",
      "Base2\n",
      "derived\n",
      "hello hi\n"
     ]
    }
   ],
   "source": [
    "class Base1(object):\n",
    "    def __init__(self):\n",
    "        self.str1=\"hello\"\n",
    "        print(\"Base1\",end=\"\")\n",
    "class Base2(object):\n",
    "    def __init__(self):\n",
    "        self.str2=\"hi\"\n",
    "        print(\"Base2\")\n",
    "class Derived(Base1,Base2):\n",
    "    def __init__(self):\n",
    "        Base1.__init__(self)\n",
    "        Base2.__init__(self)\n",
    "        print(\"derived\")\n",
    "    def printStrs(self):\n",
    "        print(self.str1, self.str2)\n",
    "B1=Derived()\n",
    "B1.printStrs()\n",
    "    "
   ]
  },
  {
   "cell_type": "code",
   "execution_count": 5,
   "id": "ddba2669-31cd-4029-9d52-7ed032aad340",
   "metadata": {},
   "outputs": [
    {
     "name": "stdout",
     "output_type": "stream",
     "text": [
      "parent class \n",
      "child class\n"
     ]
    }
   ],
   "source": [
    "##single inheritence\n",
    "class parent(object):\n",
    "    def __init__(self):\n",
    "        print(\"parent class \")\n",
    "class child(parent):\n",
    "    def __init__(self):\n",
    "        parent.__init__(self)\n",
    "        print(\"child class\")\n",
    "c1=child()\n"
   ]
  },
  {
   "cell_type": "code",
   "execution_count": 13,
   "id": "7a6f0bc6-c147-49a7-9456-50771b6e9291",
   "metadata": {},
   "outputs": [
    {
     "name": "stdout",
     "output_type": "stream",
     "text": [
      "grandparent class\n",
      "parent class\n",
      "child\n",
      "Gransparents name : Indira Gandhi,Parents name =Rajiv Gandhi,Childs name =Rahul Gandhi\n"
     ]
    }
   ],
   "source": [
    "## multiple inheritence A ,b->c\n",
    "class Grandparent(object):\n",
    "    GPname=\" \"\n",
    "    def __init__( self):\n",
    "        print(\"grandparent class\")\n",
    "class parent(object):\n",
    "    Pname=\" \"   \n",
    "    def __init__(self):\n",
    "        print(\"parent class\")\n",
    "class child(Grandparent,parent):\n",
    "    Cname=\" \"\n",
    "    def __init__(self):\n",
    "        Grandparent.__init__(self)\n",
    "        parent.__init__(self)\n",
    "        print(\"child\")\n",
    "    def names(self):\n",
    "        print(f\"Gransparents name : {self.GPname},Parents name ={self.Pname},Childs name ={self.Cname}\")        \n",
    "        \n",
    "c1=child()\n",
    "c1.GPname=\"Indira Gandhi\"\n",
    "c1.Pname=\"Rajiv Gandhi\"\n",
    "c1.Cname=\"Rahul Gandhi\"\n",
    "c1.names()\n"
   ]
  },
  {
   "cell_type": "code",
   "execution_count": 1,
   "id": "b8a84476-63fb-43d9-bf4b-62d498a83d2c",
   "metadata": {},
   "outputs": [
    {
     "name": "stdout",
     "output_type": "stream",
     "text": [
      "in B class\n",
      "in A class\n",
      "name is : wipro age is : kv emp id is :30 comp is : 12 shcoolname is : Ankita\n"
     ]
    }
   ],
   "source": [
    "### multilevel inheritence\n",
    "class A:\n",
    "    def __init__(self,name,age):\n",
    "        self.name=name\n",
    "        self.age=age\n",
    "        print(\"in A class\")\n",
    "class B(A):\n",
    "    def __init__(self,empid,comp,name,age):\n",
    "        self.empid=empid\n",
    "        self.comp=comp\n",
    "        print(\"in B class\")\n",
    "        A.__init__(self,name,age)\n",
    "class C(B):\n",
    "    def __init__(self,schoolname,empid,comp,name,age):\n",
    "        self.schoolname=schoolname\n",
    "        B.__init__(self,empid,comp,name,age)\n",
    "    def printdata(self):\n",
    "        print(f\"name is : {self.name} age is : {self.age} emp id is :{self.empid} comp is : {self.comp} shcoolname is : {self.schoolname}\")\n",
    "\n",
    "Cobj=C(\"Ankita\",30,12,\"wipro\",\"kv\")\n",
    "Cobj.printdata()\n",
    "   ## base calss inherits the object class    "
   ]
  },
  {
   "cell_type": "code",
   "execution_count": 9,
   "id": "a85773f1-2857-412e-aa8d-14b0e6faf518",
   "metadata": {},
   "outputs": [
    {
     "name": "stdout",
     "output_type": "stream",
     "text": [
      "name is : ankita age is : 30 roll no is :12 per is : 98 subject is : bio\n",
      "[<class '__main__.sciencestudent'>, <class '__main__.person'>, <class '__main__.student'>, <class 'object'>]\n"
     ]
    }
   ],
   "source": [
    "##multiple inheritence\n",
    "class person:\n",
    "    def __init__(self,name,age):\n",
    "        self.name=name\n",
    "        self.age=age\n",
    "class student:\n",
    "    def __init__(self,rollno,per):\n",
    "        self.rollno=rollno\n",
    "        self.per=per\n",
    "class sciencestudent(person,student):\n",
    "    def __init__(self,name,age,rollno,per,subject):\n",
    "        self.subject=subject\n",
    "        person.__init__(self,name,age)\n",
    "        student.__init__(self,rollno,per)\n",
    "    def printdata(self):\n",
    "        print(f\"name is : {self.name} age is : {self.age} roll no is :{self.rollno} per is : {self.per} subject is : {self.subject}\")\n",
    " \n",
    "s1obj=sciencestudent(\"ankita\",30,12,98,\"bio\")\n",
    "s1obj.printdata()\n",
    "print(sciencestudent.mro())\n",
    "##The super() function is used to give access to methods and properties of a parent or sibling class. The super() function returns an object that represents the parent class.\n",
    "        "
   ]
  },
  {
   "cell_type": "code",
   "execution_count": 15,
   "id": "3da3613b-5f04-4b3a-ae9a-cafeeb452f0c",
   "metadata": {},
   "outputs": [
    {
     "name": "stdout",
     "output_type": "stream",
     "text": [
      "this is the parent class\n",
      "this is child1 class\n",
      "Father name: Adam, Mother name:Eve,child1 nameCain\n",
      "this is the parent class\n",
      "this is child2 class\n",
      "Father name: Adam, Mother name:Eve,child1 nameAbel\n"
     ]
    }
   ],
   "source": [
    "###heirachial inheritence parent class is inherited by the all the child class\n",
    "\n",
    "class Parent(object):\n",
    "    def func1(self):\n",
    "        print(\"this is the parent class\")\n",
    "    def __init__(self,fathername,mothername):\n",
    "        self.fathername=fathername\n",
    "        self.mothername=mothername\n",
    "class child1(Parent):\n",
    "    def func2(self):\n",
    "        print(\"this is child1 class\")\n",
    "       \n",
    "    def __init__(self,fathername,mothername,child1name):\n",
    "        self.child1name=child1name\n",
    "        Parent.__init__(self,fathername,mothername)\n",
    "    def printchilddetails(self):\n",
    "        print(f\"Father name: {self.fathername}, Mother name:{self.mothername},child1 name: {self.child1name}\")\n",
    "        \n",
    "class child2(Parent):\n",
    "    def func3(self):\n",
    "        print(\"this is child2 class\")\n",
    "        \n",
    "    def __init__(self,fathername,mothername,child2name):\n",
    "        self.child2name=child2name\n",
    "        Parent.__init__(self,fathername,mothername)\n",
    "    def printchil2ddetails(self):\n",
    "        print(f\"Father name: {self.fathername}, Mother name:{self.mothername},child1 name: {self.child2name}\")\n",
    "        \n",
    "chobj=child1(\"Adam\" ,\"Eve\",\"Cain\")\n",
    "chobj1=child2(\"Adam\",\"Eve\",\"Abel\")\n",
    "chobj.func1()\n",
    "chobj.func2()\n",
    "chobj.printchilddetails()\n",
    "chobj1.func1()\n",
    "chobj1.func3()\n",
    "chobj1.printchil2ddetails()"
   ]
  },
  {
   "cell_type": "code",
   "execution_count": 12,
   "id": "8c2fd4d3-9af8-49a7-b7d3-38ca5f081797",
   "metadata": {},
   "outputs": [
    {
     "name": "stdout",
     "output_type": "stream",
     "text": [
      "this is sub child class\n",
      "this is the first level child calss\n",
      "this is the super class A\n",
      "this is the second level child class\n",
      "this is the super class A\n",
      "[<class '__main__.D'>, <class '__main__.B'>, <class '__main__.C'>, <class '__main__.A'>, <class 'object'>]\n"
     ]
    }
   ],
   "source": [
    "##hybrid inheritence\n",
    "class A(object):\n",
    "    def __init__(self):\n",
    "        print(\"this is the super class A\")\n",
    "class B(A):\n",
    "    def __init__(self):\n",
    "        print(\"this is the first level child calss\")\n",
    "        A.__init__(self)\n",
    "class C(A):\n",
    "    def __init__(self):\n",
    "        print(\"this is the second level child class\")\n",
    "        A.__init__(self)\n",
    "        \n",
    "class D(B,C):\n",
    "    def __init__(self):\n",
    "        print(\"this is sub child class\")\n",
    "        B.__init__(self)\n",
    "        C.__init__(self)\n",
    "obj =D()\n",
    "print(D.mro())"
   ]
  },
  {
   "cell_type": "code",
   "execution_count": null,
   "id": "75eebcbd-3467-4e98-a239-9ff7023bfd36",
   "metadata": {},
   "outputs": [],
   "source": []
  },
  {
   "cell_type": "code",
   "execution_count": null,
   "id": "21909967-ccdd-4876-bf2b-c54e6d6f3502",
   "metadata": {},
   "outputs": [],
   "source": []
  }
 ],
 "metadata": {
  "kernelspec": {
   "display_name": "Python 3 (ipykernel)",
   "language": "python",
   "name": "python3"
  },
  "language_info": {
   "codemirror_mode": {
    "name": "ipython",
    "version": 3
   },
   "file_extension": ".py",
   "mimetype": "text/x-python",
   "name": "python",
   "nbconvert_exporter": "python",
   "pygments_lexer": "ipython3",
   "version": "3.10.6"
  }
 },
 "nbformat": 4,
 "nbformat_minor": 5
}

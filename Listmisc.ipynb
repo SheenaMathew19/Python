{
 "cells": [
  {
   "cell_type": "markdown",
   "id": "05a34c5b-6753-48c8-9dc7-c5513551eb69",
   "metadata": {},
   "source": [
    "Write a program to accept a string from the user and display it vertically but don’t display the vowels in it."
   ]
  },
  {
   "cell_type": "code",
   "execution_count": 11,
   "id": "cf8fcf6e-7d0f-424c-8076-db9f471f462a",
   "metadata": {},
   "outputs": [
    {
     "name": "stdin",
     "output_type": "stream",
     "text": [
      "enter any word hello\n"
     ]
    },
    {
     "name": "stdout",
     "output_type": "stream",
     "text": [
      "h\n",
      "l\n",
      "l\n"
     ]
    }
   ],
   "source": [
    "str1=input(\"enter any word\")\n",
    "i=0\n",
    "while(i<len(str1)):\n",
    "      if str1[i] not in 'aeiou':\n",
    "            print(str1[i])\n",
    "      i=i+1\n"
   ]
  },
  {
   "cell_type": "markdown",
   "id": "fc6fc09c-5725-4bbc-8123-988d9858d218",
   "metadata": {},
   "source": [
    "Split the string input_str = 'Kumar_Ravi_003' to the person's second name, first name and unique customer code. In this example, second_name= 'Kumar', first_name= 'Ravi', customer_code = '003'."
   ]
  },
  {
   "cell_type": "markdown",
   "id": "64a00b27-7ecf-4bed-b674-c1b77b419e0b",
   "metadata": {},
   "source": [
    "Print even numbers [1 -> starting index and 2 ->no of step that you want to skip\"]"
   ]
  },
  {
   "cell_type": "code",
   "execution_count": 17,
   "id": "7aa0424c-9286-4bdf-b042-6b9b3a846e6b",
   "metadata": {},
   "outputs": [
    {
     "name": "stdout",
     "output_type": "stream",
     "text": [
      "2468\n"
     ]
    }
   ],
   "source": [
    "nums=\"12345678\\n\"\n",
    "even_nums=nums[1::2]\n",
    "print(even_nums)"
   ]
  },
  {
   "cell_type": "code",
   "execution_count": 12,
   "id": "01c482e2-cf56-4fc5-a302-3a58fb9f6b38",
   "metadata": {},
   "outputs": [
    {
     "name": "stdout",
     "output_type": "stream",
     "text": [
      "firstname is Ravi, last name is Kumar and customer code is 03\n"
     ]
    }
   ],
   "source": [
    "input_str='Kumar_Ravi_003'\n",
    "firstname=input_str[6:10]\n",
    "lastname=input_str[0:5]\n",
    "customer_code=input_str[12:]\n",
    "print(\"firstname is {0}, last name is {1} and customer code is {2}\".format(firstname,lastname,customer_code))"
   ]
  },
  {
   "cell_type": "markdown",
   "id": "f0525960-260f-4519-817e-a7c744215089",
   "metadata": {},
   "source": [
    "list\n",
    "1)append\n",
    "2)insert\n",
    "3)remove\n",
    "4)pop\n",
    "5)index\n",
    "6)count\n",
    "7)sort\n",
    "8)reverse\n",
    "9)copy\n",
    "10)index\n",
    "11)clear\n"
   ]
  },
  {
   "cell_type": "code",
   "execution_count": 26,
   "id": "ae1f3e13-01e2-4365-abc1-ccd0fdc2a0df",
   "metadata": {},
   "outputs": [
    {
     "name": "stdout",
     "output_type": "stream",
     "text": [
      "the initial list is ['apple', 'mango', 'cherry', 'banana', 'mango']\n",
      "the  list after append is ['apple', 'mango', 'cherry', 'banana', 'mango', 'kiwi']\n",
      "the insert operation  ['orange', 'apple', 'mango', 'cherry', 'banana', 'mango', 'kiwi']\n",
      "remove ['orange', 'mango', 'cherry', 'banana', 'mango', 'kiwi']\n",
      "POP ['orange', 'mango', 'cherry', 'banana', 'mango']\n",
      "index 2\n",
      "count 2\n",
      "sort ['banana', 'cherry', 'mango', 'mango', 'orange']\n",
      "the reverse of the list ['orange', 'mango', 'mango', 'cherry', 'banana']\n",
      "copy ['orange', 'mango', 'mango', 'cherry', 'banana']\n",
      "clear None\n"
     ]
    }
   ],
   "source": [
    "list1=[\"apple\",\"mango\",\"cherry\",\"banana\",\"mango\"]\n",
    "print(\"the initial list is {0}\".format(list1))\n",
    "list1.append(\"kiwi\")\n",
    "print(\"the  list after append is {0}\".format(list1))\n",
    "list1.insert(0,\"orange\")\n",
    "print(\"the insert operation  {0}\".format(list1))\n",
    "list1.remove(\"apple\")\n",
    "print(\"remove {0}\".format(list1))\n",
    "list1.pop()\n",
    "print(\"POP {0}\".format(list1))\n",
    "print(\"index {0}\".format(list1.index(\"cherry\")))\n",
    "print(\"count {0}\".format(list1.count(\"mango\")))\n",
    "list1.sort()\n",
    "print(\"sort {0}\".format(list1))\n",
    "list1.reverse()\n",
    "print(\"the reverse of the list {0}\".format(list1))\n",
    "mylist=[]\n",
    "mylist=list1.copy()\n",
    "print(\"copy {0}\".format(mylist))\n",
    "print(\"clear {0}\".format(list1.clear()))\n",
    "\n"
   ]
  },
  {
   "cell_type": "markdown",
   "id": "addbe98b-a90a-4207-a3c6-a8a7ff439bb1",
   "metadata": {},
   "source": [
    "### STACK\n",
    "a)append\n",
    "b)pop"
   ]
  },
  {
   "cell_type": "code",
   "execution_count": 30,
   "id": "a70173e6-d99b-4727-a2c3-8f1b3a8938f7",
   "metadata": {},
   "outputs": [
    {
     "name": "stdout",
     "output_type": "stream",
     "text": [
      "the initial stack list [3, 4, 5]\n",
      "insertion [3, 4, 5, 6, 7]\n",
      "the pop [3, 4, 5, 6]\n"
     ]
    }
   ],
   "source": [
    "stack=[3,4,5]\n",
    "print(\"the initial stack list {0}\".format(stack))\n",
    "stack.append(6)\n",
    "stack.append(7)\n",
    "print(\"insertion {0}\".format(stack))\n",
    "stack.pop()\n",
    "print(\"the pop {0}\".format(stack))\n"
   ]
  },
  {
   "cell_type": "markdown",
   "id": "93232ff1-8940-4da2-8874-fd7b2eea7235",
   "metadata": {},
   "source": [
    "### QUEUE\n"
   ]
  },
  {
   "cell_type": "code",
   "execution_count": 1,
   "id": "c36692a8-8c58-4784-8aa0-935d684f8584",
   "metadata": {},
   "outputs": [
    {
     "name": "stdout",
     "output_type": "stream",
     "text": [
      "elements in the queue after removing first element deque(['Michael', 'Terry', 'Graham'])\n"
     ]
    }
   ],
   "source": [
    "from collections import deque\n",
    "queue = deque([\"Eric\", \"John\", \"Michael\"])\n",
    "queue.append(\"Terry\")           # Terry arrives\n",
    "queue.append(\"Graham\")          # Graham arrives\n",
    "queue.popleft()                 # The first to arrive now leaves\n",
    "queue.popleft()                 # The second to arrive now leaves\n",
    "print(\"elements in the queue after removing first element {0}\".format(queue))"
   ]
  },
  {
   "cell_type": "markdown",
   "id": "3fab84b3-9c44-455d-950c-beba0e87093d",
   "metadata": {},
   "source": [
    "### list (for loop)\n",
    "square "
   ]
  },
  {
   "cell_type": "code",
   "execution_count": 3,
   "id": "74261602-1795-408d-8c4f-5067f094c406",
   "metadata": {},
   "outputs": [
    {
     "name": "stdout",
     "output_type": "stream",
     "text": [
      "[0, 1, 4, 9, 16, 25, 36, 49, 64, 81]\n"
     ]
    }
   ],
   "source": [
    "squares=[]\n",
    "for x in range(10):\n",
    "    squares.append(x**2)\n",
    "print(squares)\n"
   ]
  },
  {
   "cell_type": "code",
   "execution_count": 7,
   "id": "9c2e46ae-d987-481a-b046-4d4511c6a480",
   "metadata": {},
   "outputs": [
    {
     "name": "stdout",
     "output_type": "stream",
     "text": [
      "[0, 1, 4, 9, 16, 25, 36, 49, 64, 81]\n"
     ]
    }
   ],
   "source": [
    "sqaures=list[map(lambda x:x**2,range(10))]\n",
    "print(squares)"
   ]
  },
  {
   "cell_type": "markdown",
   "id": "be4175a1-da71-4ca1-a867-15078aab6e52",
   "metadata": {},
   "source": [
    "### list operation\n",
    "1) double the list value\n",
    "2) remove the negative numbers\n",
    "3) remove the space\n",
    "4) list of 2 numbers(number and the square)\n",
    "5) flatten the list"
   ]
  },
  {
   "cell_type": "code",
   "execution_count": 8,
   "id": "cac1d94b-8c4e-449a-b638-1021cccba455",
   "metadata": {},
   "outputs": [
    {
     "name": "stdout",
     "output_type": "stream",
     "text": [
      "[0, 2, 4, 6, 8, 10, 12, 14, 16, 18]\n"
     ]
    }
   ],
   "source": [
    "list1=[]\n",
    "for x in range(10):\n",
    "    list1.append(x*2)\n",
    "print(list1)\n",
    "    "
   ]
  },
  {
   "cell_type": "code",
   "execution_count": 9,
   "id": "a83eff28-81da-4f94-9869-e56500c4a20b",
   "metadata": {},
   "outputs": [
    {
     "name": "stdout",
     "output_type": "stream",
     "text": [
      "[2, 3, 5]\n"
     ]
    }
   ],
   "source": [
    "list1=[-6,-5,2,3,5]\n",
    "mylist=[]\n",
    "for x in list1:\n",
    "    if(x>0):\n",
    "        mylist.append(x)\n",
    "print(mylist)\n",
    "    "
   ]
  },
  {
   "cell_type": "code",
   "execution_count": 21,
   "id": "6c4c417d-0ea6-441c-a38a-fb9209992f01",
   "metadata": {},
   "outputs": [
    {
     "name": "stdout",
     "output_type": "stream",
     "text": [
      "['apple', 'banana', 'mango', 'cherry']\n"
     ]
    }
   ],
   "source": [
    "fruits=[\"apple \",\" banana\",\"mango  \",\"  cherry\"]\n",
    "print([ x.strip() for x in fruits])\n"
   ]
  },
  {
   "cell_type": "code",
   "execution_count": 38,
   "id": "0e44f134-2dfa-4ff6-853d-a3e4ad1f613a",
   "metadata": {},
   "outputs": [
    {
     "name": "stdout",
     "output_type": "stream",
     "text": [
      "[(0, 0), (1, 2), (2, 4), (3, 6), (4, 8), (5, 10), (6, 12), (7, 14), (8, 16), (9, 18)]\n"
     ]
    }
   ],
   "source": [
    "print([(x,x*2) for x in range(10)])    "
   ]
  },
  {
   "cell_type": "code",
   "execution_count": 1,
   "id": "99f358e5-f3be-49c9-91b2-e01b3c7c7df2",
   "metadata": {},
   "outputs": [
    {
     "name": "stdout",
     "output_type": "stream",
     "text": [
      "1\n",
      "2\n",
      "3\n",
      "4\n",
      "5\n",
      "6\n",
      "7\n",
      "8\n",
      "9\n"
     ]
    }
   ],
   "source": [
    "vec=[[1,2,3],[4,5,6],[7,8,9]]\n",
    "for elem in vec:\n",
    "    for num in elem:\n",
    "        print(num)\n",
    "    "
   ]
  },
  {
   "cell_type": "code",
   "execution_count": 5,
   "id": "00539f65-5887-4f83-91f7-ce27ec9506b7",
   "metadata": {},
   "outputs": [
    {
     "name": "stdout",
     "output_type": "stream",
     "text": [
      "[2, 4, 8, 10, 12, 14, 16]\n",
      "[4, 8, 10, 12, 14, 16]\n"
     ]
    }
   ],
   "source": [
    "list=[1,2,4,5,6,7,8]\n",
    "mylist=[]\n",
    "i=0\n",
    "for i in list:\n",
    "    mylist.append(i*2)\n",
    "    i=i+2\n",
    "print(mylist)\n",
    "del mylist[0]\n",
    "print(mylist)\n"
   ]
  },
  {
   "cell_type": "markdown",
   "id": "8efae316-bb8b-481d-8beb-e521c998cf9a",
   "metadata": {},
   "source": [
    "Remove SPSS from input_list=['SAS', 'R', 'PYTHON', 'SPSS'] and add 'SPARK' in its place."
   ]
  },
  {
   "cell_type": "code",
   "execution_count": 7,
   "id": "c4de9470-64ab-42a7-b65f-bdb451a4140d",
   "metadata": {},
   "outputs": [
    {
     "name": "stdout",
     "output_type": "stream",
     "text": [
      "['SAS', 'R', 'PYTHON', 'SPARK']\n"
     ]
    }
   ],
   "source": [
    "input_list=['SAS', 'R', 'PYTHON', 'SPSS']\n",
    "input_list.remove('SPSS')\n",
    "input_list.insert(4,'SPARK')\n",
    "print(input_list)"
   ]
  },
  {
   "cell_type": "markdown",
   "id": "1c3d88f2-44fb-4dcd-b0f9-0afe8b318fbe",
   "metadata": {},
   "source": [
    "Convert a string input_str = 'I love Data Science & Python' to a list by splitting it on ‘&’. The sample output for this string will be:"
   ]
  },
  {
   "cell_type": "code",
   "execution_count": 8,
   "id": "1ee07a10-25ac-4d45-b63c-9c68c00e37a8",
   "metadata": {},
   "outputs": [
    {
     "name": "stdout",
     "output_type": "stream",
     "text": [
      "['I love Data Science ', ' Python']\n"
     ]
    }
   ],
   "source": [
    "input_str='I love Data Science & Python' \n",
    "output_str=input_str.split('&')\n",
    "print(output_str)"
   ]
  },
  {
   "cell_type": "markdown",
   "id": "c460c876-4b34-449d-8f5f-52738b5f0cb9",
   "metadata": {},
   "source": [
    "Convert a list ['Pythons syntax is easy to learn', 'Pythons syntax is very clear'] to a string using ‘&’."
   ]
  },
  {
   "cell_type": "code",
   "execution_count": 10,
   "id": "41c90ac0-0e84-4980-90e3-2fe1c9432a18",
   "metadata": {},
   "outputs": [
    {
     "name": "stdout",
     "output_type": "stream",
     "text": [
      "Pythons syntax is easy to learn & Pythons syntax is very clear\n"
     ]
    }
   ],
   "source": [
    "input_list=['Pythons syntax is easy to learn', 'Pythons syntax is very clear'] \n",
    "output_list=' & '.join(input_list)\n",
    "print(output_list)"
   ]
  },
  {
   "cell_type": "markdown",
   "id": "edeab4f1-9d74-403b-9b4a-7df797692cb1",
   "metadata": {},
   "source": [
    "Extract Python from a nested list input_list =  [['SAS','R'],['Tableau','SQL'],['Python','Java']]"
   ]
  },
  {
   "cell_type": "code",
   "execution_count": 12,
   "id": "51e11982-867c-48ef-bceb-262b2e588a40",
   "metadata": {},
   "outputs": [
    {
     "name": "stdout",
     "output_type": "stream",
     "text": [
      "Python\n"
     ]
    }
   ],
   "source": [
    "input_list =  [['SAS','R'],['Tableau','SQL'],['Python','Java']]\n",
    "answer=input_list[2][0]\n",
    "print(answer)"
   ]
  },
  {
   "cell_type": "markdown",
   "id": "d7f5c734-1e08-4fc8-82a1-dc68783ad726",
   "metadata": {},
   "source": [
    "### Tuple \n",
    "### tuple once written cannot be changed remove,pop ,append.insert and extend wont work"
   ]
  },
  {
   "cell_type": "code",
   "execution_count": null,
   "id": "00a857e4-599e-44df-bb55-73e578365b40",
   "metadata": {},
   "outputs": [],
   "source": [
    "first_tuple=(\"monty\",12,\"hi\",2345)\n",
    "print(len(first_tuple))\n",
    "print(first_tuple)\n",
    "\n",
    "new_list = list(first_tuple)\n",
    "print(new_list)\n",
    "new_list.remove(12)\n",
    "print(new_list)\n"
   ]
  },
  {
   "cell_type": "code",
   "execution_count": 2,
   "id": "373c39b7-729d-4723-913a-60fa34618abd",
   "metadata": {},
   "outputs": [
    {
     "name": "stdout",
     "output_type": "stream",
     "text": [
      "((1, 2, 3), (4, 5, 6))\n"
     ]
    }
   ],
   "source": [
    "t=(1,2,3)\n",
    "l=t,(4,5,6)\n",
    "print(l)"
   ]
  },
  {
   "cell_type": "code",
   "execution_count": 4,
   "id": "8a5480ef-1474-468a-95cc-fdfeab8542a3",
   "metadata": {},
   "outputs": [
    {
     "name": "stdout",
     "output_type": "stream",
     "text": [
      "([1, 2, 3], [4, 5, 6])\n"
     ]
    }
   ],
   "source": [
    "x=([1,2,3],[4,5,6])\n",
    "print(x)"
   ]
  },
  {
   "cell_type": "markdown",
   "id": "431d3635-99b0-4e65-b484-8fabbfae293e",
   "metadata": {},
   "source": [
    "### Set\n",
    "Set {} , eliminated suplicate enteries"
   ]
  },
  {
   "cell_type": "code",
   "execution_count": 10,
   "id": "97f3672f-df67-41db-910f-9b626bbfb3ca",
   "metadata": {},
   "outputs": [
    {
     "name": "stdout",
     "output_type": "stream",
     "text": [
      "{'orange', 'apple', 'banana'}\n",
      "{4, 5}\n",
      "{1, 2, 3}\n",
      "{1, 2, 3, 4, 5, 6, 7, 8}\n",
      "{1, 2, 3, 6, 7, 8}\n"
     ]
    }
   ],
   "source": [
    "fruits={\"banana\",\"apple\",\"orange\",\"apple\"}\n",
    "print(fruits)\n",
    "\"apple\" in fruits\n",
    "x={1,2,3,4,5}\n",
    "y={4,5,6,7,8}\n",
    "print(x&y)\n",
    "print(x-y)\n",
    "print(x|y)\n",
    "print(x^y)"
   ]
  },
  {
   "cell_type": "markdown",
   "id": "8ad338c5-fc26-4ff5-8aa0-4e8bbf70f5f0",
   "metadata": {},
   "source": [
    "### dictinary\n",
    "A dictionary is a collection of words alonmangog with their meanings or simpler explanations.\n",
    "At a broader level, you could call a dictionary a mapping of words with their synonyms or meanings. Let's learn about Python dictionaries from the professor.\n",
    "key value pair\n"
   ]
  },
  {
   "cell_type": "code",
   "execution_count": 19,
   "id": "ade692e3-1be6-4ebe-b75c-3259d5b248e4",
   "metadata": {},
   "outputs": [
    {
     "name": "stdout",
     "output_type": "stream",
     "text": [
      "{1: 'apple', 2: 'mango', 3: 'orange', 4: 'kiwi'}\n",
      "apple\n",
      "{1: 'a', 2: 'b'}\n"
     ]
    },
    {
     "data": {
      "text/plain": [
       "{'sape': 4139, 'guido': 4127, 'jack': 4098}"
      ]
     },
     "execution_count": 19,
     "metadata": {},
     "output_type": "execute_result"
    }
   ],
   "source": [
    "fruits_basket={1:'apple',2:'mango',3:'orange'}\n",
    "fruits_basket[4]='kiwi'\n",
    "print(fruits_basket)\n",
    "print(fruits_basket[1])\n",
    "4 in fruits_basket\n",
    "print(dict([(1,'a'),(2,'b')]))\n",
    "dict(sape=4139, guido=4127, jack=4098)"
   ]
  },
  {
   "cell_type": "code",
   "execution_count": 20,
   "id": "63fabe9e-3ba2-409a-a937-4dff019ea98d",
   "metadata": {},
   "outputs": [
    {
     "name": "stdout",
     "output_type": "stream",
     "text": [
      "gallahad the pure\n",
      "robin the brave\n"
     ]
    }
   ],
   "source": [
    "knights = {'gallahad': 'the pure', 'robin': 'the brave'}\n",
    "for k,v in knights.items():\n",
    "    print(k,v)\n"
   ]
  },
  {
   "cell_type": "code",
   "execution_count": 23,
   "id": "4204b7f5-8764-4639-9d81-16fadf3a9688",
   "metadata": {},
   "outputs": [
    {
     "name": "stdout",
     "output_type": "stream",
     "text": [
      "[(1, 4), (2, 5), (3, 6)]\n"
     ]
    }
   ],
   "source": [
    "a=[1,2,3]\n",
    "b=[4,5,6]\n",
    "c=[]\n",
    "c=list(zip(a,b))\n",
    "print(c)"
   ]
  },
  {
   "cell_type": "markdown",
   "id": "8f3ad9ac-d14e-4f93-9927-2af407d552e6",
   "metadata": {},
   "source": [
    "From a Dictionary input_dict={'Name': 'Monty', 'Profession': 'Singer' }, get the value of a key ‘Label’ which is not a part of the dictionary, in such a way that Python doesn't hit an error. If the key does not exist in the dictionary, Python should return 'NA'."
   ]
  },
  {
   "cell_type": "code",
   "execution_count": 4,
   "id": "7737eca9-a4e6-45ad-84d7-6f1580818a2c",
   "metadata": {},
   "outputs": [
    {
     "name": "stdout",
     "output_type": "stream",
     "text": [
      "NA\n"
     ]
    }
   ],
   "source": [
    "input_dict= {'Name': 'Monty', 'Profession': 'Singer' }\n",
    "if \"label\" in input_dict.keys():\n",
    "    print(input_dict[\"label\"])\n",
    "else:\n",
    "    print(\"NA\")\n"
   ]
  },
  {
   "cell_type": "code",
   "execution_count": 7,
   "id": "e9b9c74a-30ec-443f-b779-62079ba851b0",
   "metadata": {},
   "outputs": [
    {
     "name": "stdout",
     "output_type": "stream",
     "text": [
      "NA\n"
     ]
    }
   ],
   "source": [
    "input_dict= {'Name': 'Monty', 'Profession': 'Singer' }\n",
    "if input_dict.get(\"label\"):\n",
    "    print(input_dict[\"label\"])\n",
    "else:\n",
    "    print(\"NA\")"
   ]
  },
  {
   "cell_type": "markdown",
   "id": "aef74adb-d9bc-484d-baf4-9e9bc622915a",
   "metadata": {},
   "source": [
    "Extract the company headed by Tim Cook from the dictionary {'Jack Dorsey': 'Twitter', 'Tim Cook': 'Apple','Jeff Bezos': 'Amazon','Mukesh Ambani': 'RJIO'}"
   ]
  },
  {
   "cell_type": "code",
   "execution_count": 4,
   "id": "a4f7353f-472f-47a2-8f7e-be01c031ab27",
   "metadata": {},
   "outputs": [
    {
     "name": "stdout",
     "output_type": "stream",
     "text": [
      "Apple\n"
     ]
    }
   ],
   "source": [
    "input_dict={'Jack Dorsey': 'Twitter', 'Tim Cook': 'Apple','Jeff Bezos': 'Amazon','Mukesh Ambani': 'RJIO'}\n",
    "name=input_dict[\"Tim Cook\"]\n",
    "print(name)"
   ]
  },
  {
   "cell_type": "markdown",
   "id": "d221d633-5ab3-440e-93f0-37aa70319455",
   "metadata": {},
   "source": [
    "Create a SORTED list of all values from the dictionary input_dict = {'Jack Dorsey' : 'Twitter' , 'Tim Cook' : 'Apple','Jeff Bezos' : 'Amazon' ,'Mukesh Ambani' : 'RJIO'}"
   ]
  },
  {
   "cell_type": "code",
   "execution_count": 10,
   "id": "e9e21f5e-44f7-4755-8bb5-c6586bf10e2d",
   "metadata": {},
   "outputs": [
    {
     "name": "stdout",
     "output_type": "stream",
     "text": [
      "[('Jeff Bezos', 'Amazon'), ('Tim Cook', 'Apple'), ('Mukesh Ambani', 'RJIO'), ('Jack Dorsey', 'Twitter')]\n"
     ]
    }
   ],
   "source": [
    "input_dict = {'Jack Dorsey' : 'Twitter' , 'Tim Cook' : 'Apple','Jeff Bezos' : 'Amazon' ,'Mukesh Ambani' : 'RJIO'}\n",
    "print(sorted(input_dict.items(),key=lambda x:x[1]))"
   ]
  },
  {
   "cell_type": "code",
   "execution_count": 5,
   "id": "1c22d0bf-491e-4d01-8ec5-8d0346697eed",
   "metadata": {},
   "outputs": [
    {
     "name": "stdout",
     "output_type": "stream",
     "text": [
      "{'country': 'Jamaica', 'songs': ['MJ', 'MS']}\n",
      "{'songs': ['MJ', 'MS']}\n"
     ]
    }
   ],
   "source": [
    "new_dict=dict(country=\"Jamaica\",songs=[\"MJ\",\"MS\"])\n",
    "print(new_dict)\n",
    "del new_dict['country']\n",
    "print(new_dict)"
   ]
  },
  {
   "cell_type": "markdown",
   "id": "71d544b5-ce3d-4a57-8b06-56e08ad7b366",
   "metadata": {},
   "source": [
    "Create a SORTED list of all values from the dictionary input_dict = {'Jack Dorsey' : 'Twitter' , 'Tim Cook' : 'Apple','Jeff Bezos' : 'Amazon' ,'Mukesh Ambani' : 'RJIO'}"
   ]
  },
  {
   "cell_type": "code",
   "execution_count": 6,
   "id": "34cbaff2-c5fa-44d6-9575-26d109513227",
   "metadata": {},
   "outputs": [
    {
     "name": "stdout",
     "output_type": "stream",
     "text": [
      "['Amazon', 'Apple', 'RJIO', 'Twitter']\n"
     ]
    }
   ],
   "source": [
    "input_dict = {'Jack Dorsey' : 'Twitter' , 'Tim Cook' : 'Apple','Jeff Bezos' : 'Amazon' ,'Mukesh Ambani' : 'RJIO'}\n",
    "\n",
    "value_list = input_dict.values()\n",
    "print(sorted(value_list))"
   ]
  },
  {
   "cell_type": "code",
   "execution_count": 7,
   "id": "fe932ebc-2978-4ec5-b68c-f832bf4fd52b",
   "metadata": {},
   "outputs": [
    {
     "name": "stdout",
     "output_type": "stream",
     "text": [
      "4\n"
     ]
    }
   ],
   "source": [
    "nums = set([1,1,2,3,3,3,4])\n",
    "print(len(nums))"
   ]
  },
  {
   "cell_type": "markdown",
   "id": "be2a3fce-c408-40f0-8465-d65d3da050db",
   "metadata": {},
   "source": [
    "Find the difference, using difference and symmetric_difference, between two given lists - list1 and list2.\n",
    "First, convert the lists into sets and store them as set_1 and set_2. Then store the difference and symmetric difference in answer_1 and answer_2 respectively. Print both the answers as sorted lists, i.e. convert the final sets to lists, sort it and then return it."
   ]
  },
  {
   "cell_type": "code",
   "execution_count": 11,
   "id": "3bc66c7d-d7e9-4c30-ab3e-72e1c2ebe369",
   "metadata": {},
   "outputs": [
    {
     "name": "stdout",
     "output_type": "stream",
     "text": [
      "[1]\n",
      "[1, 7, 8, 9]\n"
     ]
    }
   ],
   "source": [
    "\n",
    "input_list = [[1,2,3,4,5,6],[2,3,4,5,6,7,8,9]]\n",
    "list_1 = input_list[0]\n",
    "list_2 = input_list[1]\n",
    "\n",
    "set_1 =set(list_1)\n",
    "set_2 = set(list_2)\n",
    "answer_1 = list(set_1.difference(set_2))\n",
    "answer_2 = list(set_1.symmetric_difference(set_2))\n",
    "\n",
    "print(answer_1)\n",
    "print(answer_2)"
   ]
  },
  {
   "cell_type": "code",
   "execution_count": null,
   "id": "96e4ac8d-1a32-4976-b49d-803663dabb1a",
   "metadata": {},
   "outputs": [],
   "source": []
  }
 ],
 "metadata": {
  "kernelspec": {
   "display_name": "Python 3 (ipykernel)",
   "language": "python",
   "name": "python3"
  },
  "language_info": {
   "codemirror_mode": {
    "name": "ipython",
    "version": 3
   },
   "file_extension": ".py",
   "mimetype": "text/x-python",
   "name": "python",
   "nbconvert_exporter": "python",
   "pygments_lexer": "ipython3",
   "version": "3.10.6"
  }
 },
 "nbformat": 4,
 "nbformat_minor": 5
}

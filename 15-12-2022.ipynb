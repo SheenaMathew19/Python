{
 "cells": [
  {
   "cell_type": "markdown",
   "id": "54282927-4559-4b55-bd97-73586312de66",
   "metadata": {},
   "source": [
    "•\tWAP to accept an integer from the user and check whether it is an even or odd "
   ]
  },
  {
   "cell_type": "code",
   "execution_count": 5,
   "id": "babc97f6-2ecd-4299-9c53-cdd090a06a79",
   "metadata": {},
   "outputs": [
    {
     "name": "stdin",
     "output_type": "stream",
     "text": [
      "enter a number 12\n"
     ]
    },
    {
     "name": "stdout",
     "output_type": "stream",
     "text": [
      "number 12 is a even number\n"
     ]
    }
   ],
   "source": [
    "in_1=int(input(\"enter a number\"))\n",
    "if(in_1%2==0):\n",
    "    print(\"number {0} is a even number\".format(in_1))\n",
    "else:\n",
    "    print(\"number {0} is an odd number\".format(in_1))\n",
    "    \n"
   ]
  },
  {
   "cell_type": "markdown",
   "id": "695e6811-ec22-4993-9a9c-f5e957fd3e23",
   "metadata": {},
   "source": [
    "•\tWAP to accept a character from the user and check whether it is a capital letter or small letter or a digit or some special symbol\n",
    " 0 - 9      48 - 57\n",
    "A - Z     65 - 90\n",
    "a - z       97 - 122\n",
    "Special Characters  0-47, 58-64, 91-96, 123-127"
   ]
  },
  {
   "cell_type": "code",
   "execution_count": 9,
   "id": "8e7ccdba-09b3-4b62-9ff8-7b4038ee0f21",
   "metadata": {},
   "outputs": [
    {
     "name": "stdin",
     "output_type": "stream",
     "text": [
      "enter a character )\n"
     ]
    },
    {
     "name": "stdout",
     "output_type": "stream",
     "text": [
      "the character entered ) is special character\n"
     ]
    }
   ],
   "source": [
    "in_str=input(\"enter a character\")\n",
    "asci_str=ord(in_str)\n",
    "if(asci_str>=48) and (asci_str<=57):\n",
    "    print(\"the character entered {0} is digit\".format(in_str))\n",
    "elif(asci_str>=65) and (asci_str<=90):\n",
    "    print(\"the character entered {0} is capital letter\".format(in_str))\n",
    "elif(asci_str>=97) and (asci_str<=122):\n",
    "    print(\"the character entered {0} is small letter\".format(in_str))\n",
    "else:\n",
    "    print(\"the character entered {0} is special character\".format(in_str))\n",
    "    "
   ]
  },
  {
   "cell_type": "markdown",
   "id": "6c339d53-c9a2-417f-8d91-ebbc35175bb0",
   "metadata": {},
   "source": [
    "•\tWAP to accept 3 integers from the user and without using any logical operator and cascading of relational operators , find out the greatest number amongst them"
   ]
  },
  {
   "cell_type": "code",
   "execution_count": 17,
   "id": "52595c78-0364-4e7f-bc9f-a1fe604c0030",
   "metadata": {},
   "outputs": [
    {
     "name": "stdin",
     "output_type": "stream",
     "text": [
      "enter 3 numbers with space inbetween them 20 30 10\n"
     ]
    },
    {
     "name": "stdout",
     "output_type": "stream",
     "text": [
      "number 2 30 is largest\n"
     ]
    }
   ],
   "source": [
    "in_1=input(\"enter 3 numbers with space inbetween them\")\n",
    "number1,number2,number3=in_1.split()\n",
    "num1=int(number1)\n",
    "num2=int(number2)\n",
    "num3=int(number3)\n",
    "\n",
    "if(number1>number2) and ( number1>number3):\n",
    "    print(\"number 1 {0} is largest\".format(number1))\n",
    "elif(number2>number1) and ( number2>number3):\n",
    "    print(\"number 2 {0} is largest\".format(number2))\n",
    "else:\n",
    "   print(\"number 3 {0} is largest\".format(number3))"
   ]
  },
  {
   "cell_type": "markdown",
   "id": "792bf851-a804-4736-b981-4871cd57aa94",
   "metadata": {},
   "source": [
    "•\tWAP to accept a year from the user and check whether it is a leap year or not.\n",
    "An year is a leap year if:\n",
    "It is exactly divisible by 4 and at the same time not\n",
    "divisible by 100\n",
    "OR\n",
    "It is divisible by 400\n",
    "For example:\n",
    "2017 is not a leap year\n",
    "2012 is a leap year\n",
    "1900 is a not leap year\n",
    "2000 is a leap year"
   ]
  },
  {
   "cell_type": "code",
   "execution_count": 2,
   "id": "62f5a875-40ef-4ffd-b3f0-b9e0c4f9207c",
   "metadata": {},
   "outputs": [
    {
     "name": "stdin",
     "output_type": "stream",
     "text": [
      "enter a year 2022\n"
     ]
    },
    {
     "name": "stdout",
     "output_type": "stream",
     "text": [
      " 2022 is not a leap year\n"
     ]
    }
   ],
   "source": [
    "in_1=int(input(\"enter a year\"))\n",
    "if(in_1%4==0):\n",
    "    print(\" {0} is a leap year\".format(in_1))\n",
    "elif(in_1%100==0):\n",
    "    print(\" {0} is not a leap year\".format(in_1))\n",
    "elif(in_1%400==0):\n",
    "    print(\" {0} is a leap year\".format(in_1))\n",
    "else:\n",
    "    print(\" {0} is not a leap year\".format(in_1))"
   ]
  },
  {
   "cell_type": "markdown",
   "id": "154dffbf-6c3f-46b7-88eb-1c3a668191db",
   "metadata": {},
   "source": [
    "•\tYou have to develop a number guessing game. Following are the steps needed:\n",
    "•\tAt first , the program will generate a random integer secretly.\n",
    "•\tNow it will ask the user to guess that number .\n",
    "•\tIf the user guessed it correctly then the program prints “Congratulations! You guessed it right” .\n",
    "•\tBut if the number guessed by the user is larger than the secret number then program should print “Number too large” and , if the number guessed by the user is smaller than the secret number then the program should print “Number too small” \n",
    "•\tThis should continue until the user guesses the number correctly or quits .\n",
    "•\tIf the user wants to quit in between he will have to type 0 or negative number\n"
   ]
  },
  {
   "cell_type": "code",
   "execution_count": 12,
   "id": "61df3199-14db-4d21-afcc-22ee88236b3c",
   "metadata": {},
   "outputs": [
    {
     "name": "stdout",
     "output_type": "stream",
     "text": [
      "random number generated is 36\n",
      "0 or negative number to quit\n"
     ]
    },
    {
     "name": "stdin",
     "output_type": "stream",
     "text": [
      "enter a random number 56\n"
     ]
    },
    {
     "name": "stdout",
     "output_type": "stream",
     "text": [
      "Number too large\n"
     ]
    },
    {
     "name": "stdin",
     "output_type": "stream",
     "text": [
      "enter a number again 45\n"
     ]
    },
    {
     "name": "stdout",
     "output_type": "stream",
     "text": [
      "Number too large\n"
     ]
    },
    {
     "name": "stdin",
     "output_type": "stream",
     "text": [
      "enter a number again 0\n"
     ]
    }
   ],
   "source": [
    "import random\n",
    "a=random.randint(0,100)\n",
    "print(\"random number generated is {0}\".format(a))\n",
    "print(\"0 or negative number to quit\")\n",
    "in_1=int(input(\"enter a random number\"))\n",
    "while(in_1>0): \n",
    "    if(in_1==a):\n",
    "        print(\"Congratulations! You guessed it right\")\n",
    "        break\n",
    "    elif(in_1>a):\n",
    "        print(\"Number too large\")\n",
    "    else:\n",
    "        print(\"Number is too small\")\n",
    "    in_1=int(input(\"enter a number again\"))\n",
    "      \n",
    "    "
   ]
  },
  {
   "cell_type": "markdown",
   "id": "b6eda948-9f6d-48c9-93f9-e3e8c1b4cfb5",
   "metadata": {},
   "source": [
    "\tWrite a program to continuously accept integers from the user until the user types 0 and as soon as 0 is entered display sum of all the nos entered before 0\n",
    "Note:Modify the previous code so that if the user inputs a negative integer , your program should ignore it .\n"
   ]
  },
  {
   "cell_type": "code",
   "execution_count": 4,
   "id": "b6473063-d471-4959-afc3-8019455c4804",
   "metadata": {},
   "outputs": [
    {
     "name": "stdin",
     "output_type": "stream",
     "text": [
      "write a number, if zero entered program will quit 1\n",
      "enter the number again 2\n",
      "enter the number again 3\n",
      "enter the number again 0\n"
     ]
    },
    {
     "name": "stdout",
     "output_type": "stream",
     "text": [
      "6\n"
     ]
    }
   ],
   "source": [
    "def getsum(in_1):\n",
    "    sum1=0\n",
    "    while(int(in_1)>0):\n",
    "        sum1=sum1+int(in_1)\n",
    "        in_1=int(input(\"enter the number again\"))\n",
    "    return sum1   \n",
    "\n",
    "in_1=input(\"write a number, if zero entered program will quit\")\n",
    "print(getsum(in_1))"
   ]
  },
  {
   "cell_type": "markdown",
   "id": "18d2eee1-a8b0-4a11-acaf-271f6b9de920",
   "metadata": {},
   "source": [
    "•\tWrite a program to accept an integer from the user and display the sum of all the numbers from 1 to that number."
   ]
  },
  {
   "cell_type": "code",
   "execution_count": 8,
   "id": "27ee4599-e5bf-4b4f-b6a0-f8f8e8fd78cc",
   "metadata": {},
   "outputs": [
    {
     "name": "stdin",
     "output_type": "stream",
     "text": [
      "enter a number 3\n"
     ]
    },
    {
     "name": "stdout",
     "output_type": "stream",
     "text": [
      "6\n"
     ]
    }
   ],
   "source": [
    "def getaccsum(in_1):\n",
    "    sum1=0\n",
    "    inc=0\n",
    "    while(inc<=in_1):\n",
    "        sum1+=inc\n",
    "        inc=inc+1\n",
    "    return sum1\n",
    "        \n",
    "in_1=input(\"enter a number\")\n",
    "print(getaccsum(int(in_1)))"
   ]
  },
  {
   "cell_type": "markdown",
   "id": "4a1b6c73-d167-4386-a3a0-fa96470fe6d7",
   "metadata": {},
   "source": [
    "•\tWrite a program to accept an integer from the user and calculate its factorial"
   ]
  },
  {
   "cell_type": "code",
   "execution_count": 20,
   "id": "4cd156e4-d705-457c-8982-c555d111c7c6",
   "metadata": {},
   "outputs": [
    {
     "name": "stdin",
     "output_type": "stream",
     "text": [
      "enter a number 4\n"
     ]
    },
    {
     "name": "stdout",
     "output_type": "stream",
     "text": [
      "24\n"
     ]
    }
   ],
   "source": [
    "def getfact( a):\n",
    "    if a==0:\n",
    "        return a\n",
    "    fact1=1\n",
    "    inc=1\n",
    "    while(inc<=a):\n",
    "        fact1=fact1*inc\n",
    "        inc=inc+1\n",
    "    return fact1\n",
    "\n",
    "a=input(\"enter a number\")\n",
    "print(getfact(int(a)))"
   ]
  },
  {
   "cell_type": "markdown",
   "id": "633fb897-5e6e-4339-8fac-c63e7f22ef30",
   "metadata": {},
   "source": [
    "•\tWrite a program to accept an integer from the user and display all the numbers from 1 to that number. Repeat the process until the user enters 0."
   ]
  },
  {
   "cell_type": "code",
   "execution_count": 28,
   "id": "57651ed2-3468-42df-9a44-7fd440fb35b1",
   "metadata": {},
   "outputs": [
    {
     "name": "stdin",
     "output_type": "stream",
     "text": [
      "enter a number 5\n"
     ]
    },
    {
     "name": "stdout",
     "output_type": "stream",
     "text": [
      "[0, 1, 2, 3, 4, 5]\n"
     ]
    }
   ],
   "source": [
    "def getnum(a):\n",
    "    if(a==0):\n",
    "        return a\n",
    "    list1=[]\n",
    "    inc=0\n",
    "    while(inc<=a):\n",
    "        list1.append(inc)\n",
    "        inc=inc+1\n",
    "    return list1\n",
    "    \n",
    "\n",
    "a=input(\"enter a number\")\n",
    "print(getnum(int(a)))"
   ]
  },
  {
   "cell_type": "code",
   "execution_count": null,
   "id": "98514db5-f44b-4a81-a275-5f7948cc5bc2",
   "metadata": {},
   "outputs": [],
   "source": []
  }
 ],
 "metadata": {
  "kernelspec": {
   "display_name": "Python 3 (ipykernel)",
   "language": "python",
   "name": "python3"
  },
  "language_info": {
   "codemirror_mode": {
    "name": "ipython",
    "version": 3
   },
   "file_extension": ".py",
   "mimetype": "text/x-python",
   "name": "python",
   "nbconvert_exporter": "python",
   "pygments_lexer": "ipython3",
   "version": "3.10.6"
  }
 },
 "nbformat": 4,
 "nbformat_minor": 5
}

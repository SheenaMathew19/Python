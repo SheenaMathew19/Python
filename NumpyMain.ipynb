{
 "cells": [
  {
   "cell_type": "code",
   "execution_count": 8,
   "id": "ded5399d-b229-483a-addd-8e85e97452ca",
   "metadata": {},
   "outputs": [
    {
     "name": "stdout",
     "output_type": "stream",
     "text": [
      "[23 34 45 66 35  4]\n",
      "maximum age is 66\n",
      "minimum age is  34.5\n",
      "average age is  34\n",
      "mean is: 34.5\n",
      "standard deviation is  18.997806890972093\n"
     ]
    }
   ],
   "source": [
    "import numpy as np\n",
    "passengers_age=[23,34,45,66,35,4]\n",
    "parr=np.array(passengers_age)\n",
    "print(parr)\n",
    "print(\"maximum age is\",parr.max())\n",
    "print(\"minimum age is \",parr.mean())\n",
    "print(\"average age is \", round(parr.mean()))\n",
    "print(\"mean is:\",np.median(parr))\n",
    "print(\"standard deviation is \",parr.std())\n"
   ]
  },
  {
   "cell_type": "code",
   "execution_count": 9,
   "id": "664fb94b-ae90-4a79-9774-2dbb0d946535",
   "metadata": {},
   "outputs": [
    {
     "name": "stdout",
     "output_type": "stream",
     "text": [
      "[23, 34, 45, 66, 35, 4]\n",
      "[23 34 45 66 35  4]\n"
     ]
    }
   ],
   "source": [
    "print(passengers_age)\n",
    "print(parr)"
   ]
  },
  {
   "cell_type": "code",
   "execution_count": 10,
   "id": "a82a0adc-aa54-44bb-85a6-5b7c86209c3e",
   "metadata": {},
   "outputs": [
    {
     "data": {
      "text/plain": [
       "array([24, 35, 46, 67, 36,  5])"
      ]
     },
     "execution_count": 10,
     "metadata": {},
     "output_type": "execute_result"
    }
   ],
   "source": [
    "parr+1\n",
    "## only in nd array we can increment the value without iterating"
   ]
  },
  {
   "cell_type": "code",
   "execution_count": 11,
   "id": "d7be7dac-e7f6-48c2-83c0-19dce7761df5",
   "metadata": {},
   "outputs": [
    {
     "name": "stdout",
     "output_type": "stream",
     "text": [
      "28  bytes\n"
     ]
    }
   ],
   "source": [
    "import sys \n",
    "print(sys.getsizeof(5),' bytes')\n",
    "## how much memory is occupied by python"
   ]
  },
  {
   "cell_type": "code",
   "execution_count": 12,
   "id": "43cd431e-2ca7-4e6f-9058-984c057af52b",
   "metadata": {},
   "outputs": [
    {
     "name": "stdout",
     "output_type": "stream",
     "text": [
      "8  bytes\n"
     ]
    }
   ],
   "source": [
    "import numpy as np\n",
    "print(np.array([1,2,3]).itemsize,' bytes')"
   ]
  },
  {
   "cell_type": "code",
   "execution_count": 17,
   "id": "48f3c0b9-7e77-4743-8c75-241bdf7f5f19",
   "metadata": {},
   "outputs": [
    {
     "name": "stdout",
     "output_type": "stream",
     "text": [
      "Python took  948.8680362701416  ms\n",
      "Numpy took  135.819673538208  ms\n"
     ]
    }
   ],
   "source": [
    "###speed test\n",
    "import time\n",
    "import numpy as np\n",
    "\n",
    "SIZE = 10000000\n",
    "\n",
    "A1 = range(SIZE)\n",
    "A2 = range(SIZE)\n",
    "\n",
    "L1 = np.arange(SIZE)\n",
    "L2 = np.arange(SIZE)\n",
    "\n",
    "\n",
    "start = time.time()\n",
    "result =[x+y for x,y in zip(A1,A2)]\n",
    "stop = time.time()\n",
    "\n",
    "print('Python took ', (stop-start) * 1000, ' ms')\n",
    "\n",
    "start = time.time()\n",
    "result = L1 + L2\n",
    "stop = time.time()\n",
    "\n",
    "print('Numpy took ',(stop-start) * 1000 , ' ms')\n"
   ]
  },
  {
   "cell_type": "code",
   "execution_count": 19,
   "id": "a9988f8f-4613-4087-897b-deaff4bdbd28",
   "metadata": {},
   "outputs": [
    {
     "name": "stdout",
     "output_type": "stream",
     "text": [
      "[23 34 45 66 35 89]\n",
      "dimension 1\n"
     ]
    }
   ],
   "source": [
    "marks=[23, 34, 45, 66, 35, 89]\n",
    "n_array=np.array(marks)\n",
    "print(n_array)\n",
    "print(\"dimension\",n_array.ndim)\n"
   ]
  },
  {
   "cell_type": "code",
   "execution_count": 20,
   "id": "1415786e-4beb-4b8c-8aa8-680c1aff5208",
   "metadata": {},
   "outputs": [],
   "source": [
    "n2_array=[[23, 34, 45, 66, 35, 89],\n",
    "          [56,78,57,23,89,74]]\n",
    "b_array=np.array(n2_array)"
   ]
  },
  {
   "cell_type": "code",
   "execution_count": null,
   "id": "aa125c3d-0596-433e-b3f0-59f5620750b5",
   "metadata": {},
   "outputs": [],
   "source": []
  }
 ],
 "metadata": {
  "kernelspec": {
   "display_name": "Python 3 (ipykernel)",
   "language": "python",
   "name": "python3"
  },
  "language_info": {
   "codemirror_mode": {
    "name": "ipython",
    "version": 3
   },
   "file_extension": ".py",
   "mimetype": "text/x-python",
   "name": "python",
   "nbconvert_exporter": "python",
   "pygments_lexer": "ipython3",
   "version": "3.10.6"
  }
 },
 "nbformat": 4,
 "nbformat_minor": 5
}
